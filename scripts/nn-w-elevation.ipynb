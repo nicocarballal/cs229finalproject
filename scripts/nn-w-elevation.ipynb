{
 "cells": [
  {
   "cell_type": "markdown",
   "metadata": {},
   "source": [
    "<div class=\"alert alert-block alert-info\">\n",
    "<b>Imports:</b> Common imports for NumPy, MatplotLib, Pandas, and OS </div>"
   ]
  },
  {
   "cell_type": "code",
   "execution_count": 1,
   "metadata": {},
   "outputs": [],
   "source": [
    "## Import for data generation\n",
    "import numpy as np\n",
    "import matplotlib.pyplot as plt\n",
    "import pandas as pd\n",
    "import os\n",
    "import pickle"
   ]
  },
  {
   "cell_type": "markdown",
   "metadata": {},
   "source": [
    "<div class=\"alert alert-block alert-info\">\n",
    "<b>ML Imports:</b> Imports to execute RNN model for sequential data </div>"
   ]
  },
  {
   "cell_type": "code",
   "execution_count": 3,
   "metadata": {},
   "outputs": [],
   "source": [
    "from keras.models import Sequential\n",
    "from keras.layers import LSTM, Dense, Dropout\n",
    "import tensorflow as tf\n",
    "from pyspark import SparkContext\n",
    "from sklearn import decomposition\n",
    "from sklearn import datasets\n",
    "from sklearn.preprocessing import StandardScaler"
   ]
  },
  {
   "cell_type": "markdown",
   "metadata": {},
   "source": [
    "<div class=\"alert alert-block alert-warning\">\n",
    "<b>nn_train_test() function:</b> \n",
    "    \n",
    "This function takes inputs:\n",
    "    \n",
    "    path --> path to the repository with all your .npy file\n",
    "    n_future --> number of future days of fire you want to predict (will be 1 for us)\n",
    "    n_comp --> number of principal componenents you want PCA to reduce to\n",
    "    n_past --> number of past days you want to consider (we can experiment with this)\n",
    "    \n",
    "Outputs:\n",
    "    \n",
    "    input_dim is set to a 1-D array of 256 ^ 2 for now! \n",
    "    x_train --> x_train in format (batch_size, timesteps, input_dim)\n",
    "    y_train --> training data in format (batch_size, input_dim)\n",
    "    pca_array --> an array of all of the PCA's done to the x_training data in a row. This is useful when computing the \n",
    "    inverse of the results of your neural net!\n",
    "    \n",
    "</div>"
   ]
  },
  {
   "cell_type": "code",
   "execution_count": 156,
   "metadata": {},
   "outputs": [],
   "source": [
    "def nn_train_test(path, n_past, n_comp, n_future = 1):\n",
    "    x_train_list = []\n",
    "    y_train_list = []\n",
    "    count = 0\n",
    "    pca_array = []\n",
    "    for file in os.listdir(r\"{path}\".format(path = path)):\n",
    "        if os.path.getsize(\"{path}\\\\{file}\".format(path = path, file = file)) < 10000000:\n",
    "            continue\n",
    "        with open(\"{path}\\\\{file}\".format(path = path, file = file), 'rb') as f:\n",
    "            data = pickle.load(f)\n",
    "        training_fire = data['multiDay']\n",
    "        elevation_data = data['Elevation Data'][:-1,:-1]\n",
    "        elev_shape = np.array(elevation_data.shape)\n",
    "        elevation_fire = np.zeros((256, 256))\n",
    "        shape = np.array(training_fire.shape) \n",
    "        if shape[0] < n_past + n_future:\n",
    "            continue\n",
    "        standard_fire = np.zeros((len(training_fire), 256, 256))    \n",
    "        if shape[1] > 255 or shape[2] > 255:\n",
    "            standard_fire[:shape[0], :min(256, shape[1]), :min(256, shape[2])] = training_fire[:, :256, :256]           \n",
    "        else: \n",
    "            standard_fire[:shape[0], :shape[1], :shape[2]] = training_fire     \n",
    "            \n",
    "        if elev_shape[0] > 255 or elev_shape[1] > 255:\n",
    "            elevation_fire[:min(256, elev_shape[0]), :min(256, elev_shape[1])] = elevation_data[:256, :256]\n",
    "        else:\n",
    "            elevation_fire[:min(256, elev_shape[0]), :min(256, elev_shape[1])] = elevation_data\n",
    "        n_comp = 5\n",
    "        shape = standard_fire.shape\n",
    "        pca_fire = np.zeros((shape[0], shape[1], n_comp))\n",
    "        j = 0\n",
    "        pca_dict = {}\n",
    "        for day in standard_fire:\n",
    "            pca = decomposition.PCA(n_components=n_comp)\n",
    "            #plt.matshow(day)\n",
    "            #np.random.seed(134)           \n",
    "            day = pca.fit_transform(day)                       \n",
    "            #plt.matshow(day)            \n",
    "            #print('------')            \n",
    "            #np.random.seed(134)            \n",
    "            pca_fire[j] = day\n",
    "            j += 1\n",
    "            pca_dict[j] = pca     \n",
    "        \n",
    "        pca_elevation = decomposition.PCA(n_components = n_comp)\n",
    "        pca_elev = pca_elevation.fit_transform(elevation_fire)\n",
    "        elev_shape = np.array(pca_elev.shape)\n",
    "        pca_elev = np.reshape(pca_elev, (elev_shape[0] * elev_shape[1]))\n",
    "        \n",
    "        shape = pca_fire.shape    \n",
    "        pca_fire = np.reshape(pca_fire, (shape[0], shape[1] * shape[2]))\n",
    "        x_train = np.zeros((n_past, pca_fire.shape[1]))\n",
    "        y_train = np.zeros((pca_fire.shape[1]))\n",
    "        for i in range(0 , len(pca_fire) - n_future - n_past + 1):\n",
    "            prev_fires_and_elevation = np.vstack((pca_fire[i : i + n_past], pca_elev))\n",
    "            x_train_list.append(prev_fires_and_elevation)\n",
    "            y_train_list.append(pca_fire[i + n_past: i + n_past + n_future])\n",
    "            pca_array.append(pca_dict[i + n_past])\n",
    "        print(data['fireID'])\n",
    "        print(len(x_train_list), len(y_train_list), len(pca_array))\n",
    "    x_train = np.array(x_train_list)\n",
    "    y_train = np.array(y_train_list)  \n",
    "    \n",
    "    x_train = np.reshape(x_train, (x_train.shape[0],  x_train.shape[2], x_train.shape[1]))\n",
    "    y_train = np.reshape(y_train, (y_train.shape[0], y_train.shape[2]))    \n",
    "    print(x_train.shape, y_train.shape, len(pca_array))\n",
    "    return x_train, y_train, pca_array"
   ]
  },
  {
   "cell_type": "markdown",
   "metadata": {},
   "source": [
    "<div class=\"alert alert-block alert-warning\">\n",
    "<b>RNN Inputs:</b> \n",
    "We are declaring below that the number of future days we want to predict is 1, and we can vary the number of past days\n",
    "    we want to predict (I have the default as 3 for now)\n",
    "\n",
    "</div>"
   ]
  },
  {
   "cell_type": "code",
   "execution_count": 5,
   "metadata": {},
   "outputs": [],
   "source": [
    "n_future = 1\n",
    "n_comp = 5\n",
    "n_past = 3"
   ]
  },
  {
   "cell_type": "markdown",
   "metadata": {},
   "source": [
    "<div class=\"alert alert-block alert-warning\">\n",
    "<b>Input Data for Training:</b> \n",
    "    Below, we get the input data from December 2018! \n",
    "</div>"
   ]
  },
  {
   "cell_type": "code",
   "execution_count": 158,
   "metadata": {
    "scrolled": false
   },
   "outputs": [
    {
     "name": "stderr",
     "output_type": "stream",
     "text": [
      "C:\\Users\\nicoc\\Anaconda3\\lib\\site-packages\\sklearn\\decomposition\\pca.py:447: RuntimeWarning: invalid value encountered in true_divide\n",
      "  explained_variance_ratio_ = explained_variance_ / total_var\n",
      "C:\\Users\\nicoc\\Anaconda3\\lib\\site-packages\\sklearn\\decomposition\\pca.py:447: RuntimeWarning: invalid value encountered in true_divide\n",
      "  explained_variance_ratio_ = explained_variance_ / total_var\n",
      "C:\\Users\\nicoc\\Anaconda3\\lib\\site-packages\\sklearn\\decomposition\\pca.py:447: RuntimeWarning: invalid value encountered in true_divide\n",
      "  explained_variance_ratio_ = explained_variance_ / total_var\n",
      "C:\\Users\\nicoc\\Anaconda3\\lib\\site-packages\\sklearn\\decomposition\\pca.py:447: RuntimeWarning: invalid value encountered in true_divide\n",
      "  explained_variance_ratio_ = explained_variance_ / total_var\n",
      "C:\\Users\\nicoc\\Anaconda3\\lib\\site-packages\\sklearn\\decomposition\\pca.py:447: RuntimeWarning: invalid value encountered in true_divide\n",
      "  explained_variance_ratio_ = explained_variance_ / total_var\n",
      "C:\\Users\\nicoc\\Anaconda3\\lib\\site-packages\\sklearn\\decomposition\\pca.py:447: RuntimeWarning: invalid value encountered in true_divide\n",
      "  explained_variance_ratio_ = explained_variance_ / total_var\n"
     ]
    },
    {
     "name": "stdout",
     "output_type": "stream",
     "text": [
      "21121280\n",
      "41 41 41\n"
     ]
    },
    {
     "name": "stderr",
     "output_type": "stream",
     "text": [
      "C:\\Users\\nicoc\\Anaconda3\\lib\\site-packages\\sklearn\\decomposition\\pca.py:447: RuntimeWarning: invalid value encountered in true_divide\n",
      "  explained_variance_ratio_ = explained_variance_ / total_var\n",
      "C:\\Users\\nicoc\\Anaconda3\\lib\\site-packages\\sklearn\\decomposition\\pca.py:447: RuntimeWarning: invalid value encountered in true_divide\n",
      "  explained_variance_ratio_ = explained_variance_ / total_var\n",
      "C:\\Users\\nicoc\\Anaconda3\\lib\\site-packages\\sklearn\\decomposition\\pca.py:447: RuntimeWarning: invalid value encountered in true_divide\n",
      "  explained_variance_ratio_ = explained_variance_ / total_var\n",
      "C:\\Users\\nicoc\\Anaconda3\\lib\\site-packages\\sklearn\\decomposition\\pca.py:447: RuntimeWarning: invalid value encountered in true_divide\n",
      "  explained_variance_ratio_ = explained_variance_ / total_var\n",
      "C:\\Users\\nicoc\\Anaconda3\\lib\\site-packages\\sklearn\\decomposition\\pca.py:447: RuntimeWarning: invalid value encountered in true_divide\n",
      "  explained_variance_ratio_ = explained_variance_ / total_var\n",
      "C:\\Users\\nicoc\\Anaconda3\\lib\\site-packages\\sklearn\\decomposition\\pca.py:447: RuntimeWarning: invalid value encountered in true_divide\n",
      "  explained_variance_ratio_ = explained_variance_ / total_var\n",
      "C:\\Users\\nicoc\\Anaconda3\\lib\\site-packages\\sklearn\\decomposition\\pca.py:447: RuntimeWarning: invalid value encountered in true_divide\n",
      "  explained_variance_ratio_ = explained_variance_ / total_var\n",
      "C:\\Users\\nicoc\\Anaconda3\\lib\\site-packages\\sklearn\\decomposition\\pca.py:447: RuntimeWarning: invalid value encountered in true_divide\n",
      "  explained_variance_ratio_ = explained_variance_ / total_var\n",
      "C:\\Users\\nicoc\\Anaconda3\\lib\\site-packages\\sklearn\\decomposition\\pca.py:447: RuntimeWarning: invalid value encountered in true_divide\n",
      "  explained_variance_ratio_ = explained_variance_ / total_var\n",
      "C:\\Users\\nicoc\\Anaconda3\\lib\\site-packages\\sklearn\\decomposition\\pca.py:447: RuntimeWarning: invalid value encountered in true_divide\n",
      "  explained_variance_ratio_ = explained_variance_ / total_var\n",
      "C:\\Users\\nicoc\\Anaconda3\\lib\\site-packages\\sklearn\\decomposition\\pca.py:447: RuntimeWarning: invalid value encountered in true_divide\n",
      "  explained_variance_ratio_ = explained_variance_ / total_var\n"
     ]
    },
    {
     "name": "stdout",
     "output_type": "stream",
     "text": [
      "21121324\n",
      "77 77 77\n"
     ]
    },
    {
     "name": "stderr",
     "output_type": "stream",
     "text": [
      "C:\\Users\\nicoc\\Anaconda3\\lib\\site-packages\\sklearn\\decomposition\\pca.py:447: RuntimeWarning: invalid value encountered in true_divide\n",
      "  explained_variance_ratio_ = explained_variance_ / total_var\n"
     ]
    },
    {
     "name": "stdout",
     "output_type": "stream",
     "text": [
      "21121338\n",
      "109 109 109\n"
     ]
    },
    {
     "name": "stderr",
     "output_type": "stream",
     "text": [
      "C:\\Users\\nicoc\\Anaconda3\\lib\\site-packages\\sklearn\\decomposition\\pca.py:447: RuntimeWarning: invalid value encountered in true_divide\n",
      "  explained_variance_ratio_ = explained_variance_ / total_var\n",
      "C:\\Users\\nicoc\\Anaconda3\\lib\\site-packages\\sklearn\\decomposition\\pca.py:447: RuntimeWarning: invalid value encountered in true_divide\n",
      "  explained_variance_ratio_ = explained_variance_ / total_var\n",
      "C:\\Users\\nicoc\\Anaconda3\\lib\\site-packages\\sklearn\\decomposition\\pca.py:447: RuntimeWarning: invalid value encountered in true_divide\n",
      "  explained_variance_ratio_ = explained_variance_ / total_var\n",
      "C:\\Users\\nicoc\\Anaconda3\\lib\\site-packages\\sklearn\\decomposition\\pca.py:447: RuntimeWarning: invalid value encountered in true_divide\n",
      "  explained_variance_ratio_ = explained_variance_ / total_var\n"
     ]
    },
    {
     "name": "stdout",
     "output_type": "stream",
     "text": [
      "21121519\n",
      "133 133 133\n"
     ]
    },
    {
     "name": "stderr",
     "output_type": "stream",
     "text": [
      "C:\\Users\\nicoc\\Anaconda3\\lib\\site-packages\\sklearn\\decomposition\\pca.py:447: RuntimeWarning: invalid value encountered in true_divide\n",
      "  explained_variance_ratio_ = explained_variance_ / total_var\n",
      "C:\\Users\\nicoc\\Anaconda3\\lib\\site-packages\\sklearn\\decomposition\\pca.py:447: RuntimeWarning: invalid value encountered in true_divide\n",
      "  explained_variance_ratio_ = explained_variance_ / total_var\n",
      "C:\\Users\\nicoc\\Anaconda3\\lib\\site-packages\\sklearn\\decomposition\\pca.py:447: RuntimeWarning: invalid value encountered in true_divide\n",
      "  explained_variance_ratio_ = explained_variance_ / total_var\n",
      "C:\\Users\\nicoc\\Anaconda3\\lib\\site-packages\\sklearn\\decomposition\\pca.py:447: RuntimeWarning: invalid value encountered in true_divide\n",
      "  explained_variance_ratio_ = explained_variance_ / total_var\n",
      "C:\\Users\\nicoc\\Anaconda3\\lib\\site-packages\\sklearn\\decomposition\\pca.py:447: RuntimeWarning: invalid value encountered in true_divide\n",
      "  explained_variance_ratio_ = explained_variance_ / total_var\n"
     ]
    },
    {
     "name": "stdout",
     "output_type": "stream",
     "text": [
      "21121652\n",
      "158 158 158\n"
     ]
    },
    {
     "name": "stderr",
     "output_type": "stream",
     "text": [
      "C:\\Users\\nicoc\\Anaconda3\\lib\\site-packages\\sklearn\\decomposition\\pca.py:447: RuntimeWarning: invalid value encountered in true_divide\n",
      "  explained_variance_ratio_ = explained_variance_ / total_var\n",
      "C:\\Users\\nicoc\\Anaconda3\\lib\\site-packages\\sklearn\\decomposition\\pca.py:447: RuntimeWarning: invalid value encountered in true_divide\n",
      "  explained_variance_ratio_ = explained_variance_ / total_var\n",
      "C:\\Users\\nicoc\\Anaconda3\\lib\\site-packages\\sklearn\\decomposition\\pca.py:447: RuntimeWarning: invalid value encountered in true_divide\n",
      "  explained_variance_ratio_ = explained_variance_ / total_var\n",
      "C:\\Users\\nicoc\\Anaconda3\\lib\\site-packages\\sklearn\\decomposition\\pca.py:447: RuntimeWarning: invalid value encountered in true_divide\n",
      "  explained_variance_ratio_ = explained_variance_ / total_var\n",
      "C:\\Users\\nicoc\\Anaconda3\\lib\\site-packages\\sklearn\\decomposition\\pca.py:447: RuntimeWarning: invalid value encountered in true_divide\n",
      "  explained_variance_ratio_ = explained_variance_ / total_var\n",
      "C:\\Users\\nicoc\\Anaconda3\\lib\\site-packages\\sklearn\\decomposition\\pca.py:447: RuntimeWarning: invalid value encountered in true_divide\n",
      "  explained_variance_ratio_ = explained_variance_ / total_var\n",
      "C:\\Users\\nicoc\\Anaconda3\\lib\\site-packages\\sklearn\\decomposition\\pca.py:447: RuntimeWarning: invalid value encountered in true_divide\n",
      "  explained_variance_ratio_ = explained_variance_ / total_var\n",
      "C:\\Users\\nicoc\\Anaconda3\\lib\\site-packages\\sklearn\\decomposition\\pca.py:447: RuntimeWarning: invalid value encountered in true_divide\n",
      "  explained_variance_ratio_ = explained_variance_ / total_var\n",
      "C:\\Users\\nicoc\\Anaconda3\\lib\\site-packages\\sklearn\\decomposition\\pca.py:447: RuntimeWarning: invalid value encountered in true_divide\n",
      "  explained_variance_ratio_ = explained_variance_ / total_var\n",
      "C:\\Users\\nicoc\\Anaconda3\\lib\\site-packages\\sklearn\\decomposition\\pca.py:447: RuntimeWarning: invalid value encountered in true_divide\n",
      "  explained_variance_ratio_ = explained_variance_ / total_var\n",
      "C:\\Users\\nicoc\\Anaconda3\\lib\\site-packages\\sklearn\\decomposition\\pca.py:447: RuntimeWarning: invalid value encountered in true_divide\n",
      "  explained_variance_ratio_ = explained_variance_ / total_var\n"
     ]
    },
    {
     "name": "stdout",
     "output_type": "stream",
     "text": [
      "21121714\n",
      "212 212 212\n"
     ]
    },
    {
     "name": "stderr",
     "output_type": "stream",
     "text": [
      "C:\\Users\\nicoc\\Anaconda3\\lib\\site-packages\\sklearn\\decomposition\\pca.py:447: RuntimeWarning: invalid value encountered in true_divide\n",
      "  explained_variance_ratio_ = explained_variance_ / total_var\n",
      "C:\\Users\\nicoc\\Anaconda3\\lib\\site-packages\\sklearn\\decomposition\\pca.py:447: RuntimeWarning: invalid value encountered in true_divide\n",
      "  explained_variance_ratio_ = explained_variance_ / total_var\n",
      "C:\\Users\\nicoc\\Anaconda3\\lib\\site-packages\\sklearn\\decomposition\\pca.py:447: RuntimeWarning: invalid value encountered in true_divide\n",
      "  explained_variance_ratio_ = explained_variance_ / total_var\n",
      "C:\\Users\\nicoc\\Anaconda3\\lib\\site-packages\\sklearn\\decomposition\\pca.py:447: RuntimeWarning: invalid value encountered in true_divide\n",
      "  explained_variance_ratio_ = explained_variance_ / total_var\n",
      "C:\\Users\\nicoc\\Anaconda3\\lib\\site-packages\\sklearn\\decomposition\\pca.py:447: RuntimeWarning: invalid value encountered in true_divide\n",
      "  explained_variance_ratio_ = explained_variance_ / total_var\n",
      "C:\\Users\\nicoc\\Anaconda3\\lib\\site-packages\\sklearn\\decomposition\\pca.py:447: RuntimeWarning: invalid value encountered in true_divide\n",
      "  explained_variance_ratio_ = explained_variance_ / total_var\n",
      "C:\\Users\\nicoc\\Anaconda3\\lib\\site-packages\\sklearn\\decomposition\\pca.py:447: RuntimeWarning: invalid value encountered in true_divide\n",
      "  explained_variance_ratio_ = explained_variance_ / total_var\n",
      "C:\\Users\\nicoc\\Anaconda3\\lib\\site-packages\\sklearn\\decomposition\\pca.py:447: RuntimeWarning: invalid value encountered in true_divide\n",
      "  explained_variance_ratio_ = explained_variance_ / total_var\n",
      "C:\\Users\\nicoc\\Anaconda3\\lib\\site-packages\\sklearn\\decomposition\\pca.py:447: RuntimeWarning: invalid value encountered in true_divide\n",
      "  explained_variance_ratio_ = explained_variance_ / total_var\n",
      "C:\\Users\\nicoc\\Anaconda3\\lib\\site-packages\\sklearn\\decomposition\\pca.py:447: RuntimeWarning: invalid value encountered in true_divide\n",
      "  explained_variance_ratio_ = explained_variance_ / total_var\n",
      "C:\\Users\\nicoc\\Anaconda3\\lib\\site-packages\\sklearn\\decomposition\\pca.py:447: RuntimeWarning: invalid value encountered in true_divide\n",
      "  explained_variance_ratio_ = explained_variance_ / total_var\n",
      "C:\\Users\\nicoc\\Anaconda3\\lib\\site-packages\\sklearn\\decomposition\\pca.py:447: RuntimeWarning: invalid value encountered in true_divide\n",
      "  explained_variance_ratio_ = explained_variance_ / total_var\n",
      "C:\\Users\\nicoc\\Anaconda3\\lib\\site-packages\\sklearn\\decomposition\\pca.py:447: RuntimeWarning: invalid value encountered in true_divide\n",
      "  explained_variance_ratio_ = explained_variance_ / total_var\n",
      "C:\\Users\\nicoc\\Anaconda3\\lib\\site-packages\\sklearn\\decomposition\\pca.py:447: RuntimeWarning: invalid value encountered in true_divide\n",
      "  explained_variance_ratio_ = explained_variance_ / total_var\n"
     ]
    },
    {
     "name": "stdout",
     "output_type": "stream",
     "text": [
      "21121763\n",
      "241 241 241\n"
     ]
    },
    {
     "name": "stderr",
     "output_type": "stream",
     "text": [
      "C:\\Users\\nicoc\\Anaconda3\\lib\\site-packages\\sklearn\\decomposition\\pca.py:447: RuntimeWarning: invalid value encountered in true_divide\n",
      "  explained_variance_ratio_ = explained_variance_ / total_var\n",
      "C:\\Users\\nicoc\\Anaconda3\\lib\\site-packages\\sklearn\\decomposition\\pca.py:447: RuntimeWarning: invalid value encountered in true_divide\n",
      "  explained_variance_ratio_ = explained_variance_ / total_var\n",
      "C:\\Users\\nicoc\\Anaconda3\\lib\\site-packages\\sklearn\\decomposition\\pca.py:447: RuntimeWarning: invalid value encountered in true_divide\n",
      "  explained_variance_ratio_ = explained_variance_ / total_var\n",
      "C:\\Users\\nicoc\\Anaconda3\\lib\\site-packages\\sklearn\\decomposition\\pca.py:447: RuntimeWarning: invalid value encountered in true_divide\n",
      "  explained_variance_ratio_ = explained_variance_ / total_var\n",
      "C:\\Users\\nicoc\\Anaconda3\\lib\\site-packages\\sklearn\\decomposition\\pca.py:447: RuntimeWarning: invalid value encountered in true_divide\n",
      "  explained_variance_ratio_ = explained_variance_ / total_var\n"
     ]
    },
    {
     "name": "stdout",
     "output_type": "stream",
     "text": [
      "21230020\n",
      "260 260 260\n"
     ]
    },
    {
     "name": "stderr",
     "output_type": "stream",
     "text": [
      "C:\\Users\\nicoc\\Anaconda3\\lib\\site-packages\\sklearn\\decomposition\\pca.py:447: RuntimeWarning: invalid value encountered in true_divide\n",
      "  explained_variance_ratio_ = explained_variance_ / total_var\n",
      "C:\\Users\\nicoc\\Anaconda3\\lib\\site-packages\\sklearn\\decomposition\\pca.py:447: RuntimeWarning: invalid value encountered in true_divide\n",
      "  explained_variance_ratio_ = explained_variance_ / total_var\n",
      "C:\\Users\\nicoc\\Anaconda3\\lib\\site-packages\\sklearn\\decomposition\\pca.py:447: RuntimeWarning: invalid value encountered in true_divide\n",
      "  explained_variance_ratio_ = explained_variance_ / total_var\n"
     ]
    },
    {
     "name": "stdout",
     "output_type": "stream",
     "text": [
      "21230034\n",
      "280 280 280\n"
     ]
    },
    {
     "name": "stderr",
     "output_type": "stream",
     "text": [
      "C:\\Users\\nicoc\\Anaconda3\\lib\\site-packages\\sklearn\\decomposition\\pca.py:447: RuntimeWarning: invalid value encountered in true_divide\n",
      "  explained_variance_ratio_ = explained_variance_ / total_var\n",
      "C:\\Users\\nicoc\\Anaconda3\\lib\\site-packages\\sklearn\\decomposition\\pca.py:447: RuntimeWarning: invalid value encountered in true_divide\n",
      "  explained_variance_ratio_ = explained_variance_ / total_var\n",
      "C:\\Users\\nicoc\\Anaconda3\\lib\\site-packages\\sklearn\\decomposition\\pca.py:447: RuntimeWarning: invalid value encountered in true_divide\n",
      "  explained_variance_ratio_ = explained_variance_ / total_var\n",
      "C:\\Users\\nicoc\\Anaconda3\\lib\\site-packages\\sklearn\\decomposition\\pca.py:447: RuntimeWarning: invalid value encountered in true_divide\n",
      "  explained_variance_ratio_ = explained_variance_ / total_var\n"
     ]
    },
    {
     "name": "stdout",
     "output_type": "stream",
     "text": [
      "21230104\n",
      "300 300 300\n",
      "21230121\n",
      "320 320 320\n"
     ]
    },
    {
     "name": "stderr",
     "output_type": "stream",
     "text": [
      "C:\\Users\\nicoc\\Anaconda3\\lib\\site-packages\\sklearn\\decomposition\\pca.py:447: RuntimeWarning: invalid value encountered in true_divide\n",
      "  explained_variance_ratio_ = explained_variance_ / total_var\n",
      "C:\\Users\\nicoc\\Anaconda3\\lib\\site-packages\\sklearn\\decomposition\\pca.py:447: RuntimeWarning: invalid value encountered in true_divide\n",
      "  explained_variance_ratio_ = explained_variance_ / total_var\n",
      "C:\\Users\\nicoc\\Anaconda3\\lib\\site-packages\\sklearn\\decomposition\\pca.py:447: RuntimeWarning: invalid value encountered in true_divide\n",
      "  explained_variance_ratio_ = explained_variance_ / total_var\n",
      "C:\\Users\\nicoc\\Anaconda3\\lib\\site-packages\\sklearn\\decomposition\\pca.py:447: RuntimeWarning: invalid value encountered in true_divide\n",
      "  explained_variance_ratio_ = explained_variance_ / total_var\n",
      "C:\\Users\\nicoc\\Anaconda3\\lib\\site-packages\\sklearn\\decomposition\\pca.py:447: RuntimeWarning: invalid value encountered in true_divide\n",
      "  explained_variance_ratio_ = explained_variance_ / total_var\n"
     ]
    },
    {
     "name": "stdout",
     "output_type": "stream",
     "text": [
      "21230344\n",
      "333 333 333\n"
     ]
    },
    {
     "name": "stderr",
     "output_type": "stream",
     "text": [
      "C:\\Users\\nicoc\\Anaconda3\\lib\\site-packages\\sklearn\\decomposition\\pca.py:447: RuntimeWarning: invalid value encountered in true_divide\n",
      "  explained_variance_ratio_ = explained_variance_ / total_var\n",
      "C:\\Users\\nicoc\\Anaconda3\\lib\\site-packages\\sklearn\\decomposition\\pca.py:447: RuntimeWarning: invalid value encountered in true_divide\n",
      "  explained_variance_ratio_ = explained_variance_ / total_var\n",
      "C:\\Users\\nicoc\\Anaconda3\\lib\\site-packages\\sklearn\\decomposition\\pca.py:447: RuntimeWarning: invalid value encountered in true_divide\n",
      "  explained_variance_ratio_ = explained_variance_ / total_var\n",
      "C:\\Users\\nicoc\\Anaconda3\\lib\\site-packages\\sklearn\\decomposition\\pca.py:447: RuntimeWarning: invalid value encountered in true_divide\n",
      "  explained_variance_ratio_ = explained_variance_ / total_var\n",
      "C:\\Users\\nicoc\\Anaconda3\\lib\\site-packages\\sklearn\\decomposition\\pca.py:447: RuntimeWarning: invalid value encountered in true_divide\n",
      "  explained_variance_ratio_ = explained_variance_ / total_var\n",
      "C:\\Users\\nicoc\\Anaconda3\\lib\\site-packages\\sklearn\\decomposition\\pca.py:447: RuntimeWarning: invalid value encountered in true_divide\n",
      "  explained_variance_ratio_ = explained_variance_ / total_var\n"
     ]
    },
    {
     "name": "stdout",
     "output_type": "stream",
     "text": [
      "21230517\n",
      "346 346 346\n"
     ]
    },
    {
     "name": "stderr",
     "output_type": "stream",
     "text": [
      "C:\\Users\\nicoc\\Anaconda3\\lib\\site-packages\\sklearn\\decomposition\\pca.py:447: RuntimeWarning: invalid value encountered in true_divide\n",
      "  explained_variance_ratio_ = explained_variance_ / total_var\n"
     ]
    },
    {
     "name": "stdout",
     "output_type": "stream",
     "text": [
      "21230614\n",
      "359 359 359\n"
     ]
    },
    {
     "name": "stderr",
     "output_type": "stream",
     "text": [
      "C:\\Users\\nicoc\\Anaconda3\\lib\\site-packages\\sklearn\\decomposition\\pca.py:447: RuntimeWarning: invalid value encountered in true_divide\n",
      "  explained_variance_ratio_ = explained_variance_ / total_var\n",
      "C:\\Users\\nicoc\\Anaconda3\\lib\\site-packages\\sklearn\\decomposition\\pca.py:447: RuntimeWarning: invalid value encountered in true_divide\n",
      "  explained_variance_ratio_ = explained_variance_ / total_var\n",
      "C:\\Users\\nicoc\\Anaconda3\\lib\\site-packages\\sklearn\\decomposition\\pca.py:447: RuntimeWarning: invalid value encountered in true_divide\n",
      "  explained_variance_ratio_ = explained_variance_ / total_var\n",
      "C:\\Users\\nicoc\\Anaconda3\\lib\\site-packages\\sklearn\\decomposition\\pca.py:447: RuntimeWarning: invalid value encountered in true_divide\n",
      "  explained_variance_ratio_ = explained_variance_ / total_var\n",
      "C:\\Users\\nicoc\\Anaconda3\\lib\\site-packages\\sklearn\\decomposition\\pca.py:447: RuntimeWarning: invalid value encountered in true_divide\n",
      "  explained_variance_ratio_ = explained_variance_ / total_var\n",
      "C:\\Users\\nicoc\\Anaconda3\\lib\\site-packages\\sklearn\\decomposition\\pca.py:447: RuntimeWarning: invalid value encountered in true_divide\n",
      "  explained_variance_ratio_ = explained_variance_ / total_var\n",
      "C:\\Users\\nicoc\\Anaconda3\\lib\\site-packages\\sklearn\\decomposition\\pca.py:447: RuntimeWarning: invalid value encountered in true_divide\n",
      "  explained_variance_ratio_ = explained_variance_ / total_var\n",
      "C:\\Users\\nicoc\\Anaconda3\\lib\\site-packages\\sklearn\\decomposition\\pca.py:447: RuntimeWarning: invalid value encountered in true_divide\n",
      "  explained_variance_ratio_ = explained_variance_ / total_var\n",
      "C:\\Users\\nicoc\\Anaconda3\\lib\\site-packages\\sklearn\\decomposition\\pca.py:447: RuntimeWarning: invalid value encountered in true_divide\n",
      "  explained_variance_ratio_ = explained_variance_ / total_var\n",
      "C:\\Users\\nicoc\\Anaconda3\\lib\\site-packages\\sklearn\\decomposition\\pca.py:447: RuntimeWarning: invalid value encountered in true_divide\n",
      "  explained_variance_ratio_ = explained_variance_ / total_var\n",
      "C:\\Users\\nicoc\\Anaconda3\\lib\\site-packages\\sklearn\\decomposition\\pca.py:447: RuntimeWarning: invalid value encountered in true_divide\n",
      "  explained_variance_ratio_ = explained_variance_ / total_var\n",
      "C:\\Users\\nicoc\\Anaconda3\\lib\\site-packages\\sklearn\\decomposition\\pca.py:447: RuntimeWarning: invalid value encountered in true_divide\n",
      "  explained_variance_ratio_ = explained_variance_ / total_var\n",
      "C:\\Users\\nicoc\\Anaconda3\\lib\\site-packages\\sklearn\\decomposition\\pca.py:447: RuntimeWarning: invalid value encountered in true_divide\n",
      "  explained_variance_ratio_ = explained_variance_ / total_var\n",
      "C:\\Users\\nicoc\\Anaconda3\\lib\\site-packages\\sklearn\\decomposition\\pca.py:447: RuntimeWarning: invalid value encountered in true_divide\n",
      "  explained_variance_ratio_ = explained_variance_ / total_var\n",
      "C:\\Users\\nicoc\\Anaconda3\\lib\\site-packages\\sklearn\\decomposition\\pca.py:447: RuntimeWarning: invalid value encountered in true_divide\n",
      "  explained_variance_ratio_ = explained_variance_ / total_var\n",
      "C:\\Users\\nicoc\\Anaconda3\\lib\\site-packages\\sklearn\\decomposition\\pca.py:447: RuntimeWarning: invalid value encountered in true_divide\n",
      "  explained_variance_ratio_ = explained_variance_ / total_var\n",
      "C:\\Users\\nicoc\\Anaconda3\\lib\\site-packages\\sklearn\\decomposition\\pca.py:447: RuntimeWarning: invalid value encountered in true_divide\n",
      "  explained_variance_ratio_ = explained_variance_ / total_var\n",
      "C:\\Users\\nicoc\\Anaconda3\\lib\\site-packages\\sklearn\\decomposition\\pca.py:447: RuntimeWarning: invalid value encountered in true_divide\n",
      "  explained_variance_ratio_ = explained_variance_ / total_var\n"
     ]
    },
    {
     "name": "stdout",
     "output_type": "stream",
     "text": [
      "21230642\n",
      "374 374 374\n"
     ]
    },
    {
     "name": "stderr",
     "output_type": "stream",
     "text": [
      "C:\\Users\\nicoc\\Anaconda3\\lib\\site-packages\\sklearn\\decomposition\\pca.py:447: RuntimeWarning: invalid value encountered in true_divide\n",
      "  explained_variance_ratio_ = explained_variance_ / total_var\n"
     ]
    },
    {
     "name": "stdout",
     "output_type": "stream",
     "text": [
      "21230661\n",
      "385 385 385\n"
     ]
    },
    {
     "name": "stderr",
     "output_type": "stream",
     "text": [
      "C:\\Users\\nicoc\\Anaconda3\\lib\\site-packages\\sklearn\\decomposition\\pca.py:447: RuntimeWarning: invalid value encountered in true_divide\n",
      "  explained_variance_ratio_ = explained_variance_ / total_var\n",
      "C:\\Users\\nicoc\\Anaconda3\\lib\\site-packages\\sklearn\\decomposition\\pca.py:447: RuntimeWarning: invalid value encountered in true_divide\n",
      "  explained_variance_ratio_ = explained_variance_ / total_var\n"
     ]
    },
    {
     "name": "stdout",
     "output_type": "stream",
     "text": [
      "21230695\n",
      "389 389 389\n"
     ]
    },
    {
     "name": "stderr",
     "output_type": "stream",
     "text": [
      "C:\\Users\\nicoc\\Anaconda3\\lib\\site-packages\\sklearn\\decomposition\\pca.py:447: RuntimeWarning: invalid value encountered in true_divide\n",
      "  explained_variance_ratio_ = explained_variance_ / total_var\n",
      "C:\\Users\\nicoc\\Anaconda3\\lib\\site-packages\\sklearn\\decomposition\\pca.py:447: RuntimeWarning: invalid value encountered in true_divide\n",
      "  explained_variance_ratio_ = explained_variance_ / total_var\n"
     ]
    },
    {
     "name": "stdout",
     "output_type": "stream",
     "text": [
      "21230758\n",
      "408 408 408\n",
      "(408, 1280, 4) (408, 1280) 408\n"
     ]
    }
   ],
   "source": [
    "%%capture \n",
    "# We are suppressing print statements and warning messages w/ above line\n",
    "path = \"C:\\\\Users\\\\nicoc\\\\Desktop\\\\Stanford\\\\OneDrive\\\\OneDrive - Stanford\\\\Courses\\\\CS229\\\\finalproject\\\\data\\\\United_States_Fires\\\\United_States_2018_Fires\\\\dec\\\\storage\"\n",
    "x_train, y_train, pca_array  = nn_train_test(path, n_past = n_past, n_comp = n_comp, n_future = n_future)"
   ]
  },
  {
   "cell_type": "markdown",
   "metadata": {},
   "source": [
    "<div class=\"alert alert-block alert-warning\">\n",
    "<b>Check:</b> \n",
    "    Check the shape of your x_train and y_train data\n",
    "</div>"
   ]
  },
  {
   "cell_type": "code",
   "execution_count": 128,
   "metadata": {},
   "outputs": [
    {
     "data": {
      "text/plain": [
       "((915, 1280, 3), (936, 1280, 4))"
      ]
     },
     "execution_count": 128,
     "metadata": {},
     "output_type": "execute_result"
    }
   ],
   "source": [
    "x_train.shape, x_train2.shape"
   ]
  },
  {
   "cell_type": "markdown",
   "metadata": {},
   "source": [
    "<div class=\"alert alert-block alert-success\">\n",
    "<b>Train your RNN:</b> Train your RNN using the training data.\n",
    "    \n",
    "    You might notice a lot of arbitrary values here (these are things we will want to change and test)\n",
    "    - Dropout: High dropout leads to more generalization. Low dropout takes advantage of more data but overfits more easily\n",
    "    - # of hidden layers: Right now, there are 2 hidden layers (+ 1 at the end). We can change this\n",
    "    - # units at hidden layers: Right now, units decrease by 1 at each hidden layer. This is arbitrary and can be changed\n",
    "    - optimizer --> 'adam' works but I don't know what it does\n",
    "    - epochs --> We can raise this above 1 but I don't notice that changing much when I have done so\n",
    "    - batch_size --> Higher batch size leads to more generalization\n",
    "</div>"
   ]
  },
  {
   "cell_type": "code",
   "execution_count": 165,
   "metadata": {},
   "outputs": [
    {
     "name": "stdout",
     "output_type": "stream",
     "text": [
      "Epoch 1/2\n",
      "136/136 [==============================] - 161s 1s/step - loss: 0.7650 - acc: 0.1571\n",
      "Epoch 2/2\n",
      "136/136 [==============================] - 151s 1s/step - loss: 0.7641 - acc: 0.1571\n"
     ]
    },
    {
     "data": {
      "text/plain": [
       "<keras.callbacks.History at 0x21012cd0d88>"
      ]
     },
     "execution_count": 165,
     "metadata": {},
     "output_type": "execute_result"
    }
   ],
   "source": [
    "# No need to run this if you are loading a model\n",
    "regressor = Sequential()\n",
    "\n",
    "dropout = 0.1\n",
    "regressor.add(tf.keras.layers.Bidirectional(LSTM(units=n_past, return_sequences=True, input_shape = x_train2[0].shape)))\n",
    "regressor.add(Dropout(dropout))\n",
    "\n",
    "regressor.add(LSTM(units = n_past, return_sequences = True))\n",
    "regressor.add(Dropout(dropout))\n",
    "\n",
    "\n",
    "regressor.add(LSTM(units = n_past, return_sequences = True))\n",
    "regressor.add(Dropout(dropout))\n",
    "'''\n",
    "regressor.add(LSTM(units = n_past, return_sequences = True))\n",
    "regressor.add(Dropout(dropout))\n",
    "'''\n",
    "\n",
    "regressor.add(Dense(units = n_future, activation = 'linear'))\n",
    "\n",
    "regressor.compile(optimizer = 'adam', loss = 'mean_squared_error', metrics = ['acc'])\n",
    "\n",
    "regressor.fit(x_train2, y_train2, epochs = 2, batch_size = 3)"
   ]
  },
  {
   "cell_type": "markdown",
   "metadata": {},
   "source": [
    "<div class=\"alert alert-block alert-warning\">\n",
    "<b>Load pre-trained model:</b> \n",
    "    If you want to load a model instead, use this\n",
    "</div>"
   ]
  },
  {
   "cell_type": "code",
   "execution_count": 11,
   "metadata": {},
   "outputs": [],
   "source": [
    "from keras.models import load_model\n",
    "model_name = 'my_model_no_scalar' ## CHANGE THIS (e.g. 'my_model') ##\n",
    "regressor = load_model(model_name)"
   ]
  },
  {
   "cell_type": "markdown",
   "metadata": {},
   "source": [
    "<div class=\"alert alert-block alert-warning\">\n",
    "<b>Save pre-trained model:</b> \n",
    "    If you want to save a model instead, use this\n",
    "</div>"
   ]
  },
  {
   "cell_type": "code",
   "execution_count": 130,
   "metadata": {},
   "outputs": [
    {
     "name": "stderr",
     "output_type": "stream",
     "text": [
      "WARNING:absl:Found untraced functions such as lstm_cell_13_layer_call_fn, lstm_cell_13_layer_call_and_return_conditional_losses, lstm_cell_14_layer_call_fn, lstm_cell_14_layer_call_and_return_conditional_losses, lstm_cell_11_layer_call_fn while saving (showing 5 of 20). These functions will not be directly callable after loading.\n"
     ]
    },
    {
     "name": "stdout",
     "output_type": "stream",
     "text": [
      "INFO:tensorflow:Assets written to: elevation_model\\assets\n"
     ]
    },
    {
     "name": "stderr",
     "output_type": "stream",
     "text": [
      "INFO:tensorflow:Assets written to: elevation_model\\assets\n",
      "WARNING:absl:<keras.layers.recurrent.LSTMCell object at 0x000002104CB54808> has the same name 'LSTMCell' as a built-in Keras object. Consider renaming <class 'keras.layers.recurrent.LSTMCell'> to avoid naming conflicts when loading with `tf.keras.models.load_model`. If renaming is not possible, pass the object in the `custom_objects` parameter of the load function.\n",
      "WARNING:absl:<keras.layers.recurrent.LSTMCell object at 0x0000021031B63D88> has the same name 'LSTMCell' as a built-in Keras object. Consider renaming <class 'keras.layers.recurrent.LSTMCell'> to avoid naming conflicts when loading with `tf.keras.models.load_model`. If renaming is not possible, pass the object in the `custom_objects` parameter of the load function.\n",
      "WARNING:absl:<keras.layers.recurrent.LSTMCell object at 0x000002102E483F08> has the same name 'LSTMCell' as a built-in Keras object. Consider renaming <class 'keras.layers.recurrent.LSTMCell'> to avoid naming conflicts when loading with `tf.keras.models.load_model`. If renaming is not possible, pass the object in the `custom_objects` parameter of the load function.\n",
      "WARNING:absl:<keras.layers.recurrent.LSTMCell object at 0x000002101C940608> has the same name 'LSTMCell' as a built-in Keras object. Consider renaming <class 'keras.layers.recurrent.LSTMCell'> to avoid naming conflicts when loading with `tf.keras.models.load_model`. If renaming is not possible, pass the object in the `custom_objects` parameter of the load function.\n"
     ]
    }
   ],
   "source": [
    "model_name = 'elevation_model'## CHANGE THIS (e.g. 'my_model') ##\n",
    "regressor.save(model_name)"
   ]
  },
  {
   "cell_type": "markdown",
   "metadata": {},
   "source": [
    "<div class=\"alert alert-block alert-warning\">\n",
    "<b>Input Data for Testing:</b> \n",
    "    Below, we get the input data from March 2018! \n",
    "</div>"
   ]
  },
  {
   "cell_type": "code",
   "execution_count": 125,
   "metadata": {},
   "outputs": [],
   "source": [
    "%%capture\n",
    "path = path = \"C:\\\\Users\\\\nicoc\\\\Desktop\\\\Stanford\\\\OneDrive\\\\OneDrive - Stanford\\\\Courses\\\\CS229\\\\finalproject\\\\data\\\\United_States_Fires\\\\United_States_2017_Fires\\\\nov\\\\storage\"\n",
    "x_test, y_test, pca_array  = nn_train_test2(path, n_past = 3, n_comp = n_comp, n_future =1)"
   ]
  },
  {
   "cell_type": "markdown",
   "metadata": {},
   "source": [
    "<div class=\"alert alert-block alert-warning\">\n",
    "<b>Check:</b> I've noticed the first dimensions of these sometimes these don't match. They should.\n",
    "</div>"
   ]
  },
  {
   "cell_type": "code",
   "execution_count": 131,
   "metadata": {},
   "outputs": [
    {
     "data": {
      "text/plain": [
       "((460, 1280, 4), (460, 1280), 460)"
      ]
     },
     "execution_count": 131,
     "metadata": {},
     "output_type": "execute_result"
    }
   ],
   "source": [
    "x_test.shape, y_test.shape, len(pca_array)"
   ]
  },
  {
   "cell_type": "markdown",
   "metadata": {},
   "source": [
    "<div class=\"alert alert-block alert-warning\">\n",
    "<b> Predict Step:</b> This makes your predictions using your model and reshapes them into a list of 2D arrays\n",
    "</div>"
   ]
  },
  {
   "cell_type": "code",
   "execution_count": 166,
   "metadata": {},
   "outputs": [],
   "source": [
    "from sklearn.preprocessing import MinMaxScaler\n",
    "#sc = MinMaxScaler(feature_range=(0,1)) This might be useful for making absolute predictions\n",
    "predict_test = regressor.predict(x_test)\n",
    "shape = predict_test.shape\n",
    "nComp = 10\n",
    "predict_test = np.reshape(predict_test, (shape[0], nComp,  shape[1]//nComp))"
   ]
  },
  {
   "cell_type": "markdown",
   "metadata": {},
   "source": [
    "<div class=\"alert alert-block alert-warning\">\n",
    "<b> Predict Step:</b> Change the number for test number to see how well your network is doing visually\n",
    "    \n",
    "    Note the pca_array[i].inverse_transform()!\n",
    "</div>"
   ]
  },
  {
   "cell_type": "code",
   "execution_count": 200,
   "metadata": {},
   "outputs": [
    {
     "data": {
      "text/plain": [
       "<matplotlib.image.AxesImage at 0x210425d8208>"
      ]
     },
     "execution_count": 200,
     "metadata": {},
     "output_type": "execute_result"
    },
    {
     "data": {
      "image/png": "[encoded data removed]",
      "text/plain": [
       "<Figure size 288x288 with 1 Axes>"
      ]
     },
     "metadata": {
      "needs_background": "light"
     },
     "output_type": "display_data"
    },
    {
     "data": {
      "image/png": "[encoded data removed]",
      "text/plain": [
       "<Figure size 288x288 with 1 Axes>"
      ]
     },
     "metadata": {
      "needs_background": "light"
     },
     "output_type": "display_data"
    }
   ],
   "source": [
    "test_number = i = 10\n",
    "d = y_test[i]\n",
    "d = np.reshape(d, (256, 5))\n",
    "plt.matshow(pca_array[i].inverse_transform(d))\n",
    "d = predict_test[i]\n",
    "d = np.reshape(d, (256, 5))\n",
    "plt.matshow(pca_array[i].inverse_transform(d))"
   ]
  }
 ],
 "metadata": {
  "kernelspec": {
   "display_name": "Python 3",
   "language": "python",
   "name": "python3"
  },
  "language_info": {
   "codemirror_mode": {
    "name": "ipython",
    "version": 3
   },
   "file_extension": ".py",
   "mimetype": "text/x-python",
   "name": "python",
   "nbconvert_exporter": "python",
   "pygments_lexer": "ipython3",
   "version": "3.7.4"
  }
 },
 "nbformat": 4,
 "nbformat_minor": 5
}
