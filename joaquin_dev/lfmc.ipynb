{
 "cells": [
  {
   "cell_type": "markdown",
   "id": "5e7f9107-fba9-4695-a828-d4737f6557ae",
   "metadata": {},
   "source": [
    "Script from https://github.com/kkraoj/lfmc_from_sar"
   ]
  },
  {
   "cell_type": "code",
   "execution_count": 1,
   "id": "59e796b5-2d06-4b51-bf52-a1784382eaa5",
   "metadata": {},
   "outputs": [
    {
     "ename": "ModuleNotFoundError",
     "evalue": "No module named 'ee'",
     "output_type": "error",
     "traceback": [
      "\u001b[1;31m---------------------------------------------------------------------------\u001b[0m",
      "\u001b[1;31mModuleNotFoundError\u001b[0m                       Traceback (most recent call last)",
      "\u001b[1;32m<ipython-input-1-335a6af1e565>\u001b[0m in \u001b[0;36m<module>\u001b[1;34m\u001b[0m\n\u001b[0;32m     13\u001b[0m \u001b[1;33m@\u001b[0m\u001b[0mauthor\u001b[0m\u001b[1;33m:\u001b[0m \u001b[0mkkrao\u001b[0m\u001b[1;33m\u001b[0m\u001b[1;33m\u001b[0m\u001b[0m\n\u001b[0;32m     14\u001b[0m \"\"\"\n\u001b[1;32m---> 15\u001b[1;33m \u001b[1;32mimport\u001b[0m \u001b[0mee\u001b[0m\u001b[1;33m\u001b[0m\u001b[1;33m\u001b[0m\u001b[0m\n\u001b[0m\u001b[0;32m     16\u001b[0m \u001b[1;32mfrom\u001b[0m \u001b[0mee\u001b[0m \u001b[1;32mimport\u001b[0m \u001b[0mbatch\u001b[0m\u001b[1;33m\u001b[0m\u001b[1;33m\u001b[0m\u001b[0m\n\u001b[0;32m     17\u001b[0m \u001b[1;32mfrom\u001b[0m \u001b[0mpandas\u001b[0m\u001b[1;33m.\u001b[0m\u001b[0mtseries\u001b[0m\u001b[1;33m.\u001b[0m\u001b[0moffsets\u001b[0m \u001b[1;32mimport\u001b[0m \u001b[0mDateOffset\u001b[0m\u001b[1;33m\u001b[0m\u001b[1;33m\u001b[0m\u001b[0m\n",
      "\u001b[1;31mModuleNotFoundError\u001b[0m: No module named 'ee'"
     ]
    }
   ],
   "source": [
    "# -*- coding: utf-8 -*-\n",
    "\"\"\"\n",
    "Created on Thu Mar 19 11:14:09 2020\n",
    "\n",
    "@author: kkrao\n",
    "\"\"\"\n",
    "\n",
    "\n",
    "# -*- coding: utf-8 -*-\n",
    "\"\"\"\n",
    "Created on Tue Jul 31 08:30:32 2018\n",
    "\n",
    "@author: kkrao\n",
    "\"\"\"\n",
    "import ee\n",
    "from ee import batch\n",
    "from pandas.tseries.offsets import DateOffset\n",
    "import pandas as pd\n",
    "\n",
    "## Initialize (a ee python thing)\n",
    "\n",
    "ee.Initialize()\n",
    "\n",
    "#%%\n",
    "### Input start and end dates\n",
    "start_date = '2020-04-01'\n",
    "end_date =  '2020-10-01'\n",
    "folder_name = 'lfmc_folder' # folder name in Google drive where files should be created\n",
    "scale = 250 #pixel size in meters. lower pixels will consumer more memory and will take longer to download. \n",
    "\n",
    "#%%#### create strings for start and end dates\n",
    "\n",
    "collection = ee.ImageCollection('users/kkraoj/lfm-mapper/lfmc_col_12_oct_2020').\\\n",
    "                filterDate(start_date,end_date)\n",
    "\n",
    "\n",
    "crs = ee.Image(collection.first()).projection();\n",
    "def resample(image):\n",
    "    image = image.resample('bilinear').reproject(crs= crs,scale= scale)\n",
    "    return image\n",
    "\n",
    "if scale!=250: #if user requested resolution is different than native resolution (250m), resample to new resolution\n",
    "    collection = collection.map(resample)\n",
    "                \n",
    "n = collection.size().getInfo() # number of images to download\n",
    "    \n",
    "colList = collection.toList(n)\n",
    "  \n",
    "for i in range(n):\n",
    "    image = ee.Image(colList.get(i));\n",
    "    id = image.id().getInfo() or 'image_'+i.toString();\n",
    "\n",
    "    out = batch.Export.image.toDrive(\n",
    "      image=image,\n",
    "      folder=folder_name,\n",
    "      description = id,\n",
    "      scale= scale,\n",
    "      maxPixels=1e11\n",
    "    );\n",
    "    batch.Task.start(out)    \n",
    "## process the image\n",
    "\n",
    "out.status()\n",
    "print(\"process sent to cloud\")"
   ]
  },
  {
   "cell_type": "code",
   "execution_count": null,
   "id": "d6c1220f-cfb9-4277-beff-3c5f55f5cb84",
   "metadata": {},
   "outputs": [],
   "source": []
  }
 ],
 "metadata": {
  "kernelspec": {
   "display_name": "Python 3",
   "language": "python",
   "name": "python3"
  },
  "language_info": {
   "codemirror_mode": {
    "name": "ipython",
    "version": 3
   },
   "file_extension": ".py",
   "mimetype": "text/x-python",
   "name": "python",
   "nbconvert_exporter": "python",
   "pygments_lexer": "ipython3",
   "version": "3.8.8"
  }
 },
 "nbformat": 4,
 "nbformat_minor": 5
}
