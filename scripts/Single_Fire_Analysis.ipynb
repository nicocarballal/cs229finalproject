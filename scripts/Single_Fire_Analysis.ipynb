{
 "cells": [
  {
   "cell_type": "code",
   "execution_count": 4,
   "id": "c3a2d240",
   "metadata": {},
   "outputs": [],
   "source": [
    "# import cell\n",
    "import shapefile\n",
    "import numpy as np\n",
    "import matplotlib\n",
    "import pandas as pd\n",
    "import simpledbf \n",
    "from simpledbf import Dbf5"
   ]
  },
  {
   "cell_type": "code",
   "execution_count": 5,
   "id": "3d1510e0",
   "metadata": {},
   "outputs": [],
   "source": [
    "# Read in our shapefile for November 2020\n",
    "nov_2019_shape = shapefile.Reader(\"./../data/United_States_Fires/United_States_2019_Fires/nov/United States_fires_nov_2019.shp\")\n",
    "nov_2019_shape_records = nov_2019_shape.shapeRecords()"
   ]
  },
  {
   "cell_type": "code",
   "execution_count": 6,
   "id": "92e64f1e",
   "metadata": {},
   "outputs": [],
   "source": [
    "# Read in our dbf file for November 2000\n",
    "nov_2019_dbf =  Dbf5('./../data/United_States_Fires/United_States_2019_Fires/nov/United States_fires_nov_2019.dbf')\n",
    "nov_2019_df = nov_2019_dbf.to_dataframe()"
   ]
  },
  {
   "cell_type": "code",
   "execution_count": 7,
   "id": "5500e971",
   "metadata": {},
   "outputs": [],
   "source": [
    "import util\n",
    "from util import plotPolygons\n",
    "import matplotlib.pyplot as plt\n",
    "from matplotlib.collections import PolyCollection\n",
    "from matplotlib.patches import Polygon\n",
    "import matplotlib as mpl"
   ]
  },
  {
   "cell_type": "code",
   "execution_count": 8,
   "id": "3827afe6",
   "metadata": {},
   "outputs": [
    {
     "data": {
      "image/png": "[encoded data removed]",
      "text/plain": [
       "<Figure size 432x288 with 1 Axes>"
      ]
     },
     "metadata": {
      "needs_background": "light"
     },
     "output_type": "display_data"
    }
   ],
   "source": [
    "final_fire_date = nov_2019_shape_records[41].record[3]\n",
    "final_fire_indices = np.array([nov_2019_shape_records[41].shape.points])\n",
    "plotPolygons([], final_fire_indices, final_fire_date, 1)"
   ]
  },
  {
   "cell_type": "code",
   "execution_count": 292,
   "id": "e90f70f5",
   "metadata": {},
   "outputs": [],
   "source": [
    "def get_grid_representation(xRange, yRange, xDiff, yDiff):\n",
    "    lonSquares = (xRange[1] - xRange[0])/xDiff\n",
    "    latSquares = (yRange[1] - yRange[0])/yDiff\n",
    "    return np.zeros((int(lonSquares), int(latSquares)))"
   ]
  },
  {
   "cell_type": "code",
   "execution_count": 293,
   "id": "a855f911",
   "metadata": {},
   "outputs": [],
   "source": [
    "def get_fire_shape_and_discretization(final_fire_indices):\n",
    "    x_min = float('inf')\n",
    "    x_max = float('-inf')\n",
    "    y_min = float('inf')\n",
    "    y_max = float('-inf')\n",
    "    for fire in final_fire_indices:\n",
    "        if fire[0] < x_min:\n",
    "            x_min = fire[0]\n",
    "        if fire[1] < y_min:\n",
    "            y_min = fire[1]\n",
    "        if fire[0] > x_max:\n",
    "            x_max = fire[0]\n",
    "        if fire[1] > y_max:\n",
    "            y_max = fire[1]\n",
    "\n",
    "    x_sorted = np.sort([fire[0] for fire in final_fire_indices])\n",
    "    y_sorted = np.sort([fire[1] for fire in final_fire_indices])\n",
    "    xdiff = [np.abs(np.subtract(x_sorted[i], x_sorted[i+1])) for i in range(len(x_sorted) - 1)]\n",
    "    ydiff = [np.abs(np.subtract(y_sorted[i], y_sorted[i+1])) for i in range(len(y_sorted) - 1)]\n",
    "    xdifflist = np.nonzero(xdiff)[0].astype(int)\n",
    "    ydifflist = np.nonzero(ydiff)[0].astype(int)\n",
    "    x_diff = np.min(np.take(xdiff, xdifflist, axis = 0))\n",
    "    y_diff = np.min(np.take(ydiff, ydifflist, axis = 0))\n",
    "    #print(\"X Range: \", (x_min, x_max), \"\\nY Range: \", (y_min, y_max))\n",
    "    #print(\"X Diff: \", x_diff, \"\\nY Diff: \", y_diff)\n",
    "    return (x_min, x_max), (y_min, y_max), x_diff, y_diff"
   ]
  },
  {
   "cell_type": "code",
   "execution_count": 294,
   "id": "1a152a0b",
   "metadata": {},
   "outputs": [],
   "source": [
    "def multi_day_fire_initialization(final_fire_indices, number_of_days):\n",
    "    xRange, yRange, xDiff, yDiff = get_fire_shape_and_discretization(final_fire_indices)\n",
    "    fireGrid = get_grid_representation(xRange, yRange, xDiff, yDiff).shape\n",
    "    lonSquares = fireGrid[0]\n",
    "    latSquares = fireGrid[1]\n",
    "    return np.zeros((number_of_days, lonSquares, latSquares))\n",
    "    "
   ]
  },
  {
   "cell_type": "code",
   "execution_count": 296,
   "id": "4712b06b",
   "metadata": {},
   "outputs": [],
   "source": [
    "xRange, yRange, xDiff, yDiff = get_fire_shape_and_discretization(final_fire_indices[0])\n",
    "fireGrid = get_grid_representation(xRange, yRange, xDiff, yDiff)"
   ]
  },
  {
   "cell_type": "code",
   "execution_count": 297,
   "id": "b0e78b83",
   "metadata": {},
   "outputs": [],
   "source": [
    "shapeRecord = nov_2019_shape_records[0]"
   ]
  },
  {
   "cell_type": "code",
   "execution_count": 299,
   "id": "02104986",
   "metadata": {},
   "outputs": [],
   "source": [
    "def multi_day_fire_representation(shape_records, sorted_df, final_fire_indices):\n",
    " \n",
    "    multiDayFireGrid = multi_day_fire_initialization(final_fire_indices, sorted_df.IDate.nunique())\n",
    "    xRange, yRange, xDiff, yDiff = get_fire_shape_and_discretization(final_fire_indices)\n",
    "    lastFDate = None\n",
    "    k = -1\n",
    "    for row in sorted_df.iterrows():\n",
    "        shape_record = shape_records[row[0]]\n",
    "        fire_polygon_indices = np.array([shape_record.shape.points])\n",
    "        polygon = Polygon(fire_polygon_indices[0])\n",
    "        x_coordinates = np.arange(xRange[0], xRange[1], xDiff)\n",
    "        y_coordinates = np.arange(yRange[0], yRange[1], yDiff)\n",
    "        if row[1]['IDate'] != lastFDate:     \n",
    "            k += 1\n",
    "            lastFDate = row[1]['IDate']\n",
    "        path = polygon.get_path()\n",
    "\n",
    "        for i in range(len(x_coordinates)):\n",
    "            x = x_coordinates[i]\n",
    "            for j in range(len(y_coordinates)):\n",
    "                y = y_coordinates[j]\n",
    "                point = (x, y)\n",
    "                if path.contains_point(point, radius = -xDiff):\n",
    "                    multiDayFireGrid[k][i][j] = 1\n",
    "    return multiDayFireGrid"
   ]
  },
  {
   "cell_type": "code",
   "execution_count": 301,
   "id": "12685d61",
   "metadata": {},
   "outputs": [
    {
     "data": {
      "text/plain": [
       "array([[0., 0., 0., 0., 0., 0., 0., 0., 0., 0., 0., 0., 0., 0., 0., 0.,\n",
       "        0., 0., 0., 0., 0., 0.],\n",
       "       [0., 0., 0., 0., 0., 0., 0., 0., 0., 0., 0., 0., 0., 0., 0., 0.,\n",
       "        0., 0., 0., 0., 0., 0.],\n",
       "       [0., 0., 0., 0., 0., 0., 0., 0., 0., 0., 0., 0., 0., 0., 0., 0.,\n",
       "        0., 0., 0., 0., 0., 0.],\n",
       "       [0., 0., 0., 1., 1., 0., 0., 0., 0., 0., 0., 0., 0., 0., 1., 1.,\n",
       "        0., 0., 0., 0., 0., 0.],\n",
       "       [0., 0., 0., 1., 1., 0., 0., 0., 0., 0., 0., 0., 0., 0., 1., 1.,\n",
       "        1., 1., 0., 0., 0., 0.],\n",
       "       [0., 0., 0., 0., 0., 0., 0., 0., 0., 0., 0., 0., 0., 1., 1., 1.,\n",
       "        1., 1., 1., 0., 0., 0.],\n",
       "       [0., 0., 0., 0., 0., 0., 0., 0., 0., 0., 0., 0., 0., 1., 1., 1.,\n",
       "        1., 1., 1., 0., 0., 0.],\n",
       "       [0., 0., 0., 0., 0., 0., 0., 0., 0., 0., 0., 0., 0., 0., 0., 0.,\n",
       "        1., 1., 1., 0., 0., 0.],\n",
       "       [0., 0., 0., 0., 0., 0., 0., 0., 0., 0., 0., 0., 0., 0., 0., 0.,\n",
       "        1., 1., 1., 0., 0., 0.],\n",
       "       [0., 0., 0., 0., 0., 0., 0., 0., 0., 0., 0., 0., 0., 0., 0., 0.,\n",
       "        0., 0., 0., 0., 0., 0.],\n",
       "       [0., 0., 0., 0., 0., 0., 0., 0., 0., 0., 0., 0., 0., 0., 0., 0.,\n",
       "        0., 0., 0., 0., 0., 0.],\n",
       "       [0., 0., 0., 0., 1., 1., 0., 0., 0., 0., 0., 0., 0., 0., 0., 0.,\n",
       "        0., 0., 0., 1., 1., 0.],\n",
       "       [0., 0., 0., 0., 1., 1., 0., 0., 0., 0., 0., 0., 0., 0., 0., 0.,\n",
       "        0., 0., 0., 1., 1., 1.],\n",
       "       [0., 0., 0., 0., 0., 0., 0., 0., 0., 0., 0., 0., 0., 0., 0., 0.,\n",
       "        0., 0., 0., 0., 0., 1.],\n",
       "       [0., 0., 0., 0., 0., 0., 0., 0., 0., 0., 0., 0., 0., 0., 0., 0.,\n",
       "        0., 0., 0., 0., 0., 0.],\n",
       "       [0., 0., 0., 0., 0., 0., 0., 0., 0., 0., 0., 0., 0., 0., 0., 0.,\n",
       "        0., 0., 0., 0., 0., 0.],\n",
       "       [0., 0., 0., 0., 0., 0., 0., 0., 0., 0., 0., 0., 0., 0., 0., 0.,\n",
       "        0., 0., 0., 0., 0., 0.],\n",
       "       [0., 0., 0., 0., 0., 0., 0., 0., 0., 0., 0., 0., 0., 0., 0., 0.,\n",
       "        0., 0., 1., 1., 0., 0.],\n",
       "       [0., 0., 0., 0., 0., 0., 0., 0., 0., 0., 0., 0., 0., 0., 0., 0.,\n",
       "        0., 0., 1., 1., 0., 0.],\n",
       "       [0., 0., 0., 0., 0., 0., 0., 0., 0., 0., 0., 0., 0., 0., 0., 0.,\n",
       "        0., 0., 1., 1., 0., 0.],\n",
       "       [0., 0., 0., 0., 0., 0., 0., 0., 0., 0., 0., 0., 0., 0., 0., 0.,\n",
       "        0., 0., 0., 0., 0., 0.],\n",
       "       [0., 0., 0., 0., 0., 0., 0., 0., 0., 0., 0., 0., 0., 0., 1., 1.,\n",
       "        0., 0., 0., 0., 0., 0.]])"
      ]
     },
     "execution_count": 301,
     "metadata": {},
     "output_type": "execute_result"
    }
   ],
   "source": [
    "multiDayFireGrid = multi_day_fire_representation(nov_2019_shape_records[0:41], sort_by_id(nov_2019_df[0:41], 22266562), nov_2019_shape_records[41].shape.points)\n",
    "multiDayFireGrid[5]"
   ]
  },
  {
   "cell_type": "code",
   "execution_count": 302,
   "id": "48e756ff",
   "metadata": {},
   "outputs": [],
   "source": [
    "def dayToDayProgression2(df, eyeD, shapeRecords):\n",
    "    # Detailing the day to day progression of a fire\n",
    "    # It looks like some dates have better data than others, which is interesting. General trends look okay though for a first go around! \n",
    "    ID_df = sort_by_id(df,eyeD)\n",
    "    lastFDate = None\n",
    "    min_max_day = [float('inf'), float('inf'), -float('inf'), -float('inf')]\n",
    "    day_index = 2 \n",
    "    polygon_date_array = []\n",
    "    polygon_date_dict = {}\n",
    "    for row in ID_df.iterrows():\n",
    "        if row[1]['Type'] == 'FinalArea':\n",
    "            print('Not printing the final Area')\n",
    "            continue\n",
    "        feature = shapeRecords[row[0]]\n",
    "        if row[1]['FDate'] == lastFDate:\n",
    "            polygon_date_array.append(feature.shape.points) \n",
    "\n",
    "        else:\n",
    "            lastFDate = row[1]['FDate']\n",
    "            if len(polygon_date_array) == 0:\n",
    "                continue\n",
    "            polygon_date_dict[row[1]['FDate']] = polygon_date_array\n",
    "            polygon_date_array = []\n",
    "    fig = plt.figure(day_index)\n",
    "    ax = fig.add_subplot(111)\n",
    "    polygon_array = []\n",
    "    day_index = 1\n",
    "    for date, polygon_indices in polygon_date_dict.items():\n",
    "        print(date)\n",
    "        polygon_indices = polygon_date_dict[date]\n",
    "        plotPolygons(polygon_array, polygon_indices, date, day_index)\n",
    "        polygon_array.append(polygon_indices)\n",
    "        day_index += 1"
   ]
  },
  {
   "cell_type": "code",
   "execution_count": 65,
   "id": "60bd4d9f",
   "metadata": {},
   "outputs": [],
   "source": [
    "\n",
    "def coordinate_dist_m(coordinate1, coordinate2):\n",
    "    '''\n",
    "    Inputs: coordinate1 --> longitude and latitude of c1\n",
    "            coordinate2 --> longitude and latitude of c2\n",
    "    Output: Distance (in meters) between those two points based on\n",
    "    '''\n",
    "    \n",
    "    d = np.abs(np.subtract(coordinate1, coordinate2))\n",
    "    d[0] = d[0] * 111139\n",
    "    d[1] = d[1] * 111139\n",
    "    d = np.sqrt(d[0]**2 + d[1]**2)\n",
    "    return d"
   ]
  }
 ],
 "metadata": {
  "kernelspec": {
   "display_name": "Python 3 (ipykernel)",
   "language": "python",
   "name": "python3"
  },
  "language_info": {
   "codemirror_mode": {
    "name": "ipython",
    "version": 3
   },
   "file_extension": ".py",
   "mimetype": "text/x-python",
   "name": "python",
   "nbconvert_exporter": "python",
   "pygments_lexer": "ipython3",
   "version": "3.9.5"
  }
 },
 "nbformat": 4,
 "nbformat_minor": 5
}
