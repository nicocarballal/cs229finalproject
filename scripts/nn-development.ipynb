{
 "cells": [
  {
   "cell_type": "markdown",
   "id": "4ebadde3",
   "metadata": {},
   "source": [
    "<div class=\"alert alert-block alert-info\">\n",
    "<b>Imports:</b> Common imports for NumPy, MatplotLib, Pandas, and OS </div>"
   ]
  },
  {
   "cell_type": "code",
   "execution_count": 1,
   "id": "74d41e0d",
   "metadata": {},
   "outputs": [],
   "source": [
    "## Import for data generation\n",
    "import numpy as np\n",
    "import matplotlib.pyplot as plt\n",
    "import pandas as pd\n",
    "import os"
   ]
  },
  {
   "cell_type": "markdown",
   "id": "f6dfb550",
   "metadata": {},
   "source": [
    "<div class=\"alert alert-block alert-info\">\n",
    "<b>ML Imports:</b> Imports to execute RNN model for sequential data </div>"
   ]
  },
  {
   "cell_type": "code",
   "execution_count": 2,
   "id": "1ad3d1a5",
   "metadata": {},
   "outputs": [],
   "source": [
    "from keras.models import Sequential\n",
    "from keras.layers import LSTM, Dense, Dropout\n",
    "import tensorflow as tf\n",
    "from pyspark import SparkContext\n",
    "from sklearn import decomposition\n",
    "from sklearn import datasets\n",
    "from sklearn.preprocessing import StandardScaler"
   ]
  },
  {
   "cell_type": "markdown",
   "id": "35b11940",
   "metadata": {},
   "source": [
    "<div class=\"alert alert-block alert-warning\">\n",
    "<b>nn_train_test() function:</b> \n",
    "    \n",
    "This function takes inputs:\n",
    "    \n",
    "    path --> path to the repository with all your .npy file\n",
    "    n_future --> number of future days of fire you want to predict (will be 1 for us)\n",
    "    n_comp --> number of principal componenents you want PCA to reduce to\n",
    "    n_past --> number of past days you want to consider (we can experiment with this)\n",
    "    \n",
    "Outputs:\n",
    "    \n",
    "    input_dim is set to a 1-D array of 256 ^ 2 for now! \n",
    "    x_train --> x_train in format (batch_size, timesteps, input_dim)\n",
    "    y_train --> training data in format (batch_size, input_dim)\n",
    "    pca_array --> an array of all of the PCA's done to the x_training data in a row. This is useful when computing the \n",
    "    inverse of the results of your neural net!\n",
    "    \n",
    "</div>"
   ]
  },
  {
   "cell_type": "code",
   "execution_count": 3,
   "id": "57a1d605",
   "metadata": {},
   "outputs": [],
   "source": [
    "def nn_train_test(path, n_past, n_comp, n_future = 1):\n",
    "    x_train_list = []\n",
    "    y_train_list = []\n",
    "    count = 0\n",
    "    pca_array = []\n",
    "    for file in os.listdir(r\"{path}\".format(path = path)):\n",
    "        if os.path.getsize(\"{path}\\\\{file}\".format(path = path, file = file)) < 100000:\n",
    "            continue\n",
    "        training_fire = np.load(\"{path}\\\\{file}\".format(path = path, file = file))\n",
    "        shape = np.array(training_fire.shape) \n",
    "        if shape[0] < n_past + n_future:\n",
    "            continue\n",
    "        standard_fire = np.zeros((len(training_fire), 256, 256))    \n",
    "        if shape[1] > 255 or shape[2] > 255:\n",
    "            standard_fire[:shape[0], :min(256, shape[1]), :min(256, shape[2])] = training_fire[:, :256, :256]\n",
    "        else: \n",
    "            standard_fire[:shape[0], :shape[1], :shape[2]] = training_fire     \n",
    "        n_comp = 5\n",
    "        shape = standard_fire.shape\n",
    "        pca_fire = np.zeros((shape[0], shape[1], n_comp))\n",
    "        j = 0\n",
    "        pca_dict = {}\n",
    "        for day in standard_fire:\n",
    "            pca = decomposition.PCA(n_components=n_comp)\n",
    "            '''\n",
    "            np.random.seed(134)\n",
    "            print(np.random.choice(day.flatten(), 100))\n",
    "            b = StandardScaler()\n",
    "            b.fit(day)\n",
    "            day= b.fit_transform(day)\n",
    "            np.random.seed(134)\n",
    "            print(np.random.choice(day.flatten(), 100))\n",
    "            print('------')\n",
    "            '''\n",
    "            #plt.matshow(day)\n",
    "            np.random.seed(134)           \n",
    "            day = pca.fit_transform(day)                       \n",
    "            #plt.matshow(day)            \n",
    "            day3 = pca.inverse_transform(day)            \n",
    "            #plt.matshow(day3)\n",
    "            #print('------')            \n",
    "            np.random.seed(134)            \n",
    "            pca_fire[j] = day\n",
    "            j += 1\n",
    "            pca_dict[j] = pca       \n",
    "        shape = pca_fire.shape    \n",
    "        pca_fire = np.reshape(pca_fire, (shape[0], shape[1] * shape[2]))\n",
    "        x_train = np.zeros((n_past, pca_fire.shape[1]))\n",
    "        y_train = np.zeros((pca_fire.shape[1]))\n",
    "        for i in range(0 , len(pca_fire) - n_future - n_past + 1):\n",
    "            x_train_list.append(pca_fire[i : i + n_past])\n",
    "            y_train_list.append(pca_fire[i + n_past: i + n_past + n_future])\n",
    "            pca_array.append(pca_dict[i + n_past])\n",
    "        print(len(x_train_list), len(y_train_list), len(pca_array))\n",
    "    x_train = np.array(x_train_list)\n",
    "    y_train = np.array(y_train_list)  \n",
    "\n",
    "    x_train = np.reshape(x_train, (x_train.shape[0],  x_train.shape[2], x_train.shape[1]))\n",
    "    y_train = np.reshape(y_train, (y_train.shape[0], y_train.shape[2]))    \n",
    "    print(x_train.shape, y_train.shape, len(pca_array))\n",
    "    return x_train, y_train, pca_array"
   ]
  },
  {
   "cell_type": "markdown",
   "id": "8e53c823",
   "metadata": {},
   "source": [
    "<div class=\"alert alert-block alert-warning\">\n",
    "<b>RNN Inputs:</b> \n",
    "We are declaring below that the number of future days we want to predict is 1, and we can vary the number of past days\n",
    "    we want to predict (I have the default as 3 for now)\n",
    "\n",
    "</div>"
   ]
  },
  {
   "cell_type": "code",
   "execution_count": 4,
   "id": "205833f4",
   "metadata": {},
   "outputs": [],
   "source": [
    "n_future = 1\n",
    "n_past = 3"
   ]
  },
  {
   "cell_type": "markdown",
   "id": "4766ff9e",
   "metadata": {},
   "source": [
    "<div class=\"alert alert-block alert-warning\">\n",
    "<b>Input Data for Training:</b> \n",
    "    Below, we get the input data from December 2018! \n",
    "</div>"
   ]
  },
  {
   "cell_type": "code",
   "execution_count": 8,
   "id": "ea67411a",
   "metadata": {},
   "outputs": [],
   "source": [
    "%%capture \n",
    "# We are suppressing print statements and warning messages w/ above line\n",
    "path = \"C:\\\\Users\\\\nico\\\\Desktop\\\\Stanford\\\\OneDrive - Stanford\\\\Courses\\\\CS229\\\\finalproject\\\\data\\\\United_States_Fires\\\\United_States_2018_Fires\\\\dec\\\\multi_day\"\n",
    "x_train, y_train, pca_array  = nn_train_test(path, n_past = 3, n_comp = 5, n_future =1)"
   ]
  },
  {
   "cell_type": "markdown",
   "id": "d372f402",
   "metadata": {},
   "source": [
    "<div class=\"alert alert-block alert-warning\">\n",
    "<b>Check:</b> \n",
    "    Check the shape of your x_train and y_train data\n",
    "</div>"
   ]
  },
  {
   "cell_type": "code",
   "execution_count": 9,
   "id": "d00db36a",
   "metadata": {},
   "outputs": [
    {
     "data": {
      "text/plain": [
       "((915, 1280, 3), (915, 1280))"
      ]
     },
     "execution_count": 9,
     "metadata": {},
     "output_type": "execute_result"
    }
   ],
   "source": [
    "x_train.shape, y_train.shape"
   ]
  },
  {
   "cell_type": "markdown",
   "id": "6311c49e",
   "metadata": {},
   "source": [
    "<div class=\"alert alert-block alert-success\">\n",
    "<b>Train your RNN:</b> Train your RNN using the training data.\n",
    "    \n",
    "    You might notice a lot of arbitrary values here (these are things we will want to change and test)\n",
    "    - Dropout: High dropout leads to more generalization. Low dropout takes advantage of more data but overfits more easily\n",
    "    - # of hidden layers: Right now, there are 2 hidden layers (+ 1 at the end). We can change this\n",
    "    - # units at hidden layers: Right now, units decrease by 1 at each hidden layer. This is arbitrary and can be changed\n",
    "    - optimizer --> 'adam' works but I don't know what it does\n",
    "    - epochs --> We can raise this above 1 but I don't notice that changing much when I have done so\n",
    "    - batch_size --> Higher batch size leads to more generalization\n",
    "</div>"
   ]
  },
  {
   "cell_type": "code",
   "execution_count": null,
   "id": "76bad480",
   "metadata": {},
   "outputs": [],
   "source": [
    "# No need to run this if you are loading a model\n",
    "regressor = Sequential()\n",
    "\n",
    "dropout = 0\n",
    "regressor.add(tf.keras.layers.Bidirectional(LSTM(units=n_past, return_sequences=True, input_shape = x_train[0].shape)))\n",
    "regressor.add(Dropout(dropout))\n",
    "\n",
    "regressor.add(LSTM(units = n_past - 1, return_sequences = True))\n",
    "regressor.add(Dropout(dropout))\n",
    "\n",
    "\n",
    "regressor.add(LSTM(units = n_past - 2, return_sequences = True))\n",
    "regressor.add(Dropout(dropout))\n",
    "'''\n",
    "regressor.add(LSTM(units = n_past, return_sequences = True))\n",
    "regressor.add(Dropout(dropout))\n",
    "'''\n",
    "\n",
    "regressor.add(Dense(units = n_future, activation = 'linear'))\n",
    "\n",
    "regressor.compile(optimizer = 'adam', loss = 'mean_squared_error', metrics = ['acc'])\n",
    "\n",
    "regressor.fit(x_train, y_train, epochs = 1, batch_size = 1)"
   ]
  },
  {
   "cell_type": "markdown",
   "id": "70c7702e",
   "metadata": {},
   "source": [
    "<div class=\"alert alert-block alert-warning\">\n",
    "<b>Load pre-trained model:</b> \n",
    "    If you want to load a model instead, use this\n",
    "</div>"
   ]
  },
  {
   "cell_type": "code",
   "execution_count": 11,
   "id": "3876b21e",
   "metadata": {},
   "outputs": [],
   "source": [
    "from keras.models import load_model\n",
    "model_name = 'my_model_no_scalar' ## CHANGE THIS (e.g. 'my_model') ##\n",
    "regressor = load_model(model_name)"
   ]
  },
  {
   "cell_type": "markdown",
   "id": "bc829d26",
   "metadata": {},
   "source": [
    "<div class=\"alert alert-block alert-warning\">\n",
    "<b>Save pre-trained model:</b> \n",
    "    If you want to save a model instead, use this\n",
    "</div>"
   ]
  },
  {
   "cell_type": "code",
   "execution_count": null,
   "id": "1d59f381",
   "metadata": {},
   "outputs": [],
   "source": [
    "model_name = ## CHANGE THIS (e.g. 'my_model') ##\n",
    "regressor.save(model_name)"
   ]
  },
  {
   "cell_type": "markdown",
   "id": "d2ffbf67",
   "metadata": {},
   "source": [
    "<div class=\"alert alert-block alert-warning\">\n",
    "<b>Input Data for Testing:</b> \n",
    "    Below, we get the input data from March 2018! \n",
    "</div>"
   ]
  },
  {
   "cell_type": "code",
   "execution_count": 17,
   "id": "9b1dc269",
   "metadata": {},
   "outputs": [
    {
     "name": "stderr",
     "output_type": "stream",
     "text": [
      "C:\\Users\\nico\\miniconda3\\lib\\site-packages\\sklearn\\decomposition\\_pca.py:501: RuntimeWarning: invalid value encountered in true_divide\n",
      "  explained_variance_ratio_ = explained_variance_ / total_var\n",
      "C:\\Users\\nico\\miniconda3\\lib\\site-packages\\sklearn\\decomposition\\_pca.py:501: RuntimeWarning: invalid value encountered in true_divide\n",
      "  explained_variance_ratio_ = explained_variance_ / total_var\n",
      "C:\\Users\\nico\\miniconda3\\lib\\site-packages\\sklearn\\decomposition\\_pca.py:501: RuntimeWarning: invalid value encountered in true_divide\n",
      "  explained_variance_ratio_ = explained_variance_ / total_var\n",
      "C:\\Users\\nico\\miniconda3\\lib\\site-packages\\sklearn\\decomposition\\_pca.py:501: RuntimeWarning: invalid value encountered in true_divide\n",
      "  explained_variance_ratio_ = explained_variance_ / total_var\n",
      "C:\\Users\\nico\\miniconda3\\lib\\site-packages\\sklearn\\decomposition\\_pca.py:501: RuntimeWarning: invalid value encountered in true_divide\n",
      "  explained_variance_ratio_ = explained_variance_ / total_var\n",
      "C:\\Users\\nico\\miniconda3\\lib\\site-packages\\sklearn\\decomposition\\_pca.py:501: RuntimeWarning: invalid value encountered in true_divide\n",
      "  explained_variance_ratio_ = explained_variance_ / total_var\n",
      "C:\\Users\\nico\\miniconda3\\lib\\site-packages\\sklearn\\decomposition\\_pca.py:501: RuntimeWarning: invalid value encountered in true_divide\n",
      "  explained_variance_ratio_ = explained_variance_ / total_var\n"
     ]
    },
    {
     "name": "stdout",
     "output_type": "stream",
     "text": [
      "41 41 41\n",
      "53 53 53\n"
     ]
    },
    {
     "name": "stderr",
     "output_type": "stream",
     "text": [
      "C:\\Users\\nico\\miniconda3\\lib\\site-packages\\sklearn\\decomposition\\_pca.py:501: RuntimeWarning: invalid value encountered in true_divide\n",
      "  explained_variance_ratio_ = explained_variance_ / total_var\n",
      "C:\\Users\\nico\\miniconda3\\lib\\site-packages\\sklearn\\decomposition\\_pca.py:501: RuntimeWarning: invalid value encountered in true_divide\n",
      "  explained_variance_ratio_ = explained_variance_ / total_var\n",
      "C:\\Users\\nico\\miniconda3\\lib\\site-packages\\sklearn\\decomposition\\_pca.py:501: RuntimeWarning: invalid value encountered in true_divide\n",
      "  explained_variance_ratio_ = explained_variance_ / total_var\n",
      "C:\\Users\\nico\\miniconda3\\lib\\site-packages\\sklearn\\decomposition\\_pca.py:501: RuntimeWarning: invalid value encountered in true_divide\n",
      "  explained_variance_ratio_ = explained_variance_ / total_var\n",
      "C:\\Users\\nico\\miniconda3\\lib\\site-packages\\sklearn\\decomposition\\_pca.py:501: RuntimeWarning: invalid value encountered in true_divide\n",
      "  explained_variance_ratio_ = explained_variance_ / total_var\n",
      "C:\\Users\\nico\\miniconda3\\lib\\site-packages\\sklearn\\decomposition\\_pca.py:501: RuntimeWarning: invalid value encountered in true_divide\n",
      "  explained_variance_ratio_ = explained_variance_ / total_var\n",
      "C:\\Users\\nico\\miniconda3\\lib\\site-packages\\sklearn\\decomposition\\_pca.py:501: RuntimeWarning: invalid value encountered in true_divide\n",
      "  explained_variance_ratio_ = explained_variance_ / total_var\n",
      "C:\\Users\\nico\\miniconda3\\lib\\site-packages\\sklearn\\decomposition\\_pca.py:501: RuntimeWarning: invalid value encountered in true_divide\n",
      "  explained_variance_ratio_ = explained_variance_ / total_var\n",
      "C:\\Users\\nico\\miniconda3\\lib\\site-packages\\sklearn\\decomposition\\_pca.py:501: RuntimeWarning: invalid value encountered in true_divide\n",
      "  explained_variance_ratio_ = explained_variance_ / total_var\n",
      "C:\\Users\\nico\\miniconda3\\lib\\site-packages\\sklearn\\decomposition\\_pca.py:501: RuntimeWarning: invalid value encountered in true_divide\n",
      "  explained_variance_ratio_ = explained_variance_ / total_var\n",
      "C:\\Users\\nico\\miniconda3\\lib\\site-packages\\sklearn\\decomposition\\_pca.py:501: RuntimeWarning: invalid value encountered in true_divide\n",
      "  explained_variance_ratio_ = explained_variance_ / total_var\n"
     ]
    },
    {
     "name": "stdout",
     "output_type": "stream",
     "text": [
      "89 89 89\n"
     ]
    },
    {
     "name": "stderr",
     "output_type": "stream",
     "text": [
      "C:\\Users\\nico\\miniconda3\\lib\\site-packages\\sklearn\\decomposition\\_pca.py:501: RuntimeWarning: invalid value encountered in true_divide\n",
      "  explained_variance_ratio_ = explained_variance_ / total_var\n"
     ]
    },
    {
     "name": "stdout",
     "output_type": "stream",
     "text": [
      "121 121 121\n"
     ]
    },
    {
     "name": "stderr",
     "output_type": "stream",
     "text": [
      "C:\\Users\\nico\\miniconda3\\lib\\site-packages\\sklearn\\decomposition\\_pca.py:501: RuntimeWarning: invalid value encountered in true_divide\n",
      "  explained_variance_ratio_ = explained_variance_ / total_var\n"
     ]
    },
    {
     "name": "stdout",
     "output_type": "stream",
     "text": [
      "136 136 136\n"
     ]
    },
    {
     "name": "stderr",
     "output_type": "stream",
     "text": [
      "C:\\Users\\nico\\miniconda3\\lib\\site-packages\\sklearn\\decomposition\\_pca.py:501: RuntimeWarning: invalid value encountered in true_divide\n",
      "  explained_variance_ratio_ = explained_variance_ / total_var\n",
      "C:\\Users\\nico\\miniconda3\\lib\\site-packages\\sklearn\\decomposition\\_pca.py:501: RuntimeWarning: invalid value encountered in true_divide\n",
      "  explained_variance_ratio_ = explained_variance_ / total_var\n",
      "C:\\Users\\nico\\miniconda3\\lib\\site-packages\\sklearn\\decomposition\\_pca.py:501: RuntimeWarning: invalid value encountered in true_divide\n",
      "  explained_variance_ratio_ = explained_variance_ / total_var\n",
      "C:\\Users\\nico\\miniconda3\\lib\\site-packages\\sklearn\\decomposition\\_pca.py:501: RuntimeWarning: invalid value encountered in true_divide\n",
      "  explained_variance_ratio_ = explained_variance_ / total_var\n",
      "C:\\Users\\nico\\miniconda3\\lib\\site-packages\\sklearn\\decomposition\\_pca.py:501: RuntimeWarning: invalid value encountered in true_divide\n",
      "  explained_variance_ratio_ = explained_variance_ / total_var\n"
     ]
    },
    {
     "name": "stdout",
     "output_type": "stream",
     "text": [
      "160 160 160\n",
      "177 177 177\n"
     ]
    },
    {
     "name": "stderr",
     "output_type": "stream",
     "text": [
      "C:\\Users\\nico\\miniconda3\\lib\\site-packages\\sklearn\\decomposition\\_pca.py:501: RuntimeWarning: invalid value encountered in true_divide\n",
      "  explained_variance_ratio_ = explained_variance_ / total_var\n",
      "C:\\Users\\nico\\miniconda3\\lib\\site-packages\\sklearn\\decomposition\\_pca.py:501: RuntimeWarning: invalid value encountered in true_divide\n",
      "  explained_variance_ratio_ = explained_variance_ / total_var\n",
      "C:\\Users\\nico\\miniconda3\\lib\\site-packages\\sklearn\\decomposition\\_pca.py:501: RuntimeWarning: invalid value encountered in true_divide\n",
      "  explained_variance_ratio_ = explained_variance_ / total_var\n",
      "C:\\Users\\nico\\miniconda3\\lib\\site-packages\\sklearn\\decomposition\\_pca.py:501: RuntimeWarning: invalid value encountered in true_divide\n",
      "  explained_variance_ratio_ = explained_variance_ / total_var\n",
      "C:\\Users\\nico\\miniconda3\\lib\\site-packages\\sklearn\\decomposition\\_pca.py:501: RuntimeWarning: invalid value encountered in true_divide\n",
      "  explained_variance_ratio_ = explained_variance_ / total_var\n",
      "C:\\Users\\nico\\miniconda3\\lib\\site-packages\\sklearn\\decomposition\\_pca.py:501: RuntimeWarning: invalid value encountered in true_divide\n",
      "  explained_variance_ratio_ = explained_variance_ / total_var\n",
      "C:\\Users\\nico\\miniconda3\\lib\\site-packages\\sklearn\\decomposition\\_pca.py:501: RuntimeWarning: invalid value encountered in true_divide\n",
      "  explained_variance_ratio_ = explained_variance_ / total_var\n",
      "C:\\Users\\nico\\miniconda3\\lib\\site-packages\\sklearn\\decomposition\\_pca.py:501: RuntimeWarning: invalid value encountered in true_divide\n",
      "  explained_variance_ratio_ = explained_variance_ / total_var\n",
      "C:\\Users\\nico\\miniconda3\\lib\\site-packages\\sklearn\\decomposition\\_pca.py:501: RuntimeWarning: invalid value encountered in true_divide\n",
      "  explained_variance_ratio_ = explained_variance_ / total_var\n",
      "C:\\Users\\nico\\miniconda3\\lib\\site-packages\\sklearn\\decomposition\\_pca.py:501: RuntimeWarning: invalid value encountered in true_divide\n",
      "  explained_variance_ratio_ = explained_variance_ / total_var\n",
      "C:\\Users\\nico\\miniconda3\\lib\\site-packages\\sklearn\\decomposition\\_pca.py:501: RuntimeWarning: invalid value encountered in true_divide\n",
      "  explained_variance_ratio_ = explained_variance_ / total_var\n",
      "C:\\Users\\nico\\miniconda3\\lib\\site-packages\\sklearn\\decomposition\\_pca.py:501: RuntimeWarning: invalid value encountered in true_divide\n",
      "  explained_variance_ratio_ = explained_variance_ / total_var\n"
     ]
    },
    {
     "name": "stdout",
     "output_type": "stream",
     "text": [
      "202 202 202\n"
     ]
    },
    {
     "name": "stderr",
     "output_type": "stream",
     "text": [
      "C:\\Users\\nico\\miniconda3\\lib\\site-packages\\sklearn\\decomposition\\_pca.py:501: RuntimeWarning: invalid value encountered in true_divide\n",
      "  explained_variance_ratio_ = explained_variance_ / total_var\n",
      "C:\\Users\\nico\\miniconda3\\lib\\site-packages\\sklearn\\decomposition\\_pca.py:501: RuntimeWarning: invalid value encountered in true_divide\n",
      "  explained_variance_ratio_ = explained_variance_ / total_var\n",
      "C:\\Users\\nico\\miniconda3\\lib\\site-packages\\sklearn\\decomposition\\_pca.py:501: RuntimeWarning: invalid value encountered in true_divide\n",
      "  explained_variance_ratio_ = explained_variance_ / total_var\n",
      "C:\\Users\\nico\\miniconda3\\lib\\site-packages\\sklearn\\decomposition\\_pca.py:501: RuntimeWarning: invalid value encountered in true_divide\n",
      "  explained_variance_ratio_ = explained_variance_ / total_var\n"
     ]
    },
    {
     "name": "stdout",
     "output_type": "stream",
     "text": [
      "256 256 256\n"
     ]
    },
    {
     "name": "stderr",
     "output_type": "stream",
     "text": [
      "C:\\Users\\nico\\miniconda3\\lib\\site-packages\\sklearn\\decomposition\\_pca.py:501: RuntimeWarning: invalid value encountered in true_divide\n",
      "  explained_variance_ratio_ = explained_variance_ / total_var\n",
      "C:\\Users\\nico\\miniconda3\\lib\\site-packages\\sklearn\\decomposition\\_pca.py:501: RuntimeWarning: invalid value encountered in true_divide\n",
      "  explained_variance_ratio_ = explained_variance_ / total_var\n",
      "C:\\Users\\nico\\miniconda3\\lib\\site-packages\\sklearn\\decomposition\\_pca.py:501: RuntimeWarning: invalid value encountered in true_divide\n",
      "  explained_variance_ratio_ = explained_variance_ / total_var\n",
      "C:\\Users\\nico\\miniconda3\\lib\\site-packages\\sklearn\\decomposition\\_pca.py:501: RuntimeWarning: invalid value encountered in true_divide\n",
      "  explained_variance_ratio_ = explained_variance_ / total_var\n",
      "C:\\Users\\nico\\miniconda3\\lib\\site-packages\\sklearn\\decomposition\\_pca.py:501: RuntimeWarning: invalid value encountered in true_divide\n",
      "  explained_variance_ratio_ = explained_variance_ / total_var\n",
      "C:\\Users\\nico\\miniconda3\\lib\\site-packages\\sklearn\\decomposition\\_pca.py:501: RuntimeWarning: invalid value encountered in true_divide\n",
      "  explained_variance_ratio_ = explained_variance_ / total_var\n",
      "C:\\Users\\nico\\miniconda3\\lib\\site-packages\\sklearn\\decomposition\\_pca.py:501: RuntimeWarning: invalid value encountered in true_divide\n",
      "  explained_variance_ratio_ = explained_variance_ / total_var\n",
      "C:\\Users\\nico\\miniconda3\\lib\\site-packages\\sklearn\\decomposition\\_pca.py:501: RuntimeWarning: invalid value encountered in true_divide\n",
      "  explained_variance_ratio_ = explained_variance_ / total_var\n",
      "C:\\Users\\nico\\miniconda3\\lib\\site-packages\\sklearn\\decomposition\\_pca.py:501: RuntimeWarning: invalid value encountered in true_divide\n",
      "  explained_variance_ratio_ = explained_variance_ / total_var\n",
      "C:\\Users\\nico\\miniconda3\\lib\\site-packages\\sklearn\\decomposition\\_pca.py:501: RuntimeWarning: invalid value encountered in true_divide\n",
      "  explained_variance_ratio_ = explained_variance_ / total_var\n",
      "C:\\Users\\nico\\miniconda3\\lib\\site-packages\\sklearn\\decomposition\\_pca.py:501: RuntimeWarning: invalid value encountered in true_divide\n",
      "  explained_variance_ratio_ = explained_variance_ / total_var\n",
      "C:\\Users\\nico\\miniconda3\\lib\\site-packages\\sklearn\\decomposition\\_pca.py:501: RuntimeWarning: invalid value encountered in true_divide\n",
      "  explained_variance_ratio_ = explained_variance_ / total_var\n",
      "C:\\Users\\nico\\miniconda3\\lib\\site-packages\\sklearn\\decomposition\\_pca.py:501: RuntimeWarning: invalid value encountered in true_divide\n",
      "  explained_variance_ratio_ = explained_variance_ / total_var\n",
      "C:\\Users\\nico\\miniconda3\\lib\\site-packages\\sklearn\\decomposition\\_pca.py:501: RuntimeWarning: invalid value encountered in true_divide\n",
      "  explained_variance_ratio_ = explained_variance_ / total_var\n",
      "C:\\Users\\nico\\miniconda3\\lib\\site-packages\\sklearn\\decomposition\\_pca.py:501: RuntimeWarning: invalid value encountered in true_divide\n",
      "  explained_variance_ratio_ = explained_variance_ / total_var\n"
     ]
    },
    {
     "name": "stdout",
     "output_type": "stream",
     "text": [
      "285 285 285\n",
      "298 298 298\n"
     ]
    },
    {
     "name": "stderr",
     "output_type": "stream",
     "text": [
      "C:\\Users\\nico\\miniconda3\\lib\\site-packages\\sklearn\\decomposition\\_pca.py:501: RuntimeWarning: invalid value encountered in true_divide\n",
      "  explained_variance_ratio_ = explained_variance_ / total_var\n",
      "C:\\Users\\nico\\miniconda3\\lib\\site-packages\\sklearn\\decomposition\\_pca.py:501: RuntimeWarning: invalid value encountered in true_divide\n",
      "  explained_variance_ratio_ = explained_variance_ / total_var\n",
      "C:\\Users\\nico\\miniconda3\\lib\\site-packages\\sklearn\\decomposition\\_pca.py:501: RuntimeWarning: invalid value encountered in true_divide\n",
      "  explained_variance_ratio_ = explained_variance_ / total_var\n",
      "C:\\Users\\nico\\miniconda3\\lib\\site-packages\\sklearn\\decomposition\\_pca.py:501: RuntimeWarning: invalid value encountered in true_divide\n",
      "  explained_variance_ratio_ = explained_variance_ / total_var\n",
      "C:\\Users\\nico\\miniconda3\\lib\\site-packages\\sklearn\\decomposition\\_pca.py:501: RuntimeWarning: invalid value encountered in true_divide\n",
      "  explained_variance_ratio_ = explained_variance_ / total_var\n",
      "C:\\Users\\nico\\miniconda3\\lib\\site-packages\\sklearn\\decomposition\\_pca.py:501: RuntimeWarning: invalid value encountered in true_divide\n",
      "  explained_variance_ratio_ = explained_variance_ / total_var\n",
      "C:\\Users\\nico\\miniconda3\\lib\\site-packages\\sklearn\\decomposition\\_pca.py:501: RuntimeWarning: invalid value encountered in true_divide\n",
      "  explained_variance_ratio_ = explained_variance_ / total_var\n"
     ]
    },
    {
     "name": "stdout",
     "output_type": "stream",
     "text": [
      "340 340 340\n"
     ]
    },
    {
     "name": "stderr",
     "output_type": "stream",
     "text": [
      "C:\\Users\\nico\\miniconda3\\lib\\site-packages\\sklearn\\decomposition\\_pca.py:501: RuntimeWarning: invalid value encountered in true_divide\n",
      "  explained_variance_ratio_ = explained_variance_ / total_var\n",
      "C:\\Users\\nico\\miniconda3\\lib\\site-packages\\sklearn\\decomposition\\_pca.py:501: RuntimeWarning: invalid value encountered in true_divide\n",
      "  explained_variance_ratio_ = explained_variance_ / total_var\n",
      "C:\\Users\\nico\\miniconda3\\lib\\site-packages\\sklearn\\decomposition\\_pca.py:501: RuntimeWarning: invalid value encountered in true_divide\n",
      "  explained_variance_ratio_ = explained_variance_ / total_var\n",
      "C:\\Users\\nico\\miniconda3\\lib\\site-packages\\sklearn\\decomposition\\_pca.py:501: RuntimeWarning: invalid value encountered in true_divide\n",
      "  explained_variance_ratio_ = explained_variance_ / total_var\n"
     ]
    },
    {
     "name": "stdout",
     "output_type": "stream",
     "text": [
      "362 362 362\n",
      "375 375 375\n"
     ]
    },
    {
     "name": "stderr",
     "output_type": "stream",
     "text": [
      "C:\\Users\\nico\\miniconda3\\lib\\site-packages\\sklearn\\decomposition\\_pca.py:501: RuntimeWarning: invalid value encountered in true_divide\n",
      "  explained_variance_ratio_ = explained_variance_ / total_var\n",
      "C:\\Users\\nico\\miniconda3\\lib\\site-packages\\sklearn\\decomposition\\_pca.py:501: RuntimeWarning: invalid value encountered in true_divide\n",
      "  explained_variance_ratio_ = explained_variance_ / total_var\n",
      "C:\\Users\\nico\\miniconda3\\lib\\site-packages\\sklearn\\decomposition\\_pca.py:501: RuntimeWarning: invalid value encountered in true_divide\n",
      "  explained_variance_ratio_ = explained_variance_ / total_var\n",
      "C:\\Users\\nico\\miniconda3\\lib\\site-packages\\sklearn\\decomposition\\_pca.py:501: RuntimeWarning: invalid value encountered in true_divide\n",
      "  explained_variance_ratio_ = explained_variance_ / total_var\n",
      "C:\\Users\\nico\\miniconda3\\lib\\site-packages\\sklearn\\decomposition\\_pca.py:501: RuntimeWarning: invalid value encountered in true_divide\n",
      "  explained_variance_ratio_ = explained_variance_ / total_var\n"
     ]
    },
    {
     "name": "stdout",
     "output_type": "stream",
     "text": [
      "381 381 381\n",
      "382 382 382\n",
      "386 386 386\n"
     ]
    },
    {
     "name": "stderr",
     "output_type": "stream",
     "text": [
      "C:\\Users\\nico\\miniconda3\\lib\\site-packages\\sklearn\\decomposition\\_pca.py:501: RuntimeWarning: invalid value encountered in true_divide\n",
      "  explained_variance_ratio_ = explained_variance_ / total_var\n"
     ]
    },
    {
     "name": "stdout",
     "output_type": "stream",
     "text": [
      "392 392 392\n"
     ]
    },
    {
     "name": "stderr",
     "output_type": "stream",
     "text": [
      "C:\\Users\\nico\\miniconda3\\lib\\site-packages\\sklearn\\decomposition\\_pca.py:501: RuntimeWarning: invalid value encountered in true_divide\n",
      "  explained_variance_ratio_ = explained_variance_ / total_var\n"
     ]
    },
    {
     "name": "stdout",
     "output_type": "stream",
     "text": [
      "399 399 399\n"
     ]
    },
    {
     "name": "stderr",
     "output_type": "stream",
     "text": [
      "C:\\Users\\nico\\miniconda3\\lib\\site-packages\\sklearn\\decomposition\\_pca.py:501: RuntimeWarning: invalid value encountered in true_divide\n",
      "  explained_variance_ratio_ = explained_variance_ / total_var\n",
      "C:\\Users\\nico\\miniconda3\\lib\\site-packages\\sklearn\\decomposition\\_pca.py:501: RuntimeWarning: invalid value encountered in true_divide\n",
      "  explained_variance_ratio_ = explained_variance_ / total_var\n",
      "C:\\Users\\nico\\miniconda3\\lib\\site-packages\\sklearn\\decomposition\\_pca.py:501: RuntimeWarning: invalid value encountered in true_divide\n",
      "  explained_variance_ratio_ = explained_variance_ / total_var\n",
      "C:\\Users\\nico\\miniconda3\\lib\\site-packages\\sklearn\\decomposition\\_pca.py:501: RuntimeWarning: invalid value encountered in true_divide\n",
      "  explained_variance_ratio_ = explained_variance_ / total_var\n"
     ]
    },
    {
     "name": "stdout",
     "output_type": "stream",
     "text": [
      "418 418 418\n"
     ]
    },
    {
     "name": "stderr",
     "output_type": "stream",
     "text": [
      "C:\\Users\\nico\\miniconda3\\lib\\site-packages\\sklearn\\decomposition\\_pca.py:501: RuntimeWarning: invalid value encountered in true_divide\n",
      "  explained_variance_ratio_ = explained_variance_ / total_var\n"
     ]
    },
    {
     "name": "stdout",
     "output_type": "stream",
     "text": [
      "438 438 438\n"
     ]
    },
    {
     "name": "stderr",
     "output_type": "stream",
     "text": [
      "C:\\Users\\nico\\miniconda3\\lib\\site-packages\\sklearn\\decomposition\\_pca.py:501: RuntimeWarning: invalid value encountered in true_divide\n",
      "  explained_variance_ratio_ = explained_variance_ / total_var\n"
     ]
    },
    {
     "name": "stdout",
     "output_type": "stream",
     "text": [
      "445 445 445\n"
     ]
    },
    {
     "name": "stderr",
     "output_type": "stream",
     "text": [
      "C:\\Users\\nico\\miniconda3\\lib\\site-packages\\sklearn\\decomposition\\_pca.py:501: RuntimeWarning: invalid value encountered in true_divide\n",
      "  explained_variance_ratio_ = explained_variance_ / total_var\n"
     ]
    },
    {
     "name": "stdout",
     "output_type": "stream",
     "text": [
      "454 454 454\n",
      "458 458 458\n"
     ]
    },
    {
     "name": "stderr",
     "output_type": "stream",
     "text": [
      "C:\\Users\\nico\\miniconda3\\lib\\site-packages\\sklearn\\decomposition\\_pca.py:501: RuntimeWarning: invalid value encountered in true_divide\n",
      "  explained_variance_ratio_ = explained_variance_ / total_var\n",
      "C:\\Users\\nico\\miniconda3\\lib\\site-packages\\sklearn\\decomposition\\_pca.py:501: RuntimeWarning: invalid value encountered in true_divide\n",
      "  explained_variance_ratio_ = explained_variance_ / total_var\n"
     ]
    },
    {
     "name": "stdout",
     "output_type": "stream",
     "text": [
      "462 462 462\n"
     ]
    },
    {
     "name": "stderr",
     "output_type": "stream",
     "text": [
      "C:\\Users\\nico\\miniconda3\\lib\\site-packages\\sklearn\\decomposition\\_pca.py:501: RuntimeWarning: invalid value encountered in true_divide\n",
      "  explained_variance_ratio_ = explained_variance_ / total_var\n"
     ]
    },
    {
     "name": "stdout",
     "output_type": "stream",
     "text": [
      "478 478 478\n"
     ]
    },
    {
     "name": "stderr",
     "output_type": "stream",
     "text": [
      "C:\\Users\\nico\\miniconda3\\lib\\site-packages\\sklearn\\decomposition\\_pca.py:501: RuntimeWarning: invalid value encountered in true_divide\n",
      "  explained_variance_ratio_ = explained_variance_ / total_var\n"
     ]
    },
    {
     "name": "stdout",
     "output_type": "stream",
     "text": [
      "486 486 486\n"
     ]
    },
    {
     "name": "stderr",
     "output_type": "stream",
     "text": [
      "C:\\Users\\nico\\miniconda3\\lib\\site-packages\\sklearn\\decomposition\\_pca.py:501: RuntimeWarning: invalid value encountered in true_divide\n",
      "  explained_variance_ratio_ = explained_variance_ / total_var\n"
     ]
    },
    {
     "name": "stdout",
     "output_type": "stream",
     "text": [
      "498 498 498\n"
     ]
    },
    {
     "name": "stderr",
     "output_type": "stream",
     "text": [
      "C:\\Users\\nico\\miniconda3\\lib\\site-packages\\sklearn\\decomposition\\_pca.py:501: RuntimeWarning: invalid value encountered in true_divide\n",
      "  explained_variance_ratio_ = explained_variance_ / total_var\n",
      "C:\\Users\\nico\\miniconda3\\lib\\site-packages\\sklearn\\decomposition\\_pca.py:501: RuntimeWarning: invalid value encountered in true_divide\n",
      "  explained_variance_ratio_ = explained_variance_ / total_var\n",
      "C:\\Users\\nico\\miniconda3\\lib\\site-packages\\sklearn\\decomposition\\_pca.py:501: RuntimeWarning: invalid value encountered in true_divide\n",
      "  explained_variance_ratio_ = explained_variance_ / total_var\n",
      "C:\\Users\\nico\\miniconda3\\lib\\site-packages\\sklearn\\decomposition\\_pca.py:501: RuntimeWarning: invalid value encountered in true_divide\n",
      "  explained_variance_ratio_ = explained_variance_ / total_var\n",
      "C:\\Users\\nico\\miniconda3\\lib\\site-packages\\sklearn\\decomposition\\_pca.py:501: RuntimeWarning: invalid value encountered in true_divide\n",
      "  explained_variance_ratio_ = explained_variance_ / total_var\n"
     ]
    },
    {
     "name": "stdout",
     "output_type": "stream",
     "text": [
      "518 518 518\n",
      "538 538 538\n",
      "542 542 542\n"
     ]
    },
    {
     "name": "stderr",
     "output_type": "stream",
     "text": [
      "C:\\Users\\nico\\miniconda3\\lib\\site-packages\\sklearn\\decomposition\\_pca.py:501: RuntimeWarning: invalid value encountered in true_divide\n",
      "  explained_variance_ratio_ = explained_variance_ / total_var\n",
      "C:\\Users\\nico\\miniconda3\\lib\\site-packages\\sklearn\\decomposition\\_pca.py:501: RuntimeWarning: invalid value encountered in true_divide\n",
      "  explained_variance_ratio_ = explained_variance_ / total_var\n"
     ]
    },
    {
     "name": "stdout",
     "output_type": "stream",
     "text": [
      "546 546 546\n"
     ]
    },
    {
     "name": "stderr",
     "output_type": "stream",
     "text": [
      "C:\\Users\\nico\\miniconda3\\lib\\site-packages\\sklearn\\decomposition\\_pca.py:501: RuntimeWarning: invalid value encountered in true_divide\n",
      "  explained_variance_ratio_ = explained_variance_ / total_var\n"
     ]
    },
    {
     "name": "stdout",
     "output_type": "stream",
     "text": [
      "552 552 552\n",
      "556 "
     ]
    },
    {
     "name": "stderr",
     "output_type": "stream",
     "text": [
      "C:\\Users\\nico\\miniconda3\\lib\\site-packages\\sklearn\\decomposition\\_pca.py:501: RuntimeWarning: invalid value encountered in true_divide\n",
      "  explained_variance_ratio_ = explained_variance_ / total_var\n",
      "C:\\Users\\nico\\miniconda3\\lib\\site-packages\\sklearn\\decomposition\\_pca.py:501: RuntimeWarning: invalid value encountered in true_divide\n",
      "  explained_variance_ratio_ = explained_variance_ / total_var\n"
     ]
    },
    {
     "name": "stdout",
     "output_type": "stream",
     "text": [
      "556 556\n",
      "560 560 560\n"
     ]
    },
    {
     "name": "stderr",
     "output_type": "stream",
     "text": [
      "C:\\Users\\nico\\miniconda3\\lib\\site-packages\\sklearn\\decomposition\\_pca.py:501: RuntimeWarning: invalid value encountered in true_divide\n",
      "  explained_variance_ratio_ = explained_variance_ / total_var\n",
      "C:\\Users\\nico\\miniconda3\\lib\\site-packages\\sklearn\\decomposition\\_pca.py:501: RuntimeWarning: invalid value encountered in true_divide\n",
      "  explained_variance_ratio_ = explained_variance_ / total_var\n"
     ]
    },
    {
     "name": "stdout",
     "output_type": "stream",
     "text": [
      "563 563 563\n",
      "578 578 578\n"
     ]
    },
    {
     "name": "stderr",
     "output_type": "stream",
     "text": [
      "C:\\Users\\nico\\miniconda3\\lib\\site-packages\\sklearn\\decomposition\\_pca.py:501: RuntimeWarning: invalid value encountered in true_divide\n",
      "  explained_variance_ratio_ = explained_variance_ / total_var\n",
      "C:\\Users\\nico\\miniconda3\\lib\\site-packages\\sklearn\\decomposition\\_pca.py:501: RuntimeWarning: invalid value encountered in true_divide\n",
      "  explained_variance_ratio_ = explained_variance_ / total_var\n"
     ]
    },
    {
     "name": "stdout",
     "output_type": "stream",
     "text": [
      "583 583 583\n",
      "591 591 591\n"
     ]
    },
    {
     "name": "stderr",
     "output_type": "stream",
     "text": [
      "C:\\Users\\nico\\miniconda3\\lib\\site-packages\\sklearn\\decomposition\\_pca.py:501: RuntimeWarning: invalid value encountered in true_divide\n",
      "  explained_variance_ratio_ = explained_variance_ / total_var\n"
     ]
    },
    {
     "name": "stdout",
     "output_type": "stream",
     "text": [
      "602 602 602\n",
      "603 603 603\n"
     ]
    },
    {
     "name": "stderr",
     "output_type": "stream",
     "text": [
      "C:\\Users\\nico\\miniconda3\\lib\\site-packages\\sklearn\\decomposition\\_pca.py:501: RuntimeWarning: invalid value encountered in true_divide\n",
      "  explained_variance_ratio_ = explained_variance_ / total_var\n",
      "C:\\Users\\nico\\miniconda3\\lib\\site-packages\\sklearn\\decomposition\\_pca.py:501: RuntimeWarning: invalid value encountered in true_divide\n",
      "  explained_variance_ratio_ = explained_variance_ / total_var\n"
     ]
    },
    {
     "name": "stdout",
     "output_type": "stream",
     "text": [
      "609 609 609\n",
      "612 612 612\n"
     ]
    },
    {
     "name": "stderr",
     "output_type": "stream",
     "text": [
      "C:\\Users\\nico\\miniconda3\\lib\\site-packages\\sklearn\\decomposition\\_pca.py:501: RuntimeWarning: invalid value encountered in true_divide\n",
      "  explained_variance_ratio_ = explained_variance_ / total_var\n",
      "C:\\Users\\nico\\miniconda3\\lib\\site-packages\\sklearn\\decomposition\\_pca.py:501: RuntimeWarning: invalid value encountered in true_divide\n",
      "  explained_variance_ratio_ = explained_variance_ / total_var\n"
     ]
    },
    {
     "name": "stdout",
     "output_type": "stream",
     "text": [
      "614 614 614\n",
      "616 616 616\n"
     ]
    },
    {
     "name": "stderr",
     "output_type": "stream",
     "text": [
      "C:\\Users\\nico\\miniconda3\\lib\\site-packages\\sklearn\\decomposition\\_pca.py:501: RuntimeWarning: invalid value encountered in true_divide\n",
      "  explained_variance_ratio_ = explained_variance_ / total_var\n",
      "C:\\Users\\nico\\miniconda3\\lib\\site-packages\\sklearn\\decomposition\\_pca.py:501: RuntimeWarning: invalid value encountered in true_divide\n",
      "  explained_variance_ratio_ = explained_variance_ / total_var\n",
      "C:\\Users\\nico\\miniconda3\\lib\\site-packages\\sklearn\\decomposition\\_pca.py:501: RuntimeWarning: invalid value encountered in true_divide\n",
      "  explained_variance_ratio_ = explained_variance_ / total_var\n",
      "C:\\Users\\nico\\miniconda3\\lib\\site-packages\\sklearn\\decomposition\\_pca.py:501: RuntimeWarning: invalid value encountered in true_divide\n",
      "  explained_variance_ratio_ = explained_variance_ / total_var\n",
      "C:\\Users\\nico\\miniconda3\\lib\\site-packages\\sklearn\\decomposition\\_pca.py:501: RuntimeWarning: invalid value encountered in true_divide\n",
      "  explained_variance_ratio_ = explained_variance_ / total_var\n",
      "C:\\Users\\nico\\miniconda3\\lib\\site-packages\\sklearn\\decomposition\\_pca.py:501: RuntimeWarning: invalid value encountered in true_divide\n",
      "  explained_variance_ratio_ = explained_variance_ / total_var\n"
     ]
    },
    {
     "name": "stdout",
     "output_type": "stream",
     "text": [
      "629 629 629\n"
     ]
    },
    {
     "name": "stderr",
     "output_type": "stream",
     "text": [
      "C:\\Users\\nico\\miniconda3\\lib\\site-packages\\sklearn\\decomposition\\_pca.py:501: RuntimeWarning: invalid value encountered in true_divide\n",
      "  explained_variance_ratio_ = explained_variance_ / total_var\n",
      "C:\\Users\\nico\\miniconda3\\lib\\site-packages\\sklearn\\decomposition\\_pca.py:501: RuntimeWarning: invalid value encountered in true_divide\n",
      "  explained_variance_ratio_ = explained_variance_ / total_var\n"
     ]
    },
    {
     "name": "stdout",
     "output_type": "stream",
     "text": [
      "634 634 634\n",
      "636 636 636\n"
     ]
    },
    {
     "name": "stderr",
     "output_type": "stream",
     "text": [
      "C:\\Users\\nico\\miniconda3\\lib\\site-packages\\sklearn\\decomposition\\_pca.py:501: RuntimeWarning: invalid value encountered in true_divide\n",
      "  explained_variance_ratio_ = explained_variance_ / total_var\n"
     ]
    },
    {
     "name": "stdout",
     "output_type": "stream",
     "text": [
      "642 642 642\n"
     ]
    },
    {
     "name": "stderr",
     "output_type": "stream",
     "text": [
      "C:\\Users\\nico\\miniconda3\\lib\\site-packages\\sklearn\\decomposition\\_pca.py:501: RuntimeWarning: invalid value encountered in true_divide\n",
      "  explained_variance_ratio_ = explained_variance_ / total_var\n"
     ]
    },
    {
     "name": "stdout",
     "output_type": "stream",
     "text": [
      "651 651 651\n"
     ]
    },
    {
     "name": "stderr",
     "output_type": "stream",
     "text": [
      "C:\\Users\\nico\\miniconda3\\lib\\site-packages\\sklearn\\decomposition\\_pca.py:501: RuntimeWarning: invalid value encountered in true_divide\n",
      "  explained_variance_ratio_ = explained_variance_ / total_var\n"
     ]
    },
    {
     "name": "stdout",
     "output_type": "stream",
     "text": [
      "662 662 662\n"
     ]
    },
    {
     "name": "stderr",
     "output_type": "stream",
     "text": [
      "C:\\Users\\nico\\miniconda3\\lib\\site-packages\\sklearn\\decomposition\\_pca.py:501: RuntimeWarning: invalid value encountered in true_divide\n",
      "  explained_variance_ratio_ = explained_variance_ / total_var\n",
      "C:\\Users\\nico\\miniconda3\\lib\\site-packages\\sklearn\\decomposition\\_pca.py:501: RuntimeWarning: invalid value encountered in true_divide\n",
      "  explained_variance_ratio_ = explained_variance_ / total_var\n"
     ]
    },
    {
     "name": "stdout",
     "output_type": "stream",
     "text": [
      "667 667 667\n",
      "669 669 669\n"
     ]
    },
    {
     "name": "stderr",
     "output_type": "stream",
     "text": [
      "C:\\Users\\nico\\miniconda3\\lib\\site-packages\\sklearn\\decomposition\\_pca.py:501: RuntimeWarning: invalid value encountered in true_divide\n",
      "  explained_variance_ratio_ = explained_variance_ / total_var\n"
     ]
    },
    {
     "name": "stdout",
     "output_type": "stream",
     "text": [
      "677 677 677\n",
      "679 679 679\n"
     ]
    },
    {
     "name": "stderr",
     "output_type": "stream",
     "text": [
      "C:\\Users\\nico\\miniconda3\\lib\\site-packages\\sklearn\\decomposition\\_pca.py:501: RuntimeWarning: invalid value encountered in true_divide\n",
      "  explained_variance_ratio_ = explained_variance_ / total_var\n",
      "C:\\Users\\nico\\miniconda3\\lib\\site-packages\\sklearn\\decomposition\\_pca.py:501: RuntimeWarning: invalid value encountered in true_divide\n",
      "  explained_variance_ratio_ = explained_variance_ / total_var\n"
     ]
    },
    {
     "name": "stdout",
     "output_type": "stream",
     "text": [
      "680 680 680\n",
      "683 683 683\n"
     ]
    },
    {
     "name": "stderr",
     "output_type": "stream",
     "text": [
      "C:\\Users\\nico\\miniconda3\\lib\\site-packages\\sklearn\\decomposition\\_pca.py:501: RuntimeWarning: invalid value encountered in true_divide\n",
      "  explained_variance_ratio_ = explained_variance_ / total_var\n",
      "C:\\Users\\nico\\miniconda3\\lib\\site-packages\\sklearn\\decomposition\\_pca.py:501: RuntimeWarning: invalid value encountered in true_divide\n",
      "  explained_variance_ratio_ = explained_variance_ / total_var\n"
     ]
    },
    {
     "name": "stdout",
     "output_type": "stream",
     "text": [
      "688 688 688\n"
     ]
    },
    {
     "name": "stderr",
     "output_type": "stream",
     "text": [
      "C:\\Users\\nico\\miniconda3\\lib\\site-packages\\sklearn\\decomposition\\_pca.py:501: RuntimeWarning: invalid value encountered in true_divide\n",
      "  explained_variance_ratio_ = explained_variance_ / total_var\n"
     ]
    },
    {
     "name": "stdout",
     "output_type": "stream",
     "text": [
      "701 701 701\n",
      "705 705 705\n"
     ]
    },
    {
     "name": "stderr",
     "output_type": "stream",
     "text": [
      "C:\\Users\\nico\\miniconda3\\lib\\site-packages\\sklearn\\decomposition\\_pca.py:501: RuntimeWarning: invalid value encountered in true_divide\n",
      "  explained_variance_ratio_ = explained_variance_ / total_var\n",
      "C:\\Users\\nico\\miniconda3\\lib\\site-packages\\sklearn\\decomposition\\_pca.py:501: RuntimeWarning: invalid value encountered in true_divide\n",
      "  explained_variance_ratio_ = explained_variance_ / total_var\n"
     ]
    },
    {
     "name": "stdout",
     "output_type": "stream",
     "text": [
      "706 706 706\n",
      "707 707 707\n",
      "708 "
     ]
    },
    {
     "name": "stderr",
     "output_type": "stream",
     "text": [
      "C:\\Users\\nico\\miniconda3\\lib\\site-packages\\sklearn\\decomposition\\_pca.py:501: RuntimeWarning: invalid value encountered in true_divide\n",
      "  explained_variance_ratio_ = explained_variance_ / total_var\n",
      "C:\\Users\\nico\\miniconda3\\lib\\site-packages\\sklearn\\decomposition\\_pca.py:501: RuntimeWarning: invalid value encountered in true_divide\n",
      "  explained_variance_ratio_ = explained_variance_ / total_var\n",
      "C:\\Users\\nico\\miniconda3\\lib\\site-packages\\sklearn\\decomposition\\_pca.py:501: RuntimeWarning: invalid value encountered in true_divide\n",
      "  explained_variance_ratio_ = explained_variance_ / total_var\n"
     ]
    },
    {
     "name": "stdout",
     "output_type": "stream",
     "text": [
      "708 708\n",
      "712 712 712\n"
     ]
    },
    {
     "name": "stderr",
     "output_type": "stream",
     "text": [
      "C:\\Users\\nico\\miniconda3\\lib\\site-packages\\sklearn\\decomposition\\_pca.py:501: RuntimeWarning: invalid value encountered in true_divide\n",
      "  explained_variance_ratio_ = explained_variance_ / total_var\n",
      "C:\\Users\\nico\\miniconda3\\lib\\site-packages\\sklearn\\decomposition\\_pca.py:501: RuntimeWarning: invalid value encountered in true_divide\n",
      "  explained_variance_ratio_ = explained_variance_ / total_var\n"
     ]
    },
    {
     "name": "stdout",
     "output_type": "stream",
     "text": [
      "714 714 714\n",
      "715 715 715\n"
     ]
    },
    {
     "name": "stderr",
     "output_type": "stream",
     "text": [
      "C:\\Users\\nico\\miniconda3\\lib\\site-packages\\sklearn\\decomposition\\_pca.py:501: RuntimeWarning: invalid value encountered in true_divide\n",
      "  explained_variance_ratio_ = explained_variance_ / total_var\n",
      "C:\\Users\\nico\\miniconda3\\lib\\site-packages\\sklearn\\decomposition\\_pca.py:501: RuntimeWarning: invalid value encountered in true_divide\n",
      "  explained_variance_ratio_ = explained_variance_ / total_var\n",
      "C:\\Users\\nico\\miniconda3\\lib\\site-packages\\sklearn\\decomposition\\_pca.py:501: RuntimeWarning: invalid value encountered in true_divide\n",
      "  explained_variance_ratio_ = explained_variance_ / total_var\n",
      "C:\\Users\\nico\\miniconda3\\lib\\site-packages\\sklearn\\decomposition\\_pca.py:501: RuntimeWarning: invalid value encountered in true_divide\n",
      "  explained_variance_ratio_ = explained_variance_ / total_var\n",
      "C:\\Users\\nico\\miniconda3\\lib\\site-packages\\sklearn\\decomposition\\_pca.py:501: RuntimeWarning: invalid value encountered in true_divide\n",
      "  explained_variance_ratio_ = explained_variance_ / total_var\n",
      "C:\\Users\\nico\\miniconda3\\lib\\site-packages\\sklearn\\decomposition\\_pca.py:501: RuntimeWarning: invalid value encountered in true_divide\n",
      "  explained_variance_ratio_ = explained_variance_ / total_var\n"
     ]
    },
    {
     "name": "stdout",
     "output_type": "stream",
     "text": [
      "728 728 728\n",
      "731 731 731\n"
     ]
    },
    {
     "name": "stderr",
     "output_type": "stream",
     "text": [
      "C:\\Users\\nico\\miniconda3\\lib\\site-packages\\sklearn\\decomposition\\_pca.py:501: RuntimeWarning: invalid value encountered in true_divide\n",
      "  explained_variance_ratio_ = explained_variance_ / total_var\n",
      "C:\\Users\\nico\\miniconda3\\lib\\site-packages\\sklearn\\decomposition\\_pca.py:501: RuntimeWarning: invalid value encountered in true_divide\n",
      "  explained_variance_ratio_ = explained_variance_ / total_var\n"
     ]
    },
    {
     "name": "stdout",
     "output_type": "stream",
     "text": [
      "738 738 738\n",
      "741 741 741\n"
     ]
    },
    {
     "name": "stderr",
     "output_type": "stream",
     "text": [
      "C:\\Users\\nico\\miniconda3\\lib\\site-packages\\sklearn\\decomposition\\_pca.py:501: RuntimeWarning: invalid value encountered in true_divide\n",
      "  explained_variance_ratio_ = explained_variance_ / total_var\n",
      "C:\\Users\\nico\\miniconda3\\lib\\site-packages\\sklearn\\decomposition\\_pca.py:501: RuntimeWarning: invalid value encountered in true_divide\n",
      "  explained_variance_ratio_ = explained_variance_ / total_var\n"
     ]
    },
    {
     "name": "stdout",
     "output_type": "stream",
     "text": [
      "754 754 754\n",
      "756 756 756\n"
     ]
    },
    {
     "name": "stderr",
     "output_type": "stream",
     "text": [
      "C:\\Users\\nico\\miniconda3\\lib\\site-packages\\sklearn\\decomposition\\_pca.py:501: RuntimeWarning: invalid value encountered in true_divide\n",
      "  explained_variance_ratio_ = explained_variance_ / total_var\n",
      "C:\\Users\\nico\\miniconda3\\lib\\site-packages\\sklearn\\decomposition\\_pca.py:501: RuntimeWarning: invalid value encountered in true_divide\n",
      "  explained_variance_ratio_ = explained_variance_ / total_var\n"
     ]
    },
    {
     "name": "stdout",
     "output_type": "stream",
     "text": [
      "762 762 762\n"
     ]
    },
    {
     "name": "stderr",
     "output_type": "stream",
     "text": [
      "C:\\Users\\nico\\miniconda3\\lib\\site-packages\\sklearn\\decomposition\\_pca.py:501: RuntimeWarning: invalid value encountered in true_divide\n",
      "  explained_variance_ratio_ = explained_variance_ / total_var\n",
      "C:\\Users\\nico\\miniconda3\\lib\\site-packages\\sklearn\\decomposition\\_pca.py:501: RuntimeWarning: invalid value encountered in true_divide\n",
      "  explained_variance_ratio_ = explained_variance_ / total_var\n",
      "C:\\Users\\nico\\miniconda3\\lib\\site-packages\\sklearn\\decomposition\\_pca.py:501: RuntimeWarning: invalid value encountered in true_divide\n",
      "  explained_variance_ratio_ = explained_variance_ / total_var\n",
      "C:\\Users\\nico\\miniconda3\\lib\\site-packages\\sklearn\\decomposition\\_pca.py:501: RuntimeWarning: invalid value encountered in true_divide\n",
      "  explained_variance_ratio_ = explained_variance_ / total_var\n",
      "C:\\Users\\nico\\miniconda3\\lib\\site-packages\\sklearn\\decomposition\\_pca.py:501: RuntimeWarning: invalid value encountered in true_divide\n",
      "  explained_variance_ratio_ = explained_variance_ / total_var\n",
      "C:\\Users\\nico\\miniconda3\\lib\\site-packages\\sklearn\\decomposition\\_pca.py:501: RuntimeWarning: invalid value encountered in true_divide\n",
      "  explained_variance_ratio_ = explained_variance_ / total_var\n",
      "C:\\Users\\nico\\miniconda3\\lib\\site-packages\\sklearn\\decomposition\\_pca.py:501: RuntimeWarning: invalid value encountered in true_divide\n",
      "  explained_variance_ratio_ = explained_variance_ / total_var\n",
      "C:\\Users\\nico\\miniconda3\\lib\\site-packages\\sklearn\\decomposition\\_pca.py:501: RuntimeWarning: invalid value encountered in true_divide\n",
      "  explained_variance_ratio_ = explained_variance_ / total_var\n",
      "C:\\Users\\nico\\miniconda3\\lib\\site-packages\\sklearn\\decomposition\\_pca.py:501: RuntimeWarning: invalid value encountered in true_divide\n",
      "  explained_variance_ratio_ = explained_variance_ / total_var\n",
      "C:\\Users\\nico\\miniconda3\\lib\\site-packages\\sklearn\\decomposition\\_pca.py:501: RuntimeWarning: invalid value encountered in true_divide\n",
      "  explained_variance_ratio_ = explained_variance_ / total_var\n",
      "C:\\Users\\nico\\miniconda3\\lib\\site-packages\\sklearn\\decomposition\\_pca.py:501: RuntimeWarning: invalid value encountered in true_divide\n",
      "  explained_variance_ratio_ = explained_variance_ / total_var\n",
      "C:\\Users\\nico\\miniconda3\\lib\\site-packages\\sklearn\\decomposition\\_pca.py:501: RuntimeWarning: invalid value encountered in true_divide\n",
      "  explained_variance_ratio_ = explained_variance_ / total_var\n",
      "C:\\Users\\nico\\miniconda3\\lib\\site-packages\\sklearn\\decomposition\\_pca.py:501: RuntimeWarning: invalid value encountered in true_divide\n",
      "  explained_variance_ratio_ = explained_variance_ / total_var\n",
      "C:\\Users\\nico\\miniconda3\\lib\\site-packages\\sklearn\\decomposition\\_pca.py:501: RuntimeWarning: invalid value encountered in true_divide\n",
      "  explained_variance_ratio_ = explained_variance_ / total_var\n",
      "C:\\Users\\nico\\miniconda3\\lib\\site-packages\\sklearn\\decomposition\\_pca.py:501: RuntimeWarning: invalid value encountered in true_divide\n",
      "  explained_variance_ratio_ = explained_variance_ / total_var\n",
      "C:\\Users\\nico\\miniconda3\\lib\\site-packages\\sklearn\\decomposition\\_pca.py:501: RuntimeWarning: invalid value encountered in true_divide\n",
      "  explained_variance_ratio_ = explained_variance_ / total_var\n",
      "C:\\Users\\nico\\miniconda3\\lib\\site-packages\\sklearn\\decomposition\\_pca.py:501: RuntimeWarning: invalid value encountered in true_divide\n",
      "  explained_variance_ratio_ = explained_variance_ / total_var\n",
      "C:\\Users\\nico\\miniconda3\\lib\\site-packages\\sklearn\\decomposition\\_pca.py:501: RuntimeWarning: invalid value encountered in true_divide\n",
      "  explained_variance_ratio_ = explained_variance_ / total_var\n"
     ]
    },
    {
     "name": "stdout",
     "output_type": "stream",
     "text": [
      "777 777 777\n"
     ]
    },
    {
     "name": "stderr",
     "output_type": "stream",
     "text": [
      "C:\\Users\\nico\\miniconda3\\lib\\site-packages\\sklearn\\decomposition\\_pca.py:501: RuntimeWarning: invalid value encountered in true_divide\n",
      "  explained_variance_ratio_ = explained_variance_ / total_var\n"
     ]
    },
    {
     "name": "stdout",
     "output_type": "stream",
     "text": [
      "788 788 788\n",
      "790 790 790\n"
     ]
    },
    {
     "name": "stderr",
     "output_type": "stream",
     "text": [
      "C:\\Users\\nico\\miniconda3\\lib\\site-packages\\sklearn\\decomposition\\_pca.py:501: RuntimeWarning: invalid value encountered in true_divide\n",
      "  explained_variance_ratio_ = explained_variance_ / total_var\n",
      "C:\\Users\\nico\\miniconda3\\lib\\site-packages\\sklearn\\decomposition\\_pca.py:501: RuntimeWarning: invalid value encountered in true_divide\n",
      "  explained_variance_ratio_ = explained_variance_ / total_var\n"
     ]
    },
    {
     "name": "stdout",
     "output_type": "stream",
     "text": [
      "793 793 793\n"
     ]
    },
    {
     "name": "stderr",
     "output_type": "stream",
     "text": [
      "C:\\Users\\nico\\miniconda3\\lib\\site-packages\\sklearn\\decomposition\\_pca.py:501: RuntimeWarning: invalid value encountered in true_divide\n",
      "  explained_variance_ratio_ = explained_variance_ / total_var\n",
      "C:\\Users\\nico\\miniconda3\\lib\\site-packages\\sklearn\\decomposition\\_pca.py:501: RuntimeWarning: invalid value encountered in true_divide\n",
      "  explained_variance_ratio_ = explained_variance_ / total_var\n"
     ]
    },
    {
     "name": "stdout",
     "output_type": "stream",
     "text": [
      "797 797 797\n",
      "800 800 800\n"
     ]
    },
    {
     "name": "stderr",
     "output_type": "stream",
     "text": [
      "C:\\Users\\nico\\miniconda3\\lib\\site-packages\\sklearn\\decomposition\\_pca.py:501: RuntimeWarning: invalid value encountered in true_divide\n",
      "  explained_variance_ratio_ = explained_variance_ / total_var\n",
      "C:\\Users\\nico\\miniconda3\\lib\\site-packages\\sklearn\\decomposition\\_pca.py:501: RuntimeWarning: invalid value encountered in true_divide\n",
      "  explained_variance_ratio_ = explained_variance_ / total_var\n"
     ]
    },
    {
     "name": "stdout",
     "output_type": "stream",
     "text": [
      "802 802 802\n",
      "803 803 803\n"
     ]
    },
    {
     "name": "stderr",
     "output_type": "stream",
     "text": [
      "C:\\Users\\nico\\miniconda3\\lib\\site-packages\\sklearn\\decomposition\\_pca.py:501: RuntimeWarning: invalid value encountered in true_divide\n",
      "  explained_variance_ratio_ = explained_variance_ / total_var\n",
      "C:\\Users\\nico\\miniconda3\\lib\\site-packages\\sklearn\\decomposition\\_pca.py:501: RuntimeWarning: invalid value encountered in true_divide\n",
      "  explained_variance_ratio_ = explained_variance_ / total_var\n",
      "C:\\Users\\nico\\miniconda3\\lib\\site-packages\\sklearn\\decomposition\\_pca.py:501: RuntimeWarning: invalid value encountered in true_divide\n",
      "  explained_variance_ratio_ = explained_variance_ / total_var\n",
      "C:\\Users\\nico\\miniconda3\\lib\\site-packages\\sklearn\\decomposition\\_pca.py:501: RuntimeWarning: invalid value encountered in true_divide\n",
      "  explained_variance_ratio_ = explained_variance_ / total_var\n",
      "C:\\Users\\nico\\miniconda3\\lib\\site-packages\\sklearn\\decomposition\\_pca.py:501: RuntimeWarning: invalid value encountered in true_divide\n",
      "  explained_variance_ratio_ = explained_variance_ / total_var\n"
     ]
    },
    {
     "name": "stdout",
     "output_type": "stream",
     "text": [
      "822 822 822\n",
      "826 826 826\n"
     ]
    },
    {
     "name": "stderr",
     "output_type": "stream",
     "text": [
      "C:\\Users\\nico\\miniconda3\\lib\\site-packages\\sklearn\\decomposition\\_pca.py:501: RuntimeWarning: invalid value encountered in true_divide\n",
      "  explained_variance_ratio_ = explained_variance_ / total_var\n"
     ]
    },
    {
     "name": "stdout",
     "output_type": "stream",
     "text": [
      "843 843 843\n"
     ]
    },
    {
     "name": "stderr",
     "output_type": "stream",
     "text": [
      "C:\\Users\\nico\\miniconda3\\lib\\site-packages\\sklearn\\decomposition\\_pca.py:501: RuntimeWarning: invalid value encountered in true_divide\n",
      "  explained_variance_ratio_ = explained_variance_ / total_var\n",
      "C:\\Users\\nico\\miniconda3\\lib\\site-packages\\sklearn\\decomposition\\_pca.py:501: RuntimeWarning: invalid value encountered in true_divide\n",
      "  explained_variance_ratio_ = explained_variance_ / total_var\n",
      "C:\\Users\\nico\\miniconda3\\lib\\site-packages\\sklearn\\decomposition\\_pca.py:501: RuntimeWarning: invalid value encountered in true_divide\n",
      "  explained_variance_ratio_ = explained_variance_ / total_var\n",
      "C:\\Users\\nico\\miniconda3\\lib\\site-packages\\sklearn\\decomposition\\_pca.py:501: RuntimeWarning: invalid value encountered in true_divide\n",
      "  explained_variance_ratio_ = explained_variance_ / total_var\n",
      "C:\\Users\\nico\\miniconda3\\lib\\site-packages\\sklearn\\decomposition\\_pca.py:501: RuntimeWarning: invalid value encountered in true_divide\n",
      "  explained_variance_ratio_ = explained_variance_ / total_var\n",
      "C:\\Users\\nico\\miniconda3\\lib\\site-packages\\sklearn\\decomposition\\_pca.py:501: RuntimeWarning: invalid value encountered in true_divide\n",
      "  explained_variance_ratio_ = explained_variance_ / total_var\n"
     ]
    },
    {
     "name": "stdout",
     "output_type": "stream",
     "text": [
      "863 863 863\n",
      "873 873 873\n",
      "876 876 876\n"
     ]
    },
    {
     "name": "stderr",
     "output_type": "stream",
     "text": [
      "C:\\Users\\nico\\miniconda3\\lib\\site-packages\\sklearn\\decomposition\\_pca.py:501: RuntimeWarning: invalid value encountered in true_divide\n",
      "  explained_variance_ratio_ = explained_variance_ / total_var\n",
      "C:\\Users\\nico\\miniconda3\\lib\\site-packages\\sklearn\\decomposition\\_pca.py:501: RuntimeWarning: invalid value encountered in true_divide\n",
      "  explained_variance_ratio_ = explained_variance_ / total_var\n"
     ]
    },
    {
     "name": "stdout",
     "output_type": "stream",
     "text": [
      "884 884 884\n",
      "885 885 885\n"
     ]
    },
    {
     "name": "stderr",
     "output_type": "stream",
     "text": [
      "C:\\Users\\nico\\miniconda3\\lib\\site-packages\\sklearn\\decomposition\\_pca.py:501: RuntimeWarning: invalid value encountered in true_divide\n",
      "  explained_variance_ratio_ = explained_variance_ / total_var\n",
      "C:\\Users\\nico\\miniconda3\\lib\\site-packages\\sklearn\\decomposition\\_pca.py:501: RuntimeWarning: invalid value encountered in true_divide\n",
      "  explained_variance_ratio_ = explained_variance_ / total_var\n"
     ]
    },
    {
     "name": "stdout",
     "output_type": "stream",
     "text": [
      "889 889 889\n",
      "891 891 891\n"
     ]
    },
    {
     "name": "stderr",
     "output_type": "stream",
     "text": [
      "C:\\Users\\nico\\miniconda3\\lib\\site-packages\\sklearn\\decomposition\\_pca.py:501: RuntimeWarning: invalid value encountered in true_divide\n",
      "  explained_variance_ratio_ = explained_variance_ / total_var\n",
      "C:\\Users\\nico\\miniconda3\\lib\\site-packages\\sklearn\\decomposition\\_pca.py:501: RuntimeWarning: invalid value encountered in true_divide\n",
      "  explained_variance_ratio_ = explained_variance_ / total_var\n"
     ]
    },
    {
     "name": "stdout",
     "output_type": "stream",
     "text": [
      "895 895 895\n",
      "898 898 898\n"
     ]
    },
    {
     "name": "stderr",
     "output_type": "stream",
     "text": [
      "C:\\Users\\nico\\miniconda3\\lib\\site-packages\\sklearn\\decomposition\\_pca.py:501: RuntimeWarning: invalid value encountered in true_divide\n",
      "  explained_variance_ratio_ = explained_variance_ / total_var\n",
      "C:\\Users\\nico\\miniconda3\\lib\\site-packages\\sklearn\\decomposition\\_pca.py:501: RuntimeWarning: invalid value encountered in true_divide\n",
      "  explained_variance_ratio_ = explained_variance_ / total_var\n"
     ]
    },
    {
     "name": "stdout",
     "output_type": "stream",
     "text": [
      "901 901 901\n",
      "902 902 902\n"
     ]
    },
    {
     "name": "stderr",
     "output_type": "stream",
     "text": [
      "C:\\Users\\nico\\miniconda3\\lib\\site-packages\\sklearn\\decomposition\\_pca.py:501: RuntimeWarning: invalid value encountered in true_divide\n",
      "  explained_variance_ratio_ = explained_variance_ / total_var\n",
      "C:\\Users\\nico\\miniconda3\\lib\\site-packages\\sklearn\\decomposition\\_pca.py:501: RuntimeWarning: invalid value encountered in true_divide\n",
      "  explained_variance_ratio_ = explained_variance_ / total_var\n"
     ]
    },
    {
     "name": "stdout",
     "output_type": "stream",
     "text": [
      "906 906 906\n",
      "912 912 912\n"
     ]
    },
    {
     "name": "stderr",
     "output_type": "stream",
     "text": [
      "C:\\Users\\nico\\miniconda3\\lib\\site-packages\\sklearn\\decomposition\\_pca.py:501: RuntimeWarning: invalid value encountered in true_divide\n",
      "  explained_variance_ratio_ = explained_variance_ / total_var\n"
     ]
    },
    {
     "name": "stdout",
     "output_type": "stream",
     "text": [
      "915 915 915\n",
      "(915, 1280, 3) (915, 1280) 915\n"
     ]
    },
    {
     "name": "stderr",
     "output_type": "stream",
     "text": [
      "C:\\Users\\nico\\miniconda3\\lib\\site-packages\\sklearn\\decomposition\\_pca.py:501: RuntimeWarning: invalid value encountered in true_divide\n",
      "  explained_variance_ratio_ = explained_variance_ / total_var\n"
     ]
    }
   ],
   "source": [
    "path = \"C:\\\\Users\\\\nico\\\\Desktop\\\\Stanford\\\\OneDrive - Stanford\\\\Courses\\\\CS229\\\\finalproject\\\\data\\\\United_States_Fires\\\\United_States_2018_Fires\\\\dec\\\\multi_day\"\n",
    "x_test, y_test, pca_array  = nn_train_test(path, n_past = 3, n_comp = 5, n_future =1)"
   ]
  },
  {
   "cell_type": "markdown",
   "id": "d21b3723",
   "metadata": {},
   "source": [
    "<div class=\"alert alert-block alert-warning\">\n",
    "<b>Check:</b> I've noticed the first dimensions of these sometimes these don't match. They should.\n",
    "</div>"
   ]
  },
  {
   "cell_type": "code",
   "execution_count": 19,
   "id": "cbb7396c",
   "metadata": {},
   "outputs": [
    {
     "data": {
      "text/plain": [
       "((915, 1280, 3), (915, 1280), 915)"
      ]
     },
     "execution_count": 19,
     "metadata": {},
     "output_type": "execute_result"
    }
   ],
   "source": [
    "x_test.shape, y_test.shape, len(pca_array)"
   ]
  },
  {
   "cell_type": "markdown",
   "id": "d997d43e",
   "metadata": {},
   "source": [
    "<div class=\"alert alert-block alert-warning\">\n",
    "<b> Predict Step:</b> This makes your predictions using your model and reshapes them into a list of 2D arrays\n",
    "</div>"
   ]
  },
  {
   "cell_type": "code",
   "execution_count": 20,
   "id": "0498b2b3",
   "metadata": {},
   "outputs": [],
   "source": [
    "from sklearn.preprocessing import MinMaxScaler\n",
    "#sc = MinMaxScaler(feature_range=(0,1)) This might be useful for making absolute predictions\n",
    "predict_test = regressor.predict(x_test)\n",
    "shape = predict_test.shape\n",
    "nComp = 5\n",
    "predict_test = np.reshape(predict_test, (shape[0], nComp,  shape[1]//nComp))"
   ]
  },
  {
   "cell_type": "markdown",
   "id": "d0e253ca",
   "metadata": {},
   "source": [
    "<div class=\"alert alert-block alert-warning\">\n",
    "<b> Predict Step:</b> Change the number for test number to see how well your network is doing visually\n",
    "    \n",
    "    Note the pca_array[i].inverse_transform()!\n",
    "</div>"
   ]
  },
  {
   "cell_type": "code",
   "execution_count": 21,
   "id": "6ed06fbd",
   "metadata": {},
   "outputs": [
    {
     "data": {
      "text/plain": [
       "<matplotlib.image.AxesImage at 0x297a7b0e790>"
      ]
     },
     "execution_count": 21,
     "metadata": {},
     "output_type": "execute_result"
    },
    {
     "data": {
      "image/png": "[encoded data removed]",
      "text/plain": [
       "<Figure size 288x288 with 1 Axes>"
      ]
     },
     "metadata": {
      "needs_background": "light"
     },
     "output_type": "display_data"
    },
    {
     "data": {
      "image/png": "[encoded data removed]",
      "text/plain": [
       "<Figure size 288x288 with 1 Axes>"
      ]
     },
     "metadata": {
      "needs_background": "light"
     },
     "output_type": "display_data"
    }
   ],
   "source": [
    "test_number = i = 914\n",
    "d = y_test[i]\n",
    "d = np.reshape(d, (256, 5))\n",
    "plt.matshow(pca_array[i].inverse_transform(d))\n",
    "d = predict_test[i]\n",
    "d = np.reshape(d, (256, 5))\n",
    "plt.matshow(pca_array[i].inverse_transform(d))"
   ]
  }
 ],
 "metadata": {
  "kernelspec": {
   "display_name": "Python 3 (ipykernel)",
   "language": "python",
   "name": "python3"
  },
  "language_info": {
   "codemirror_mode": {
    "name": "ipython",
    "version": 3
   },
   "file_extension": ".py",
   "mimetype": "text/x-python",
   "name": "python",
   "nbconvert_exporter": "python",
   "pygments_lexer": "ipython3",
   "version": "3.9.5"
  }
 },
 "nbformat": 4,
 "nbformat_minor": 5
}
