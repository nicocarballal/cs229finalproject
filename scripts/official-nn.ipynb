{
 "cells": [
  {
   "cell_type": "markdown",
   "id": "02ddcf2d",
   "metadata": {},
   "source": [
    "# Official Neural Network Jupyter Notebook"
   ]
  },
  {
   "cell_type": "markdown",
   "id": "229426de",
   "metadata": {},
   "source": [
    "<div class=\"alert alert-block alert-info\">\n",
    "<b>Imports:</b> Common imports for NumPy, MatplotLib, Pandas, OS along with Machine Learning imports for keras and tensorflow </div>"
   ]
  },
  {
   "cell_type": "code",
   "execution_count": 5,
   "id": "5fa66771",
   "metadata": {},
   "outputs": [],
   "source": [
    "# Imports for data generation\n",
    "import numpy as np\n",
    "import matplotlib.pyplot as plt\n",
    "import pandas as pd\n",
    "import os\n",
    "import pickle\n",
    "# Imports for Machine Learning\n",
    "from keras.models import Sequential\n",
    "from keras.layers import LSTM, Dense, Dropout\n",
    "import tensorflow as tf\n",
    "from keras.callbacks import History \n",
    "history = History()"
   ]
  },
  {
   "cell_type": "markdown",
   "id": "dd9f7c58",
   "metadata": {},
   "source": [
    "<div class=\"alert alert-block alert-warning\">\n",
    "<b>nn_train_test() function:</b> \n",
    "    \n",
    "This function creates the train and test sets a little differently. Instead of using pca to reduce dimensionality, it keeps all the data in anticipation of the Neural Net Framework to deal with filtering through it. The d variable allows you to discretize the grid down further as well.\n",
    "    \n",
    "    path --> path to the repository with all your .npy file\n",
    "    n_future --> number of future days of fire you want to predict (will be 1 for us)\n",
    "    n_comp --> Doesn't do anything right now\n",
    "    n_past --> number of past days you want to consider (we can experiment with this)\n",
    "    d --> The size of the discretized fires you want (i.e. d= 32, returns subset of sequences for 32x32 grids)\n",
    "    \n",
    "Outputs:\n",
    "    \n",
    "    input_dim is set to a 1-D array of 256 ^ 2 for now! \n",
    "    x_train --> x_train in format (batch_size, timesteps, input_dim)\n",
    "    y_train --> training data in format (batch_size, input_dim)\n",
    "    pca_array -->  Nothing\n",
    "    \n",
    "</div>"
   ]
  },
  {
   "cell_type": "code",
   "execution_count": 2,
   "id": "d668f925",
   "metadata": {},
   "outputs": [],
   "source": [
    "def nn_train_test(path, n_past, n_comp, n_future = 1, d = 256):\n",
    "    x_train_list = []\n",
    "    y_train_list = []\n",
    "    count = 0\n",
    "    for file in os.listdir(r\"{path}\".format(path = path)):\n",
    "        if os.path.getsize(\"{path}\\\\{file}\".format(path = path, file = file)) < 10000000:\n",
    "            continue\n",
    "        with open(\"{path}\\\\{file}\".format(path = path, file = file), 'rb') as f:\n",
    "            data = pickle.load(f)\n",
    "        training_fire = data['multiDay']\n",
    "        if data['Elevation Data'].shape[0] > training_fire.shape[0] and data['Elevation Data'].shape[1] > training_fire.shape[1]:\n",
    "            elevation_data = data['Elevation Data'][:-1,:-1]\n",
    "        else:\n",
    "            elevation_data = data['Elevation Data'][:,:-1]\n",
    "        \n",
    "        if data['Topographic Data'].shape[0] > training_fire.shape[0] and data['Topographic Data'].shape[1] > training_fire.shape[1]:\n",
    "            topographic_data = data['Topographic Data'][:-1,:-1]\n",
    "        else:\n",
    "            topographic_data = data['Topographic Data'][:,:-1]\n",
    "            \n",
    "        valid_append = []\n",
    "        for i in range(len(data['Unique Dates']) - n_past):\n",
    "            if (data['Unique Dates'][i + 3] - data['Unique Dates'][i]).days == 3:\n",
    "                valid_append.append(i)\n",
    "        if np.any(data['Elevation Data'] == -9999):\n",
    "            continue\n",
    "        if np.any(data['Topographic Data'] == -9999):\n",
    "            continue\n",
    "        topographic_data[topographic_data > 13] = 0\n",
    "        \n",
    "                \n",
    "        top_shape = np.array(elevation_data.shape)\n",
    "        elev_shape = np.array(elevation_data.shape)\n",
    "        elevation_fire = np.zeros((256, 256))\n",
    "        fuel_moisture_fire = np.zeros((256,256))\n",
    "        shape = np.array(training_fire.shape) \n",
    "        fire = np.where(training_fire[1] == 1)\n",
    "        x_center, y_center = int(np.median(fire[0])), int(np.median(fire[1]))\n",
    "        if shape[0] < n_past + n_future:\n",
    "            continue\n",
    "        standard_fire = np.zeros((len(training_fire), 256, 256))    \n",
    "        if shape[1] > 255 or shape[2] > 255:\n",
    "            # could not broadcast input array from shape (39,350,325) into shape (39,512,416)\n",
    "            xLow = x_center - 128 \n",
    "            xHi = shape[1] - x_center\n",
    "            yLow = y_center - 128\n",
    "            yHi = shape[2] - y_center \n",
    "            if shape[1] > 255:  \n",
    "                if xLow < 0:\n",
    "                    xHi = x_center + 128 - xLow\n",
    "                    xLow = 0\n",
    "                elif xHi < 128:       \n",
    "                    xLow = x_center - 256 + xHi\n",
    "                    xHi = shape[1]                   \n",
    "                else:\n",
    "                    xLow = x_center - 128\n",
    "                    xHi = x_center + 128\n",
    "            else:            \n",
    "                xLow = 0\n",
    "                xHi = shape[1]\n",
    "            if shape[2] > 255:\n",
    "                if yLow < 0:\n",
    "                    yHi = y_center + 128 - yLow\n",
    "                    yLow = 0\n",
    "                elif yHi < 128:\n",
    "                    yLow = y_center - 256 + yHi\n",
    "                    yHi = shape[2]\n",
    "                else:\n",
    "                    yLow = y_center - 128\n",
    "                    yHi = y_center + 128\n",
    "            else:\n",
    "                yLow = 0\n",
    "                yHi = shape[2]\n",
    "            standard_fire[:shape[0], :min(256, shape[1]), :min(256, shape[2])] = training_fire[:, xLow: xHi, yLow: yHi]  \n",
    "            elevation_fire[:min(256, elev_shape[0]), :min(256, elev_shape[1])] = elevation_data[xLow: xHi, yLow: yHi]\n",
    "            fuel_moisture_fire[:min(256, top_shape[0]), :min(256, top_shape[1])] = topographic_data[xLow: xHi, yLow: yHi]\n",
    "        else: \n",
    "            standard_fire[:shape[0], :shape[1], :shape[2]] = training_fire\n",
    "            elevation_fire[:min(256, elev_shape[0]), :min(256, elev_shape[1])] = elevation_data\n",
    "            fuel_moisture_fire[:min(256, top_shape[0]), :min(256, top_shape[1])] = topographic_data\n",
    "        \n",
    "        pca_fire = standard_fire\n",
    "        pca_elev = elevation_fire.reshape((1, 256, 256))\n",
    "        pca_fuel = fuel_moisture_fire.reshape((1, 256, 256))\n",
    "        \n",
    "        for i in range(0 , len(training_fire) - n_future - n_past + 1):\n",
    "            if i not in valid_append:\n",
    "                continue\n",
    "            shape = pca_fire[i : i + n_past].shape\n",
    "            a = np.zeros((shape[0] + 2, shape[1], shape[2]))\n",
    "            a[:3] = pca_fire[i : i + n_past]\n",
    "            a[3:4] = pca_elev \n",
    "            a[4:5] = pca_fuel\n",
    "            for j in np.arange(0, 255, d):\n",
    "                for k in np.arange(0, 255, d):\n",
    "                    x_train_list.append(a[:, j:j+d, k:k+d])\n",
    "                    y_train_list.append(pca_fire[i + n_past: i + n_past + n_future, j:j+d, k:k+d])   \n",
    "    x_train = np.array(x_train_list)\n",
    "    y_train = np.array(y_train_list)  \n",
    "    print(x_train.shape, y_train.shape)\n",
    "    return x_train, y_train"
   ]
  },
  {
   "cell_type": "markdown",
   "id": "c0b9e739",
   "metadata": {},
   "source": [
    "<div class=\"alert alert-block alert-warning\">\n",
    "<b>RNN Inputs:</b> \n",
    "We are declaring below that the number of future days we want to predict is 1, and we can vary the number of past days\n",
    "    we want to predict (I have the default as 3 for now)\n",
    "\n",
    "</div>"
   ]
  },
  {
   "cell_type": "code",
   "execution_count": 3,
   "id": "44e97126",
   "metadata": {},
   "outputs": [],
   "source": [
    "n_future = 1\n",
    "n_comp = 10\n",
    "n_past = 3\n",
    "discretization_amount = d = 64 # 256 means we keep the whole fire grid"
   ]
  },
  {
   "cell_type": "markdown",
   "id": "3a53afe8",
   "metadata": {},
   "source": [
    "<div class=\"alert alert-block alert-warning\">\n",
    "<b>Input Data for Training:</b> \n",
    "    Below, we get the input data from December 2018! \n",
    "</div>"
   ]
  },
  {
   "cell_type": "code",
   "execution_count": 4,
   "id": "66b1d869",
   "metadata": {},
   "outputs": [],
   "source": [
    "%%capture \n",
    "# We are suppressing print statements and warning messages w/ above line\n",
    "path = \"C:\\\\Users\\\\nico\\\\Desktop\\\\Stanford\\\\OneDrive - Stanford\\\\Courses\\\\CS229\\\\finalproject\\\\data\\\\United_States_Fires\\\\United_States_2018_Fires\\\\jan\\\\storage\"\n",
    "months = ['feb', 'mar', 'apr', 'may', 'jun', 'jul', 'aug' ,'sep', 'oct', 'nov', 'dec']\n",
    "x_train, y_train = nn_train_test(path, n_past = n_past, n_comp = n_comp, n_future = n_future, d = d)\n",
    "for month in months:\n",
    "    path = \"C:\\\\Users\\\\nico\\\\Desktop\\\\Stanford\\\\OneDrive - Stanford\\\\Courses\\\\CS229\\\\finalproject\\\\data\\\\United_States_Fires\\\\United_States_2018_Fires\\\\{mon}\\\\storage\".format(mon = month)\n",
    "    x, y  = nn_train_test(path, n_past = n_past, n_comp = n_comp, n_future = n_future, d = d)\n",
    "    if len(x) == 0:\n",
    "        continue\n",
    "    x_train = np.vstack((x_train, x))\n",
    "    y_train = np.vstack((y_train, y))\n",
    "    "
   ]
  },
  {
   "cell_type": "code",
   "execution_count": 6,
   "id": "cd86cb65",
   "metadata": {},
   "outputs": [],
   "source": [
    "x_train, y_train = x_train.reshape((int(x_train.shape[0]), 1, d, d, 5)), y_train.reshape((int(y_train.shape[0]), d*d))"
   ]
  },
  {
   "cell_type": "code",
   "execution_count": 7,
   "id": "5dda71a5",
   "metadata": {},
   "outputs": [],
   "source": [
    "shuffler = np.random.permutation(len(x_train))\n",
    "x_train = x_train[shuffler]\n",
    "y_train = y_train[shuffler]"
   ]
  },
  {
   "cell_type": "code",
   "execution_count": null,
   "id": "a681975e",
   "metadata": {
    "scrolled": true
   },
   "outputs": [
    {
     "name": "stdout",
     "output_type": "stream",
     "text": [
      "Epoch 1/200\n",
      "200/200 [==============================] - 88s 438ms/step - loss: 4.7246 - acc: 0.0000e+00 - val_loss: 1.4307 - val_acc: 0.0000e+00\n",
      "Epoch 2/200\n",
      "200/200 [==============================] - 84s 422ms/step - loss: 2.2341 - acc: 0.0000e+00 - val_loss: 1.0746 - val_acc: 0.0000e+00\n",
      "Epoch 3/200\n",
      "200/200 [==============================] - 85s 423ms/step - loss: 1.3051 - acc: 0.0000e+00 - val_loss: 0.7552 - val_acc: 0.0000e+00\n",
      "Epoch 4/200\n",
      "200/200 [==============================] - 84s 418ms/step - loss: 0.7684 - acc: 0.0000e+00 - val_loss: 0.5980 - val_acc: 0.0000e+00\n",
      "Epoch 5/200\n",
      "200/200 [==============================] - 84s 422ms/step - loss: 0.5484 - acc: 0.0000e+00 - val_loss: 0.3848 - val_acc: 0.0000e+00\n",
      "Epoch 6/200\n",
      "200/200 [==============================] - 83s 413ms/step - loss: 0.3864 - acc: 0.0000e+00 - val_loss: 0.3449 - val_acc: 0.0000e+00\n",
      "Epoch 7/200\n",
      "200/200 [==============================] - 84s 418ms/step - loss: 0.2652 - acc: 0.0100 - val_loss: 0.2646 - val_acc: 0.0000e+00\n",
      "Epoch 8/200\n",
      "200/200 [==============================] - 86s 432ms/step - loss: 0.1989 - acc: 0.0150 - val_loss: 0.3341 - val_acc: 0.0000e+00\n",
      "Epoch 9/200\n",
      "200/200 [==============================] - 87s 436ms/step - loss: 0.1882 - acc: 0.0000e+00 - val_loss: 0.2300 - val_acc: 0.0000e+00\n",
      "Epoch 10/200\n",
      "200/200 [==============================] - 86s 431ms/step - loss: 0.1580 - acc: 0.0050 - val_loss: 0.2140 - val_acc: 0.0000e+00\n",
      "Epoch 11/200\n",
      "200/200 [==============================] - 84s 421ms/step - loss: 0.1452 - acc: 0.0050 - val_loss: 0.2396 - val_acc: 0.0000e+00\n",
      "Epoch 12/200\n",
      "200/200 [==============================] - 83s 417ms/step - loss: 0.1547 - acc: 0.0100 - val_loss: 0.1982 - val_acc: 0.0000e+00\n",
      "Epoch 13/200\n",
      "200/200 [==============================] - 84s 419ms/step - loss: 0.1089 - acc: 0.0050 - val_loss: 0.1815 - val_acc: 0.0000e+00\n",
      "Epoch 14/200\n",
      "200/200 [==============================] - 83s 416ms/step - loss: 0.1128 - acc: 0.0150 - val_loss: 0.1683 - val_acc: 0.0000e+00\n",
      "Epoch 15/200\n",
      "200/200 [==============================] - 84s 420ms/step - loss: 0.1470 - acc: 0.0050 - val_loss: 0.2920 - val_acc: 0.0000e+00\n",
      "Epoch 16/200\n",
      "200/200 [==============================] - 86s 432ms/step - loss: 0.1638 - acc: 0.0050 - val_loss: 0.2605 - val_acc: 0.0000e+00\n",
      "Epoch 17/200\n",
      "200/200 [==============================] - 85s 423ms/step - loss: 0.1634 - acc: 0.0000e+00 - val_loss: 0.2310 - val_acc: 0.0000e+00\n",
      "Epoch 18/200\n",
      "200/200 [==============================] - 85s 424ms/step - loss: 0.1135 - acc: 0.0000e+00 - val_loss: 0.2947 - val_acc: 0.0000e+00\n",
      "Epoch 19/200\n",
      "200/200 [==============================] - 84s 421ms/step - loss: 0.0897 - acc: 0.0000e+00 - val_loss: 0.2393 - val_acc: 0.0000e+00\n",
      "Epoch 20/200\n",
      "200/200 [==============================] - 84s 419ms/step - loss: 0.0730 - acc: 0.0050 - val_loss: 0.2622 - val_acc: 0.0000e+00\n",
      "Epoch 21/200\n",
      "200/200 [==============================] - 82s 408ms/step - loss: 0.0669 - acc: 0.0250 - val_loss: 0.2711 - val_acc: 0.0000e+00\n",
      "Epoch 22/200\n",
      "200/200 [==============================] - 82s 411ms/step - loss: 0.0563 - acc: 0.0050 - val_loss: 0.2634 - val_acc: 0.0000e+00\n",
      "Epoch 23/200\n",
      "166/200 [=======================>......] - ETA: 13s - loss: 0.0577 - acc: 0.0060"
     ]
    }
   ],
   "source": [
    "regressor = Sequential()\n",
    "# d = 64\n",
    "act = \"sigmoid\"\n",
    "batch_normalization = False\n",
    "pad = \"valid\"\n",
    "layersd = 1 #1\n",
    "layers2d = 0 #0\n",
    "pooling2d = 0\n",
    "layers4d = 0 #0\n",
    "pooling4d = 0\n",
    "pooling = True ## DO NOT CHANGE\n",
    "dropout = 0.1\n",
    "learning_rate = .01\n",
    "epochs = 200\n",
    "densed = 0 # 0\n",
    "dense = 1\n",
    "train_range = range(0, 250) #range(0, len(x_train)) #range(0,50)#\n",
    "t = len(train_range)\n",
    "\n",
    "\n",
    "\n",
    "if layersd: \n",
    "    regressor.add(tf.keras.layers.Conv3D(filters = 32, kernel_size = (1,5,5), padding = pad, activation = act, input_shape = x_train[0].shape))\n",
    "    if pooling and layersd:\n",
    "        regressor.add(tf.keras.layers.MaxPooling3D(pool_size=(1, 2, 2), padding=\"valid\"))\n",
    "        \n",
    "    if batch_normalization and layersd:\n",
    "        regressor.add(tf.keras.layers.BatchNormalization(center=True, scale=True))\n",
    "\n",
    "for i in range(layersd - 1):# CHANGE TO SIGMOID\n",
    "    regressor.add(tf.keras.layers.Conv3D(filters = 32, kernel_size = (1,3,3), padding = pad, activation = \"sigmoid\"))\n",
    "    \n",
    "    if pooling and layersd:\n",
    "        regressor.add(tf.keras.layers.MaxPooling3D(pool_size=(1, 2, 2), padding=\"valid\")) # CHANGE TO RELU\n",
    "        \n",
    "    if batch_normalization and layersd:\n",
    "        regressor.add(tf.keras.layers.BatchNormalization(center=True, scale=True))\n",
    "        \n",
    "\n",
    "        \n",
    "if layersd:\n",
    "    regressor.add(Dropout(dropout))\n",
    "\n",
    "for i in range(layers2d):\n",
    "    regressor.add(tf.keras.layers.Conv3D(filters = 64, kernel_size = (1,3,3), padding = pad, activation = \"relu\"))# CHANGE TO RELU\n",
    "\n",
    "if (pooling and layers2d) or pooling2d:\n",
    "    regressor.add(tf.keras.layers.MaxPooling3D(pool_size=(1, 2, 2), padding=\"valid\"))\n",
    "    \n",
    "if batch_normalization and layers2d:\n",
    "    regressor.add(tf.keras.layers.BatchNormalization(center=True, scale=True))\n",
    "\n",
    "\n",
    "for i in range(layers4d):# CHANGE TO RELU\n",
    "    regressor.add(tf.keras.layers.Conv3D(filters = 16, kernel_size = (1,3,3), padding = pad, activation = \"relu\"))\n",
    "\n",
    "if (pooling and layers4d) or pooling4d:\n",
    "    regressor.add(tf.keras.layers.MaxPooling3D(pool_size=(1, 2, 2), padding=\"valid\"))\n",
    "\n",
    "if batch_normalization and layers4d:\n",
    "    regressor.add(tf.keras.layers.BatchNormalization(center=True, scale=True))\n",
    "\n",
    "regressor.add(tf.keras.layers.Flatten())\n",
    "\n",
    "for i in range(densed):\n",
    "    regressor.add(tf.keras.layers.Dense(units = d, activation = 'relu'))\n",
    "    \n",
    "for i in range(dense):\n",
    "    regressor.add(tf.keras.layers.Dense(units = d*d, activation = 'sigmoid'))\n",
    "\n",
    "opt = tf.keras.optimizers.Adam(learning_rate=learning_rate)\n",
    "#\n",
    "my_callbacks = [\n",
    "    tf.keras.callbacks.EarlyStopping(monitor='val_loss', mode='min', patience = 10),\n",
    "    tf.keras.callbacks.ModelCheckpoint(filepath='3D-Conv-Model-History-2.h5'),   \n",
    "    tf.keras.callbacks.TensorBoard(log_dir='./logs'),\n",
    "    history\n",
    "]\n",
    "\n",
    "regressor.compile(optimizer = opt, loss = 'binary_crossentropy', metrics = ['acc'])\n",
    "\n",
    "history = regressor.fit(x_train[train_range].reshape(t, 1, d, d, 5), y_train[train_range].reshape((t, d*d)), epochs = epochs, validation_split = 0.2, batch_size = 1, callbacks = my_callbacks)\n",
    "regressor.summary()\n",
    "\n",
    "import pickle\n",
    "with open(\"C:\\\\Users\\\\nico\\\\Desktop\\\\Stanford\\\\OneDrive - Stanford\\\\Courses\\\\CS229\\\\finalproject\\\\scripts\\\\history-4096.pkl\",\"w\") as f:\n",
    "    f.write(str(history.history))\n"
   ]
  },
  {
   "cell_type": "code",
   "execution_count": 22,
   "id": "bbcd6710",
   "metadata": {},
   "outputs": [
    {
     "ename": "OSError",
     "evalue": "SavedModel file does not exist at: 3D-Conv-200-example-overfitting-2.h5\\{saved_model.pbtxt|saved_model.pb}",
     "output_type": "error",
     "traceback": [
      "\u001b[1;31m---------------------------------------------------------------------------\u001b[0m",
      "\u001b[1;31mOSError\u001b[0m                                   Traceback (most recent call last)",
      "\u001b[1;32m~\\AppData\\Local\\Temp/ipykernel_10364/3697633603.py\u001b[0m in \u001b[0;36m<module>\u001b[1;34m\u001b[0m\n\u001b[0;32m      1\u001b[0m \u001b[1;32mfrom\u001b[0m \u001b[0mkeras\u001b[0m\u001b[1;33m.\u001b[0m\u001b[0mmodels\u001b[0m \u001b[1;32mimport\u001b[0m \u001b[0mload_model\u001b[0m\u001b[1;33m\u001b[0m\u001b[1;33m\u001b[0m\u001b[0m\n\u001b[1;32m----> 2\u001b[1;33m \u001b[0mregressor\u001b[0m \u001b[1;33m=\u001b[0m \u001b[0mload_model\u001b[0m\u001b[1;33m(\u001b[0m\u001b[1;34m'3D-Conv-200-example-overfitting-2.h5'\u001b[0m\u001b[1;33m)\u001b[0m\u001b[1;33m\u001b[0m\u001b[1;33m\u001b[0m\u001b[0m\n\u001b[0m",
      "\u001b[1;32m~\\miniconda3\\lib\\site-packages\\keras\\saving\\save.py\u001b[0m in \u001b[0;36mload_model\u001b[1;34m(filepath, custom_objects, compile, options)\u001b[0m\n\u001b[0;32m    203\u001b[0m         \u001b[0mfilepath\u001b[0m \u001b[1;33m=\u001b[0m \u001b[0mpath_to_string\u001b[0m\u001b[1;33m(\u001b[0m\u001b[0mfilepath\u001b[0m\u001b[1;33m)\u001b[0m\u001b[1;33m\u001b[0m\u001b[1;33m\u001b[0m\u001b[0m\n\u001b[0;32m    204\u001b[0m         \u001b[1;32mif\u001b[0m \u001b[0misinstance\u001b[0m\u001b[1;33m(\u001b[0m\u001b[0mfilepath\u001b[0m\u001b[1;33m,\u001b[0m \u001b[0mstr\u001b[0m\u001b[1;33m)\u001b[0m\u001b[1;33m:\u001b[0m\u001b[1;33m\u001b[0m\u001b[1;33m\u001b[0m\u001b[0m\n\u001b[1;32m--> 205\u001b[1;33m           \u001b[1;32mreturn\u001b[0m \u001b[0msaved_model_load\u001b[0m\u001b[1;33m.\u001b[0m\u001b[0mload\u001b[0m\u001b[1;33m(\u001b[0m\u001b[0mfilepath\u001b[0m\u001b[1;33m,\u001b[0m \u001b[0mcompile\u001b[0m\u001b[1;33m,\u001b[0m \u001b[0moptions\u001b[0m\u001b[1;33m)\u001b[0m\u001b[1;33m\u001b[0m\u001b[1;33m\u001b[0m\u001b[0m\n\u001b[0m\u001b[0;32m    206\u001b[0m \u001b[1;33m\u001b[0m\u001b[0m\n\u001b[0;32m    207\u001b[0m   raise IOError(\n",
      "\u001b[1;32m~\\miniconda3\\lib\\site-packages\\keras\\saving\\saved_model\\load.py\u001b[0m in \u001b[0;36mload\u001b[1;34m(path, compile, options)\u001b[0m\n\u001b[0;32m    106\u001b[0m   \u001b[1;31m# Look for metadata file or parse the SavedModel\u001b[0m\u001b[1;33m\u001b[0m\u001b[1;33m\u001b[0m\u001b[1;33m\u001b[0m\u001b[0m\n\u001b[0;32m    107\u001b[0m   \u001b[0mmetadata\u001b[0m \u001b[1;33m=\u001b[0m \u001b[0msaved_metadata_pb2\u001b[0m\u001b[1;33m.\u001b[0m\u001b[0mSavedMetadata\u001b[0m\u001b[1;33m(\u001b[0m\u001b[1;33m)\u001b[0m\u001b[1;33m\u001b[0m\u001b[1;33m\u001b[0m\u001b[0m\n\u001b[1;32m--> 108\u001b[1;33m   \u001b[0mmeta_graph_def\u001b[0m \u001b[1;33m=\u001b[0m \u001b[0mtf\u001b[0m\u001b[1;33m.\u001b[0m\u001b[0m__internal__\u001b[0m\u001b[1;33m.\u001b[0m\u001b[0msaved_model\u001b[0m\u001b[1;33m.\u001b[0m\u001b[0mparse_saved_model\u001b[0m\u001b[1;33m(\u001b[0m\u001b[0mpath\u001b[0m\u001b[1;33m)\u001b[0m\u001b[1;33m.\u001b[0m\u001b[0mmeta_graphs\u001b[0m\u001b[1;33m[\u001b[0m\u001b[1;36m0\u001b[0m\u001b[1;33m]\u001b[0m\u001b[1;33m\u001b[0m\u001b[1;33m\u001b[0m\u001b[0m\n\u001b[0m\u001b[0;32m    109\u001b[0m   \u001b[0mobject_graph_def\u001b[0m \u001b[1;33m=\u001b[0m \u001b[0mmeta_graph_def\u001b[0m\u001b[1;33m.\u001b[0m\u001b[0mobject_graph_def\u001b[0m\u001b[1;33m\u001b[0m\u001b[1;33m\u001b[0m\u001b[0m\n\u001b[0;32m    110\u001b[0m   \u001b[0mpath_to_metadata_pb\u001b[0m \u001b[1;33m=\u001b[0m \u001b[0mos\u001b[0m\u001b[1;33m.\u001b[0m\u001b[0mpath\u001b[0m\u001b[1;33m.\u001b[0m\u001b[0mjoin\u001b[0m\u001b[1;33m(\u001b[0m\u001b[0mpath\u001b[0m\u001b[1;33m,\u001b[0m \u001b[0mconstants\u001b[0m\u001b[1;33m.\u001b[0m\u001b[0mSAVED_METADATA_PATH\u001b[0m\u001b[1;33m)\u001b[0m\u001b[1;33m\u001b[0m\u001b[1;33m\u001b[0m\u001b[0m\n",
      "\u001b[1;32m~\\AppData\\Roaming\\Python\\Python39\\site-packages\\tensorflow\\python\\saved_model\\loader_impl.py\u001b[0m in \u001b[0;36mparse_saved_model\u001b[1;34m(export_dir)\u001b[0m\n\u001b[0;32m    116\u001b[0m       \u001b[1;32mraise\u001b[0m \u001b[0mIOError\u001b[0m\u001b[1;33m(\u001b[0m\u001b[1;34m\"Cannot parse file %s: %s.\"\u001b[0m \u001b[1;33m%\u001b[0m \u001b[1;33m(\u001b[0m\u001b[0mpath_to_pbtxt\u001b[0m\u001b[1;33m,\u001b[0m \u001b[0mstr\u001b[0m\u001b[1;33m(\u001b[0m\u001b[0me\u001b[0m\u001b[1;33m)\u001b[0m\u001b[1;33m)\u001b[0m\u001b[1;33m)\u001b[0m\u001b[1;33m\u001b[0m\u001b[1;33m\u001b[0m\u001b[0m\n\u001b[0;32m    117\u001b[0m   \u001b[1;32melse\u001b[0m\u001b[1;33m:\u001b[0m\u001b[1;33m\u001b[0m\u001b[1;33m\u001b[0m\u001b[0m\n\u001b[1;32m--> 118\u001b[1;33m     raise IOError(\n\u001b[0m\u001b[0;32m    119\u001b[0m         \u001b[1;34m\"SavedModel file does not exist at: %s%s{%s|%s}\"\u001b[0m \u001b[1;33m%\u001b[0m\u001b[1;33m\u001b[0m\u001b[1;33m\u001b[0m\u001b[0m\n\u001b[0;32m    120\u001b[0m         (export_dir, os.path.sep, constants.SAVED_MODEL_FILENAME_PBTXT,\n",
      "\u001b[1;31mOSError\u001b[0m: SavedModel file does not exist at: 3D-Conv-200-example-overfitting-2.h5\\{saved_model.pbtxt|saved_model.pb}"
     ]
    }
   ],
   "source": [
    "from keras.models import load_model\n",
    "regressor = load_model('3D-Conv-200-example-overfitting-2.h5')"
   ]
  },
  {
   "cell_type": "code",
   "execution_count": 19,
   "id": "6de0b726",
   "metadata": {},
   "outputs": [
    {
     "name": "stdout",
     "output_type": "stream",
     "text": [
      "Model: \"sequential_23\"\n",
      "_________________________________________________________________\n",
      "Layer (type)                 Output Shape              Param #   \n",
      "=================================================================\n",
      "conv3d_31 (Conv3D)           (None, 1, 62, 62, 64)     2944      \n",
      "_________________________________________________________________\n",
      "max_pooling3d_50 (MaxPooling (None, 1, 31, 31, 64)     0         \n",
      "_________________________________________________________________\n",
      "batch_normalization_53 (Batc (None, 1, 31, 31, 64)     256       \n",
      "_________________________________________________________________\n",
      "dropout_28 (Dropout)         (None, 1, 31, 31, 64)     0         \n",
      "_________________________________________________________________\n",
      "flatten_23 (Flatten)         (None, 61504)             0         \n",
      "_________________________________________________________________\n",
      "dense_25 (Dense)             (None, 4096)              251924480 \n",
      "=================================================================\n",
      "Total params: 251,927,680\n",
      "Trainable params: 251,927,552\n",
      "Non-trainable params: 128\n",
      "_________________________________________________________________\n"
     ]
    }
   ],
   "source": [
    "regressor.summary()"
   ]
  },
  {
   "cell_type": "code",
   "execution_count": 20,
   "id": "ed85985a",
   "metadata": {},
   "outputs": [
    {
     "data": {
      "text/plain": [
       "array([  2,   7,   8,  11,  15,  17,  19,  21,  23,  30,  36,  37,  41,\n",
       "        45,  48,  59,  66,  67,  74,  78,  79,  80,  84,  85,  87,  89,\n",
       "        93,  97, 105, 107, 110, 117, 119, 121, 122, 123, 127, 128, 130,\n",
       "       133, 135, 140, 143, 144, 145, 148, 149, 150, 152, 156, 162, 166,\n",
       "       168, 171, 179, 184, 195, 196], dtype=int64)"
      ]
     },
     "execution_count": 20,
     "metadata": {},
     "output_type": "execute_result"
    }
   ],
   "source": [
    "np.unique(np.where(y_train[0:200] > 0)[0])"
   ]
  },
  {
   "cell_type": "code",
   "execution_count": 31,
   "id": "bb25f666",
   "metadata": {},
   "outputs": [
    {
     "name": "stdout",
     "output_type": "stream",
     "text": [
      "{}\n"
     ]
    }
   ],
   "source": [
    "print(history.history)"
   ]
  },
  {
   "cell_type": "code",
   "execution_count": 28,
   "id": "858cd68c",
   "metadata": {},
   "outputs": [
    {
     "ename": "KeyError",
     "evalue": "'loss'",
     "output_type": "error",
     "traceback": [
      "\u001b[1;31m---------------------------------------------------------------------------\u001b[0m",
      "\u001b[1;31mKeyError\u001b[0m                                  Traceback (most recent call last)",
      "\u001b[1;32m~\\AppData\\Local\\Temp/ipykernel_10364/2742264006.py\u001b[0m in \u001b[0;36m<module>\u001b[1;34m\u001b[0m\n\u001b[0;32m      1\u001b[0m \u001b[0mhistory\u001b[0m \u001b[1;33m=\u001b[0m \u001b[0mregressor\u001b[0m\u001b[1;33m.\u001b[0m\u001b[0mhistory\u001b[0m\u001b[1;33m\u001b[0m\u001b[1;33m\u001b[0m\u001b[0m\n\u001b[1;32m----> 2\u001b[1;33m \u001b[0mplt\u001b[0m\u001b[1;33m.\u001b[0m\u001b[0mplot\u001b[0m\u001b[1;33m(\u001b[0m\u001b[0mhistory\u001b[0m\u001b[1;33m.\u001b[0m\u001b[0mhistory\u001b[0m\u001b[1;33m[\u001b[0m\u001b[1;34m'loss'\u001b[0m\u001b[1;33m]\u001b[0m\u001b[1;33m)\u001b[0m\u001b[1;33m\u001b[0m\u001b[1;33m\u001b[0m\u001b[0m\n\u001b[0m\u001b[0;32m      3\u001b[0m \u001b[0mplt\u001b[0m\u001b[1;33m.\u001b[0m\u001b[0mplot\u001b[0m\u001b[1;33m(\u001b[0m\u001b[0mhistory\u001b[0m\u001b[1;33m.\u001b[0m\u001b[0mhistory\u001b[0m\u001b[1;33m[\u001b[0m\u001b[1;34m'val_accuracy'\u001b[0m\u001b[1;33m]\u001b[0m\u001b[1;33m)\u001b[0m\u001b[1;33m\u001b[0m\u001b[1;33m\u001b[0m\u001b[0m\n\u001b[0;32m      4\u001b[0m \u001b[0mplt\u001b[0m\u001b[1;33m.\u001b[0m\u001b[0mtitle\u001b[0m\u001b[1;33m(\u001b[0m\u001b[1;34m'model accuracy'\u001b[0m\u001b[1;33m)\u001b[0m\u001b[1;33m\u001b[0m\u001b[1;33m\u001b[0m\u001b[0m\n\u001b[0;32m      5\u001b[0m \u001b[0mplt\u001b[0m\u001b[1;33m.\u001b[0m\u001b[0mylabel\u001b[0m\u001b[1;33m(\u001b[0m\u001b[1;34m'accuracy'\u001b[0m\u001b[1;33m)\u001b[0m\u001b[1;33m\u001b[0m\u001b[1;33m\u001b[0m\u001b[0m\n",
      "\u001b[1;31mKeyError\u001b[0m: 'loss'"
     ]
    }
   ],
   "source": [
    "history = regressor.history\n",
    "plt.plot(history.history['accuracy'])\n",
    "plt.plot(history.history['val_accuracy'])\n",
    "plt.title('model accuracy')\n",
    "plt.ylabel('accuracy')\n",
    "plt.xlabel('epoch')\n",
    "plt.legend(['train', 'test'], loc='upper left')\n",
    "plt.show()\n",
    "# summarize history for loss\n",
    "plt.plot(history.history['loss'])\n",
    "plt.plot(history.history['val_loss'])\n",
    "plt.title('model loss')\n",
    "plt.ylabel('loss')\n",
    "plt.xlabel('epoch')\n",
    "plt.legend(['train', 'test'], loc='upper left')\n",
    "plt.show()"
   ]
  },
  {
   "cell_type": "code",
   "execution_count": 29,
   "id": "d65e1300",
   "metadata": {},
   "outputs": [
    {
     "data": {
      "text/plain": [
       "{}"
      ]
     },
     "execution_count": 29,
     "metadata": {},
     "output_type": "execute_result"
    }
   ],
   "source": [
    "history.history"
   ]
  },
  {
   "cell_type": "code",
   "execution_count": 21,
   "id": "b4b6efd3",
   "metadata": {},
   "outputs": [
    {
     "data": {
      "image/png": "[encoded data removed]",
      "text/plain": [
       "<Figure size 288x288 with 1 Axes>"
      ]
     },
     "metadata": {
      "needs_background": "light"
     },
     "output_type": "display_data"
    },
    {
     "data": {
      "image/png": "[encoded data removed]",
      "text/plain": [
       "<Figure size 288x288 with 1 Axes>"
      ]
     },
     "metadata": {
      "needs_background": "light"
     },
     "output_type": "display_data"
    },
    {
     "data": {
      "image/png": "[encoded data removed]",
      "text/plain": [
       "<Figure size 288x288 with 1 Axes>"
      ]
     },
     "metadata": {
      "needs_background": "light"
     },
     "output_type": "display_data"
    },
    {
     "data": {
      "image/png": "[encoded data removed]",
      "text/plain": [
       "<Figure size 288x288 with 1 Axes>"
      ]
     },
     "metadata": {
      "needs_background": "light"
     },
     "output_type": "display_data"
    },
    {
     "data": {
      "image/png": "[encoded data removed]",
      "text/plain": [
       "<Figure size 288x288 with 1 Axes>"
      ]
     },
     "metadata": {
      "needs_background": "light"
     },
     "output_type": "display_data"
    },
    {
     "data": {
      "image/png": "[encoded data removed]",
      "text/plain": [
       "<Figure size 288x288 with 1 Axes>"
      ]
     },
     "metadata": {
      "needs_background": "light"
     },
     "output_type": "display_data"
    }
   ],
   "source": [
    "x = x_train.reshape((x_train.shape[0], 5, d, d))\n",
    "predict_test = regressor.predict(x_train[7].reshape((1, 1, d, d, 5)))\n",
    "b = predict_test\n",
    "plt.matshow(b.reshape((d, d)))\n",
    "plt.show()\n",
    "plt.matshow(y_train[7].reshape((d, d)))\n",
    "plt.show()\n",
    "predict_test = regressor.predict(x_train[22].reshape((1, 1, d, d, 5)))\n",
    "p = predict_test\n",
    "plt.matshow(p.reshape((d, d)))\n",
    "plt.show()\n",
    "plt.matshow(y_train[22].reshape((d, d)))\n",
    "predict_test = regressor.predict(x_train[49].reshape((1, 1, d, d, 5)))\n",
    "p = predict_test\n",
    "plt.matshow(p.reshape((d, d)))\n",
    "plt.show()\n",
    "plt.matshow(y_train[49].reshape((d, d)))\n",
    "plt.show()"
   ]
  },
  {
   "cell_type": "code",
   "execution_count": 10,
   "id": "bd0f8d15",
   "metadata": {},
   "outputs": [
    {
     "data": {
      "text/plain": [
       "{}"
      ]
     },
     "execution_count": 10,
     "metadata": {},
     "output_type": "execute_result"
    }
   ],
   "source": [
    "regressor.history.history"
   ]
  },
  {
   "cell_type": "code",
   "execution_count": 65,
   "id": "2821b77a",
   "metadata": {},
   "outputs": [
    {
     "name": "stdout",
     "output_type": "stream",
     "text": [
      "(1232, 5, 64, 64) (1232, 1, 64, 64)\n"
     ]
    }
   ],
   "source": [
    "path = \"C:\\\\Users\\\\nico\\\\Desktop\\\\Stanford\\\\OneDrive - Stanford\\\\Courses\\\\CS229\\\\finalproject\\\\data\\\\United_States_Fires\\\\United_States_2017_Fires\\\\nov\\\\storage\".format(mon = month)\n",
    "x, y  = nn_train_test(path, n_past = n_past, n_comp = n_comp, n_future = n_future, d = d)"
   ]
  },
  {
   "cell_type": "code",
   "execution_count": 71,
   "id": "8e571928",
   "metadata": {},
   "outputs": [],
   "source": [
    "x_test, y_test = x.reshape((int(x.shape[0]), 1, d, d, 5)), y.reshape((int(y.shape[0]), d*d))\n",
    "predict_test = regressor.predict(x_test)\n",
    "p = predict_test"
   ]
  },
  {
   "cell_type": "code",
   "execution_count": 84,
   "id": "ff628a84",
   "metadata": {},
   "outputs": [
    {
     "name": "stdout",
     "output_type": "stream",
     "text": [
      "X\n"
     ]
    },
    {
     "data": {
      "image/png": "[encoded data removed]",
      "text/plain": [
       "<Figure size 288x288 with 1 Axes>"
      ]
     },
     "metadata": {
      "needs_background": "light"
     },
     "output_type": "display_data"
    },
    {
     "data": {
      "image/png": "[encoded data removed]",
      "text/plain": [
       "<Figure size 288x288 with 1 Axes>"
      ]
     },
     "metadata": {
      "needs_background": "light"
     },
     "output_type": "display_data"
    },
    {
     "data": {
      "image/png": "[encoded data removed]",
      "text/plain": [
       "<Figure size 288x288 with 1 Axes>"
      ]
     },
     "metadata": {
      "needs_background": "light"
     },
     "output_type": "display_data"
    },
    {
     "name": "stdout",
     "output_type": "stream",
     "text": [
      "Prediction\n"
     ]
    },
    {
     "data": {
      "image/png": "[encoded data removed]",
      "text/plain": [
       "<Figure size 288x288 with 1 Axes>"
      ]
     },
     "metadata": {
      "needs_background": "light"
     },
     "output_type": "display_data"
    },
    {
     "name": "stdout",
     "output_type": "stream",
     "text": [
      "Actual\n"
     ]
    },
    {
     "data": {
      "text/plain": [
       "<matplotlib.image.AxesImage at 0x26c86daf400>"
      ]
     },
     "execution_count": 84,
     "metadata": {},
     "output_type": "execute_result"
    },
    {
     "data": {
      "image/png": "[encoded data removed]",
      "text/plain": [
       "<Figure size 288x288 with 1 Axes>"
      ]
     },
     "metadata": {
      "needs_background": "light"
     },
     "output_type": "display_data"
    }
   ],
   "source": [
    "x_test = x_test.reshape((int(x.shape[0]), 5, d, d))\n",
    "i = 28\n",
    "print(\"X\")\n",
    "plt.matshow(x_test[i][0])\n",
    "plt.matshow(x_test[i][1])\n",
    "plt.matshow(x_test[i][2])\n",
    "plt.show()\n",
    "print(\"Prediction\")\n",
    "prediction = p[i].reshape((64,64))\n",
    "plt.matshow(prediction)\n",
    "plt.show()\n",
    "\n",
    "plt.show()\n",
    "print(\"Actual\")\n",
    "\n",
    "plt.matshow(y_test[i].reshape((64,64)))"
   ]
  }
 ],
 "metadata": {
  "kernelspec": {
   "display_name": "Python 3 (ipykernel)",
   "language": "python",
   "name": "python3"
  },
  "language_info": {
   "codemirror_mode": {
    "name": "ipython",
    "version": 3
   },
   "file_extension": ".py",
   "mimetype": "text/x-python",
   "name": "python",
   "nbconvert_exporter": "python",
   "pygments_lexer": "ipython3",
   "version": "3.9.5"
  }
 },
 "nbformat": 4,
 "nbformat_minor": 5
}
