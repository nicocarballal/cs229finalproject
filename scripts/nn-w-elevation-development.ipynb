{
 "cells": [
  {
   "cell_type": "markdown",
   "id": "6bf98f83",
   "metadata": {},
   "source": [
    "This notebook is for development! Use it to try out new strategies :) "
   ]
  },
  {
   "cell_type": "markdown",
   "id": "b86d6bdc",
   "metadata": {},
   "source": [
    "<div class=\"alert alert-block alert-info\">\n",
    "<b>Imports:</b> Common imports for NumPy, MatplotLib, Pandas, and OS </div>"
   ]
  },
  {
   "cell_type": "code",
   "execution_count": 2,
   "id": "1bee40cc",
   "metadata": {},
   "outputs": [],
   "source": [
    "## Import for data generation\n",
    "import numpy as np\n",
    "import matplotlib.pyplot as plt\n",
    "import pandas as pd\n",
    "import os\n",
    "import pickle"
   ]
  },
  {
   "cell_type": "markdown",
   "id": "5e403c29",
   "metadata": {},
   "source": [
    "<div class=\"alert alert-block alert-info\">\n",
    "<b>ML Imports:</b> Imports to execute RNN model for sequential data </div>"
   ]
  },
  {
   "cell_type": "code",
   "execution_count": 3,
   "id": "f8dd7964",
   "metadata": {
    "scrolled": true
   },
   "outputs": [],
   "source": [
    "from keras.models import Sequential\n",
    "from keras.layers import LSTM, Dense, Dropout\n",
    "import tensorflow as tf\n",
    "from pyspark import SparkContext\n",
    "from sklearn import decomposition\n",
    "from sklearn import datasets\n",
    "from sklearn.preprocessing import StandardScaler"
   ]
  },
  {
   "cell_type": "markdown",
   "id": "fbdda552",
   "metadata": {},
   "source": [
    "<div class=\"alert alert-block alert-warning\">\n",
    "<b>nn_train_test() function:</b> \n",
    "    \n",
    "This function creates the train and test sets a little differently. Instead of using pca to reduce dimensionality, it keeps all the data in anticipation of the Neural Net Framework to deal with filtering through it. The d variable allows you to discretize the grid down further as well.\n",
    "    \n",
    "    path --> path to the repository with all your .npy file\n",
    "    n_future --> number of future days of fire you want to predict (will be 1 for us)\n",
    "    n_comp --> Doesn't do anything right now\n",
    "    n_past --> number of past days you want to consider (we can experiment with this)\n",
    "    d --> The size of the discretized fires you want (i.e. d= 32, returns subset of sequences for 32x32 grids)\n",
    "    \n",
    "Outputs:\n",
    "    \n",
    "    input_dim is set to a 1-D array of 256 ^ 2 for now! \n",
    "    x_train --> x_train in format (batch_size, timesteps, input_dim)\n",
    "    y_train --> training data in format (batch_size, input_dim)\n",
    "    pca_array -->  Nothing\n",
    "    \n",
    "</div>"
   ]
  },
  {
   "cell_type": "code",
   "execution_count": 4,
   "id": "394bc806",
   "metadata": {},
   "outputs": [],
   "source": [
    "import nnUtils\n",
    "from nnUtils import nn_train_test"
   ]
  },
  {
   "cell_type": "markdown",
   "id": "cabcd696",
   "metadata": {},
   "source": [
    "<div class=\"alert alert-block alert-warning\">\n",
    "<b>RNN Inputs:</b> \n",
    "We are declaring below that the number of future days we want to predict is 1, and we can vary the number of past days\n",
    "    we want to predict (I have the default as 3 for now)\n",
    "\n",
    "</div>"
   ]
  },
  {
   "cell_type": "code",
   "execution_count": 5,
   "id": "2316df43",
   "metadata": {},
   "outputs": [],
   "source": [
    "n_future = 1\n",
    "n_comp = 10\n",
    "n_past = 3\n",
    "discretization_amount = d = 64 # 256 means we keep the whole fire grid"
   ]
  },
  {
   "cell_type": "markdown",
   "id": "fe5f96c0",
   "metadata": {},
   "source": [
    "<div class=\"alert alert-block alert-warning\">\n",
    "<b>Input Data for Training:</b> \n",
    "    Below, we get the input data from December 2018! \n",
    "</div>"
   ]
  },
  {
   "cell_type": "code",
   "execution_count": 6,
   "id": "8183015d",
   "metadata": {
    "scrolled": false
   },
   "outputs": [],
   "source": [
    "%%capture \n",
    "# We are suppressing print statements and warning messages w/ above line\n",
    "path = \"C:\\\\Users\\\\nico\\\\Desktop\\\\Stanford\\\\OneDrive - Stanford\\\\Courses\\\\CS229\\\\finalproject\\\\data\\\\United_States_Fires\\\\United_States_2018_Fires\\\\jan\\\\storage\"\n",
    "months = ['feb', 'mar', 'apr', 'may', 'jun', 'jul', 'aug' ,'sep', 'oct', 'nov', 'dec']\n",
    "x_train, y_train = nn_train_test(path, n_past = n_past, n_comp = n_comp, n_future = n_future, d = d)\n",
    "for month in months:\n",
    "    path = \"C:\\\\Users\\\\nico\\\\Desktop\\\\Stanford\\\\OneDrive - Stanford\\\\Courses\\\\CS229\\\\finalproject\\\\data\\\\United_States_Fires\\\\United_States_2018_Fires\\\\{mon}\\\\storage\".format(mon = month)\n",
    "    x, y  = nn_train_test(path, n_past = n_past, n_comp = n_comp, n_future = n_future, d = d)\n",
    "    if len(x) == 0:\n",
    "        continue\n",
    "    x_train = np.vstack((x_train, x))\n",
    "    y_train = np.vstack((y_train, y))\n",
    "    "
   ]
  },
  {
   "cell_type": "markdown",
   "id": "bdc87cba",
   "metadata": {},
   "source": [
    "<div class=\"alert alert-block alert-warning\">\n",
    "<b>Check:</b> \n",
    "    Check the shape of your x_train and y_train data\n",
    "</div>"
   ]
  },
  {
   "cell_type": "code",
   "execution_count": null,
   "id": "c64eeca2",
   "metadata": {},
   "outputs": [],
   "source": [
    "x_train.shape, y_train.shape"
   ]
  },
  {
   "cell_type": "markdown",
   "id": "4952aace",
   "metadata": {},
   "source": [
    "<div class=\"alert alert-block alert-success\">\n",
    "    This follows the model in https://towardsdatascience.com/wildfire-spreading-modeling-in-alberta-canada-a-trial-using-a-neural-network-with-convlstm-cells-81c1a9f7d410. Their GitHub is at the bottom of the page \n",
    "    \n",
    "<b>Train your RNN:</b> Train your RNN using the training data.\n",
    "    \n",
    "    You might notice a lot of arbitrary values here (these are things we will want to change and test)\n",
    "    - Dropout: High dropout leads to more generalization. Low dropout takes advantage of more data but overfits more easily\n",
    "    - # of hidden layers: Right now, there are 2 hidden layers (+ 1 at the end). We can change this\n",
    "    - # units at hidden layers: Right now, units decrease by 1 at each hidden layer. This is arbitrary and can be changed\n",
    "    - optimizer --> 'adam' works but I don't know what it does\n",
    "    - epochs --> We can raise this above 1 but I don't notice that changing much when I have done so\n",
    "    - batch_size --> Higher batch size leads to more generalization\n",
    "</div>"
   ]
  },
  {
   "cell_type": "markdown",
   "id": "d79dffe7",
   "metadata": {},
   "source": [
    "Reshape your data as needed for the ConvLSTM"
   ]
  },
  {
   "cell_type": "code",
   "execution_count": 7,
   "id": "7b198b36",
   "metadata": {},
   "outputs": [],
   "source": [
    "shuffler = np.random.permutation(len(x_train))\n",
    "x_train = x_train[shuffler]\n",
    "y_train = y_train[shuffler]"
   ]
  },
  {
   "cell_type": "code",
   "execution_count": 32,
   "id": "c0d676cd",
   "metadata": {},
   "outputs": [
    {
     "ename": "TypeError",
     "evalue": "'int' object is not iterable",
     "output_type": "error",
     "traceback": [
      "\u001b[1;31m---------------------------------------------------------------------------\u001b[0m",
      "\u001b[1;31mTypeError\u001b[0m                                 Traceback (most recent call last)",
      "\u001b[1;32m~\\AppData\\Local\\Temp/ipykernel_11844/4010326000.py\u001b[0m in \u001b[0;36m<module>\u001b[1;34m\u001b[0m\n\u001b[0;32m      4\u001b[0m \u001b[0mdropout\u001b[0m \u001b[1;33m=\u001b[0m \u001b[1;36m0.0\u001b[0m\u001b[1;33m\u001b[0m\u001b[1;33m\u001b[0m\u001b[0m\n\u001b[0;32m      5\u001b[0m \u001b[1;33m\u001b[0m\u001b[0m\n\u001b[1;32m----> 6\u001b[1;33m \u001b[0mregressor\u001b[0m\u001b[1;33m.\u001b[0m\u001b[0madd\u001b[0m\u001b[1;33m(\u001b[0m\u001b[0mtf\u001b[0m\u001b[1;33m.\u001b[0m\u001b[0mkeras\u001b[0m\u001b[1;33m.\u001b[0m\u001b[0mlayers\u001b[0m\u001b[1;33m.\u001b[0m\u001b[0mConv2D\u001b[0m\u001b[1;33m(\u001b[0m\u001b[0mfilters\u001b[0m \u001b[1;33m=\u001b[0m \u001b[1;36m32\u001b[0m\u001b[1;33m,\u001b[0m\u001b[0mkernel_size\u001b[0m \u001b[1;33m=\u001b[0m \u001b[1;33m(\u001b[0m\u001b[1;36m3\u001b[0m\u001b[1;33m,\u001b[0m\u001b[1;36m3\u001b[0m\u001b[1;33m)\u001b[0m\u001b[1;33m,\u001b[0m \u001b[0mpadding\u001b[0m \u001b[1;33m=\u001b[0m \u001b[1;34m\"valid\"\u001b[0m\u001b[1;33m,\u001b[0m \u001b[0mactivation\u001b[0m \u001b[1;33m=\u001b[0m \u001b[1;34m\"sigmoid\"\u001b[0m\u001b[1;33m,\u001b[0m \u001b[0minput_shape\u001b[0m \u001b[1;33m=\u001b[0m \u001b[1;33m(\u001b[0m\u001b[1;36m1\u001b[0m\u001b[1;33m)\u001b[0m\u001b[1;33m)\u001b[0m\u001b[1;33m)\u001b[0m\u001b[1;33m\u001b[0m\u001b[1;33m\u001b[0m\u001b[0m\n\u001b[0m\u001b[0;32m      7\u001b[0m \u001b[1;33m\u001b[0m\u001b[0m\n\u001b[0;32m      8\u001b[0m \u001b[0mregressor\u001b[0m\u001b[1;33m.\u001b[0m\u001b[0madd\u001b[0m\u001b[1;33m(\u001b[0m\u001b[0mtf\u001b[0m\u001b[1;33m.\u001b[0m\u001b[0mkeras\u001b[0m\u001b[1;33m.\u001b[0m\u001b[0mlayers\u001b[0m\u001b[1;33m.\u001b[0m\u001b[0mMaxPool2D\u001b[0m\u001b[1;33m(\u001b[0m\u001b[0mpool_size\u001b[0m \u001b[1;33m=\u001b[0m \u001b[1;33m(\u001b[0m\u001b[1;36m2\u001b[0m\u001b[1;33m,\u001b[0m\u001b[1;36m2\u001b[0m\u001b[1;33m)\u001b[0m\u001b[1;33m)\u001b[0m\u001b[1;33m)\u001b[0m\u001b[1;33m\u001b[0m\u001b[1;33m\u001b[0m\u001b[0m\n",
      "\u001b[1;32m~\\miniconda3\\lib\\site-packages\\keras\\layers\\convolutional.py\u001b[0m in \u001b[0;36m__init__\u001b[1;34m(self, filters, kernel_size, strides, padding, data_format, dilation_rate, groups, activation, use_bias, kernel_initializer, bias_initializer, kernel_regularizer, bias_regularizer, activity_regularizer, kernel_constraint, bias_constraint, **kwargs)\u001b[0m\n\u001b[0;32m    658\u001b[0m                \u001b[0mbias_constraint\u001b[0m\u001b[1;33m=\u001b[0m\u001b[1;32mNone\u001b[0m\u001b[1;33m,\u001b[0m\u001b[1;33m\u001b[0m\u001b[1;33m\u001b[0m\u001b[0m\n\u001b[0;32m    659\u001b[0m                **kwargs):\n\u001b[1;32m--> 660\u001b[1;33m     super(Conv2D, self).__init__(\n\u001b[0m\u001b[0;32m    661\u001b[0m         \u001b[0mrank\u001b[0m\u001b[1;33m=\u001b[0m\u001b[1;36m2\u001b[0m\u001b[1;33m,\u001b[0m\u001b[1;33m\u001b[0m\u001b[1;33m\u001b[0m\u001b[0m\n\u001b[0;32m    662\u001b[0m         \u001b[0mfilters\u001b[0m\u001b[1;33m=\u001b[0m\u001b[0mfilters\u001b[0m\u001b[1;33m,\u001b[0m\u001b[1;33m\u001b[0m\u001b[1;33m\u001b[0m\u001b[0m\n",
      "\u001b[1;32m~\\miniconda3\\lib\\site-packages\\keras\\layers\\convolutional.py\u001b[0m in \u001b[0;36m__init__\u001b[1;34m(self, rank, filters, kernel_size, strides, padding, data_format, dilation_rate, groups, activation, use_bias, kernel_initializer, bias_initializer, kernel_regularizer, bias_regularizer, activity_regularizer, kernel_constraint, bias_constraint, trainable, name, conv_op, **kwargs)\u001b[0m\n\u001b[0;32m    124\u001b[0m                \u001b[0mconv_op\u001b[0m\u001b[1;33m=\u001b[0m\u001b[1;32mNone\u001b[0m\u001b[1;33m,\u001b[0m\u001b[1;33m\u001b[0m\u001b[1;33m\u001b[0m\u001b[0m\n\u001b[0;32m    125\u001b[0m                **kwargs):\n\u001b[1;32m--> 126\u001b[1;33m     super(Conv, self).__init__(\n\u001b[0m\u001b[0;32m    127\u001b[0m         \u001b[0mtrainable\u001b[0m\u001b[1;33m=\u001b[0m\u001b[0mtrainable\u001b[0m\u001b[1;33m,\u001b[0m\u001b[1;33m\u001b[0m\u001b[1;33m\u001b[0m\u001b[0m\n\u001b[0;32m    128\u001b[0m         \u001b[0mname\u001b[0m\u001b[1;33m=\u001b[0m\u001b[0mname\u001b[0m\u001b[1;33m,\u001b[0m\u001b[1;33m\u001b[0m\u001b[1;33m\u001b[0m\u001b[0m\n",
      "\u001b[1;32m~\\AppData\\Roaming\\Python\\Python39\\site-packages\\tensorflow\\python\\training\\tracking\\base.py\u001b[0m in \u001b[0;36m_method_wrapper\u001b[1;34m(self, *args, **kwargs)\u001b[0m\n\u001b[0;32m    528\u001b[0m     \u001b[0mself\u001b[0m\u001b[1;33m.\u001b[0m\u001b[0m_self_setattr_tracking\u001b[0m \u001b[1;33m=\u001b[0m \u001b[1;32mFalse\u001b[0m  \u001b[1;31m# pylint: disable=protected-access\u001b[0m\u001b[1;33m\u001b[0m\u001b[1;33m\u001b[0m\u001b[0m\n\u001b[0;32m    529\u001b[0m     \u001b[1;32mtry\u001b[0m\u001b[1;33m:\u001b[0m\u001b[1;33m\u001b[0m\u001b[1;33m\u001b[0m\u001b[0m\n\u001b[1;32m--> 530\u001b[1;33m       \u001b[0mresult\u001b[0m \u001b[1;33m=\u001b[0m \u001b[0mmethod\u001b[0m\u001b[1;33m(\u001b[0m\u001b[0mself\u001b[0m\u001b[1;33m,\u001b[0m \u001b[1;33m*\u001b[0m\u001b[0margs\u001b[0m\u001b[1;33m,\u001b[0m \u001b[1;33m**\u001b[0m\u001b[0mkwargs\u001b[0m\u001b[1;33m)\u001b[0m\u001b[1;33m\u001b[0m\u001b[1;33m\u001b[0m\u001b[0m\n\u001b[0m\u001b[0;32m    531\u001b[0m     \u001b[1;32mfinally\u001b[0m\u001b[1;33m:\u001b[0m\u001b[1;33m\u001b[0m\u001b[1;33m\u001b[0m\u001b[0m\n\u001b[0;32m    532\u001b[0m       \u001b[0mself\u001b[0m\u001b[1;33m.\u001b[0m\u001b[0m_self_setattr_tracking\u001b[0m \u001b[1;33m=\u001b[0m \u001b[0mprevious_value\u001b[0m  \u001b[1;31m# pylint: disable=protected-access\u001b[0m\u001b[1;33m\u001b[0m\u001b[1;33m\u001b[0m\u001b[0m\n",
      "\u001b[1;32m~\\miniconda3\\lib\\site-packages\\keras\\engine\\base_layer.py\u001b[0m in \u001b[0;36m__init__\u001b[1;34m(self, trainable, name, dtype, dynamic, **kwargs)\u001b[0m\n\u001b[0;32m    413\u001b[0m         \u001b[1;32melse\u001b[0m\u001b[1;33m:\u001b[0m\u001b[1;33m\u001b[0m\u001b[1;33m\u001b[0m\u001b[0m\n\u001b[0;32m    414\u001b[0m           \u001b[0mbatch_size\u001b[0m \u001b[1;33m=\u001b[0m \u001b[1;32mNone\u001b[0m\u001b[1;33m\u001b[0m\u001b[1;33m\u001b[0m\u001b[0m\n\u001b[1;32m--> 415\u001b[1;33m         \u001b[0mbatch_input_shape\u001b[0m \u001b[1;33m=\u001b[0m \u001b[1;33m(\u001b[0m\u001b[0mbatch_size\u001b[0m\u001b[1;33m,\u001b[0m\u001b[1;33m)\u001b[0m \u001b[1;33m+\u001b[0m \u001b[0mtuple\u001b[0m\u001b[1;33m(\u001b[0m\u001b[0mkwargs\u001b[0m\u001b[1;33m[\u001b[0m\u001b[1;34m'input_shape'\u001b[0m\u001b[1;33m]\u001b[0m\u001b[1;33m)\u001b[0m\u001b[1;33m\u001b[0m\u001b[1;33m\u001b[0m\u001b[0m\n\u001b[0m\u001b[0;32m    416\u001b[0m       \u001b[0mself\u001b[0m\u001b[1;33m.\u001b[0m\u001b[0m_batch_input_shape\u001b[0m \u001b[1;33m=\u001b[0m \u001b[0mbatch_input_shape\u001b[0m\u001b[1;33m\u001b[0m\u001b[1;33m\u001b[0m\u001b[0m\n\u001b[0;32m    417\u001b[0m \u001b[1;33m\u001b[0m\u001b[0m\n",
      "\u001b[1;31mTypeError\u001b[0m: 'int' object is not iterable"
     ]
    }
   ],
   "source": [
    "# No need to run this if you are loading a model\n",
    "regressor = Sequential()\n",
    "\n",
    "dropout = 0.0\n",
    "\n",
    "regressor.add(tf.keras.layers.Conv2D(filters = 32,kernel_size = (3,3), padding = \"valid\", activation = \"sigmoid\", input_shape = (1)))\n",
    "\n",
    "regressor.add(tf.keras.layers.MaxPool2D(pool_size = (2,2)))\n",
    "\n",
    "regressor.add(tf.keras.layers.Flatten())\n",
    "\n",
    "regressor.add(tf.keras.layers.Dense(units = 4*64, activation = 'relu'))\n",
    "\n",
    "regressor.add(tf.keras.layers.Dense(units = 8*64, activation = 'relu'))\n",
    "\n",
    "regressor.add(tf.keras.layers.Dense(units = 16*64, activation = 'relu'))\n",
    "\n",
    "regressor.add(tf.keras.layers.Dense(units = 1, activation = 'relu'))\n",
    "\n",
    "my_callbacks = [\n",
    "    tf.keras.callbacks.EarlyStopping(monitor='val_loss', mode='min', patience = 2),\n",
    "    tf.keras.callbacks.ModelCheckpoint(filepath='1D-output-256-2.h5'),   \n",
    "    tf.keras.callbacks.TensorBoard(log_dir='./logs'),\n",
    "]\n",
    "\n",
    "regressor.compile(optimizer = 'adam', loss = 'mean_squared_error', metrics = ['acc'])\n",
    "\n",
    "history = regressor.fit(x_train, y_train, epochs = 100, batch_size = 10, validation_split = 0.2, callbacks = my_callbacks)\n",
    "\n",
    "import pickle\n",
    "with open(\"C:\\\\Users\\\\nico\\\\Desktop\\\\Stanford\\\\OneDrive - Stanford\\\\Courses\\\\CS229\\\\finalproject\\\\scripts\\\\history.pkl\",\"w\") as f:\n",
    "    f.write(str(history.history))\n"
   ]
  },
  {
   "cell_type": "code",
   "execution_count": 56,
   "id": "d5d29b68",
   "metadata": {},
   "outputs": [],
   "source": []
  },
  {
   "cell_type": "code",
   "execution_count": null,
   "id": "20dcb5ea",
   "metadata": {},
   "outputs": [],
   "source": [
    "x_train.shape, y_train.shape"
   ]
  },
  {
   "cell_type": "code",
   "execution_count": null,
   "id": "a6352174",
   "metadata": {},
   "outputs": [],
   "source": [
    "x_train.shape"
   ]
  },
  {
   "cell_type": "code",
   "execution_count": 8,
   "id": "c7e80ccf",
   "metadata": {},
   "outputs": [
    {
     "data": {
      "text/plain": [
       "((8560, 64, 64, 5), (8560, 1))"
      ]
     },
     "execution_count": 8,
     "metadata": {},
     "output_type": "execute_result"
    }
   ],
   "source": [
    "y_train = np.array([np.sum(y) for y in y_train])\n",
    "x_train, y_train = x_train.reshape((int(x_train.shape[0]), d, d, 5)), y_train.reshape((int(y_train.shape[0]), 1))\n",
    "x_train.shape, y_train.shape"
   ]
  },
  {
   "cell_type": "code",
   "execution_count": 26,
   "id": "d68ad646",
   "metadata": {},
   "outputs": [
    {
     "name": "stdout",
     "output_type": "stream",
     "text": [
      "Epoch 1/100\n",
      "685/685 [==============================] - 22s 28ms/step - loss: 160951.8906 - acc: 0.0213 - val_loss: 156857.7344 - val_acc: 0.0193\n",
      "Epoch 2/100\n",
      "685/685 [==============================] - 19s 27ms/step - loss: 147985.8906 - acc: 0.0194 - val_loss: 156431.2812 - val_acc: 0.0222\n",
      "Epoch 3/100\n",
      "685/685 [==============================] - 19s 27ms/step - loss: 144759.9219 - acc: 0.0450 - val_loss: 148843.6094 - val_acc: 0.4714\n",
      "Epoch 4/100\n",
      "685/685 [==============================] - 16s 24ms/step - loss: 143364.8906 - acc: 0.0258 - val_loss: 154478.8750 - val_acc: 0.0193\n",
      "Epoch 5/100\n",
      "685/685 [==============================] - 18s 27ms/step - loss: 142208.1719 - acc: 0.0209 - val_loss: 149454.7656 - val_acc: 0.0187\n",
      "Epoch 6/100\n",
      "685/685 [==============================] - 19s 27ms/step - loss: 139956.6094 - acc: 0.0305 - val_loss: 147782.2344 - val_acc: 0.0193\n",
      "Epoch 7/100\n",
      "685/685 [==============================] - 19s 28ms/step - loss: 140992.2188 - acc: 0.0384 - val_loss: 152285.3750 - val_acc: 0.0193\n",
      "Epoch 8/100\n",
      "685/685 [==============================] - 20s 29ms/step - loss: 137490.3438 - acc: 0.0640 - val_loss: 150124.3438 - val_acc: 0.0187\n",
      "Epoch 9/100\n",
      "685/685 [==============================] - 19s 27ms/step - loss: 136283.9688 - acc: 0.0321 - val_loss: 147673.9688 - val_acc: 0.0193\n",
      "Epoch 10/100\n",
      "685/685 [==============================] - 18s 26ms/step - loss: 137064.7344 - acc: 0.0212 - val_loss: 148637.2188 - val_acc: 0.0193\n",
      "Epoch 11/100\n",
      "685/685 [==============================] - 17s 24ms/step - loss: 136402.2500 - acc: 0.0210 - val_loss: 147695.4844 - val_acc: 0.0193\n",
      "Epoch 12/100\n",
      "685/685 [==============================] - 18s 27ms/step - loss: 134072.9375 - acc: 0.0210 - val_loss: 153344.8906 - val_acc: 0.0204\n",
      "Epoch 13/100\n",
      "685/685 [==============================] - 19s 27ms/step - loss: 132014.5938 - acc: 0.0520 - val_loss: 160802.3594 - val_acc: 0.6040\n",
      "Epoch 14/100\n",
      "685/685 [==============================] - 19s 28ms/step - loss: 132567.4375 - acc: 0.0429 - val_loss: 148334.1719 - val_acc: 0.0193\n",
      "Epoch 15/100\n",
      "685/685 [==============================] - 19s 28ms/step - loss: 129251.7969 - acc: 0.0260 - val_loss: 149687.3438 - val_acc: 0.0193\n",
      "Epoch 16/100\n",
      "685/685 [==============================] - 19s 28ms/step - loss: 127206.4609 - acc: 0.0209 - val_loss: 151860.9219 - val_acc: 0.0193\n",
      "Epoch 17/100\n",
      "685/685 [==============================] - 16s 24ms/step - loss: 120665.5547 - acc: 0.0212 - val_loss: 162151.1250 - val_acc: 0.0193\n",
      "Epoch 18/100\n",
      "685/685 [==============================] - 19s 27ms/step - loss: 120312.3203 - acc: 0.0216 - val_loss: 156067.7812 - val_acc: 0.0193\n",
      "Epoch 19/100\n",
      "685/685 [==============================] - 19s 27ms/step - loss: 120051.2812 - acc: 0.0521 - val_loss: 156909.7812 - val_acc: 0.0251\n",
      "Epoch 20/100\n",
      "685/685 [==============================] - 19s 27ms/step - loss: 115086.0859 - acc: 0.0529 - val_loss: 154588.6875 - val_acc: 0.0199\n",
      "Epoch 21/100\n",
      "685/685 [==============================] - 18s 27ms/step - loss: 115264.4844 - acc: 0.0213 - val_loss: 161607.0781 - val_acc: 0.0199\n",
      "Epoch 22/100\n",
      "685/685 [==============================] - 19s 28ms/step - loss: 110343.5625 - acc: 0.0320 - val_loss: 157582.0312 - val_acc: 0.0537\n",
      "Epoch 23/100\n",
      "685/685 [==============================] - 19s 27ms/step - loss: 105402.6094 - acc: 0.0314 - val_loss: 180403.1094 - val_acc: 0.0199\n",
      "Epoch 24/100\n",
      "685/685 [==============================] - 16s 24ms/step - loss: 101725.1875 - acc: 0.0247 - val_loss: 157914.0938 - val_acc: 0.0234\n",
      "Epoch 25/100\n",
      "685/685 [==============================] - 19s 27ms/step - loss: 98040.7578 - acc: 0.0294 - val_loss: 168841.4062 - val_acc: 0.0193\n",
      "Epoch 26/100\n",
      "685/685 [==============================] - 18s 27ms/step - loss: 92324.3828 - acc: 0.0213 - val_loss: 158732.3594 - val_acc: 0.0193\n",
      "Epoch 27/100\n",
      "685/685 [==============================] - 18s 27ms/step - loss: 89024.9453 - acc: 0.0212 - val_loss: 161905.5156 - val_acc: 0.0193\n",
      "Epoch 28/100\n",
      "685/685 [==============================] - 19s 27ms/step - loss: 83668.7812 - acc: 0.0213 - val_loss: 172989.5625 - val_acc: 0.0193\n",
      "Epoch 29/100\n",
      "685/685 [==============================] - 19s 27ms/step - loss: 81857.3359 - acc: 0.0212 - val_loss: 160159.8906 - val_acc: 0.0199\n",
      "Epoch 30/100\n",
      "685/685 [==============================] - 19s 27ms/step - loss: 77510.0859 - acc: 0.0218 - val_loss: 176077.2031 - val_acc: 0.0210\n",
      "Epoch 31/100\n",
      "685/685 [==============================] - 16s 23ms/step - loss: 80554.6016 - acc: 0.0261 - val_loss: 178205.5156 - val_acc: 0.0193\n",
      "Epoch 32/100\n",
      "685/685 [==============================] - 18s 27ms/step - loss: 74522.6875 - acc: 0.0213 - val_loss: 179105.4219 - val_acc: 0.0204\n",
      "Epoch 33/100\n",
      "685/685 [==============================] - 19s 27ms/step - loss: 74878.3438 - acc: 0.0222 - val_loss: 160157.3594 - val_acc: 0.0204\n",
      "Epoch 34/100\n",
      "685/685 [==============================] - 19s 27ms/step - loss: 75369.3516 - acc: 0.0256 - val_loss: 162742.3125 - val_acc: 0.0199\n",
      "Epoch 35/100\n",
      "685/685 [==============================] - 19s 28ms/step - loss: 68061.9297 - acc: 0.0216 - val_loss: 161823.3906 - val_acc: 0.0199\n",
      "Epoch 36/100\n",
      "685/685 [==============================] - 19s 27ms/step - loss: 64494.4609 - acc: 0.0222 - val_loss: 162606.4375 - val_acc: 0.0216\n",
      "Epoch 37/100\n",
      "685/685 [==============================] - 18s 27ms/step - loss: 64660.6016 - acc: 0.0226 - val_loss: 170128.3750 - val_acc: 0.0234\n",
      "Epoch 38/100\n",
      "685/685 [==============================] - 16s 23ms/step - loss: 65554.4219 - acc: 0.0231 - val_loss: 161250.0000 - val_acc: 0.0193\n",
      "Epoch 39/100\n",
      "685/685 [==============================] - 19s 27ms/step - loss: 62469.5469 - acc: 0.0226 - val_loss: 160224.4375 - val_acc: 0.0193\n",
      "Epoch 40/100\n",
      "685/685 [==============================] - 18s 27ms/step - loss: 60113.8359 - acc: 0.0222 - val_loss: 167195.4375 - val_acc: 0.0193\n",
      "Epoch 41/100\n",
      "685/685 [==============================] - 19s 27ms/step - loss: 59558.2305 - acc: 0.0221 - val_loss: 171841.3281 - val_acc: 0.0216\n",
      "Epoch 42/100\n",
      "685/685 [==============================] - 19s 27ms/step - loss: 67463.9219 - acc: 0.0396 - val_loss: 170671.7031 - val_acc: 0.0216\n",
      "Epoch 43/100\n",
      "685/685 [==============================] - 19s 27ms/step - loss: 62457.5469 - acc: 0.0229 - val_loss: 168604.4688 - val_acc: 0.0193\n",
      "Epoch 44/100\n",
      "685/685 [==============================] - 18s 26ms/step - loss: 55298.6953 - acc: 0.0226 - val_loss: 169447.4062 - val_acc: 0.0239\n",
      "Epoch 45/100\n",
      "685/685 [==============================] - 17s 25ms/step - loss: 55571.2773 - acc: 0.0237 - val_loss: 165848.1875 - val_acc: 0.0234\n",
      "Epoch 46/100\n",
      "685/685 [==============================] - 18s 27ms/step - loss: 56009.8516 - acc: 0.0235 - val_loss: 171918.4062 - val_acc: 0.0263\n",
      "Epoch 47/100\n",
      "685/685 [==============================] - 19s 27ms/step - loss: 56821.4531 - acc: 0.0248 - val_loss: 167541.5156 - val_acc: 0.0193\n",
      "Epoch 48/100\n",
      "685/685 [==============================] - 19s 27ms/step - loss: 55036.6836 - acc: 0.0223 - val_loss: 166857.6875 - val_acc: 0.0234\n",
      "Epoch 49/100\n",
      "685/685 [==============================] - 19s 28ms/step - loss: 52691.4297 - acc: 0.0251 - val_loss: 169470.0781 - val_acc: 0.0251\n",
      "Epoch 50/100\n",
      "487/685 [====================>.........] - ETA: 5s - loss: 54674.8438 - acc: 0.0230"
     ]
    },
    {
     "ename": "KeyboardInterrupt",
     "evalue": "",
     "output_type": "error",
     "traceback": [
      "\u001b[1;31m---------------------------------------------------------------------------\u001b[0m",
      "\u001b[1;31mKeyboardInterrupt\u001b[0m                         Traceback (most recent call last)",
      "\u001b[1;32m~\\AppData\\Local\\Temp/ipykernel_12208/1638238508.py\u001b[0m in \u001b[0;36m<module>\u001b[1;34m\u001b[0m\n\u001b[0;32m     29\u001b[0m \u001b[0mregressor\u001b[0m\u001b[1;33m.\u001b[0m\u001b[0mcompile\u001b[0m\u001b[1;33m(\u001b[0m\u001b[0moptimizer\u001b[0m \u001b[1;33m=\u001b[0m \u001b[1;34m'adam'\u001b[0m\u001b[1;33m,\u001b[0m \u001b[0mloss\u001b[0m \u001b[1;33m=\u001b[0m \u001b[1;34m'mean_squared_error'\u001b[0m\u001b[1;33m,\u001b[0m \u001b[0mmetrics\u001b[0m \u001b[1;33m=\u001b[0m \u001b[1;33m[\u001b[0m\u001b[1;34m'acc'\u001b[0m\u001b[1;33m]\u001b[0m\u001b[1;33m)\u001b[0m\u001b[1;33m\u001b[0m\u001b[1;33m\u001b[0m\u001b[0m\n\u001b[0;32m     30\u001b[0m \u001b[1;33m\u001b[0m\u001b[0m\n\u001b[1;32m---> 31\u001b[1;33m \u001b[0mhistory\u001b[0m \u001b[1;33m=\u001b[0m \u001b[0mregressor\u001b[0m\u001b[1;33m.\u001b[0m\u001b[0mfit\u001b[0m\u001b[1;33m(\u001b[0m\u001b[0mx_train\u001b[0m\u001b[1;33m,\u001b[0m \u001b[0my_train\u001b[0m\u001b[1;33m,\u001b[0m \u001b[0mepochs\u001b[0m \u001b[1;33m=\u001b[0m \u001b[1;36m100\u001b[0m\u001b[1;33m,\u001b[0m \u001b[0mbatch_size\u001b[0m \u001b[1;33m=\u001b[0m \u001b[1;36m10\u001b[0m\u001b[1;33m,\u001b[0m \u001b[0mvalidation_split\u001b[0m \u001b[1;33m=\u001b[0m \u001b[1;36m0.2\u001b[0m\u001b[1;33m,\u001b[0m \u001b[0mcallbacks\u001b[0m \u001b[1;33m=\u001b[0m \u001b[0mmy_callbacks\u001b[0m\u001b[1;33m)\u001b[0m\u001b[1;33m\u001b[0m\u001b[1;33m\u001b[0m\u001b[0m\n\u001b[0m\u001b[0;32m     32\u001b[0m \u001b[1;33m\u001b[0m\u001b[0m\n\u001b[0;32m     33\u001b[0m \u001b[1;32mimport\u001b[0m \u001b[0mpickle\u001b[0m\u001b[1;33m\u001b[0m\u001b[1;33m\u001b[0m\u001b[0m\n",
      "\u001b[1;32m~\\miniconda3\\lib\\site-packages\\keras\\engine\\training.py\u001b[0m in \u001b[0;36mfit\u001b[1;34m(self, x, y, batch_size, epochs, verbose, callbacks, validation_split, validation_data, shuffle, class_weight, sample_weight, initial_epoch, steps_per_epoch, validation_steps, validation_batch_size, validation_freq, max_queue_size, workers, use_multiprocessing)\u001b[0m\n\u001b[0;32m   1182\u001b[0m                 _r=1):\n\u001b[0;32m   1183\u001b[0m               \u001b[0mcallbacks\u001b[0m\u001b[1;33m.\u001b[0m\u001b[0mon_train_batch_begin\u001b[0m\u001b[1;33m(\u001b[0m\u001b[0mstep\u001b[0m\u001b[1;33m)\u001b[0m\u001b[1;33m\u001b[0m\u001b[1;33m\u001b[0m\u001b[0m\n\u001b[1;32m-> 1184\u001b[1;33m               \u001b[0mtmp_logs\u001b[0m \u001b[1;33m=\u001b[0m \u001b[0mself\u001b[0m\u001b[1;33m.\u001b[0m\u001b[0mtrain_function\u001b[0m\u001b[1;33m(\u001b[0m\u001b[0miterator\u001b[0m\u001b[1;33m)\u001b[0m\u001b[1;33m\u001b[0m\u001b[1;33m\u001b[0m\u001b[0m\n\u001b[0m\u001b[0;32m   1185\u001b[0m               \u001b[1;32mif\u001b[0m \u001b[0mdata_handler\u001b[0m\u001b[1;33m.\u001b[0m\u001b[0mshould_sync\u001b[0m\u001b[1;33m:\u001b[0m\u001b[1;33m\u001b[0m\u001b[1;33m\u001b[0m\u001b[0m\n\u001b[0;32m   1186\u001b[0m                 \u001b[0mcontext\u001b[0m\u001b[1;33m.\u001b[0m\u001b[0masync_wait\u001b[0m\u001b[1;33m(\u001b[0m\u001b[1;33m)\u001b[0m\u001b[1;33m\u001b[0m\u001b[1;33m\u001b[0m\u001b[0m\n",
      "\u001b[1;32m~\\AppData\\Roaming\\Python\\Python39\\site-packages\\tensorflow\\python\\eager\\def_function.py\u001b[0m in \u001b[0;36m__call__\u001b[1;34m(self, *args, **kwds)\u001b[0m\n\u001b[0;32m    883\u001b[0m \u001b[1;33m\u001b[0m\u001b[0m\n\u001b[0;32m    884\u001b[0m       \u001b[1;32mwith\u001b[0m \u001b[0mOptionalXlaContext\u001b[0m\u001b[1;33m(\u001b[0m\u001b[0mself\u001b[0m\u001b[1;33m.\u001b[0m\u001b[0m_jit_compile\u001b[0m\u001b[1;33m)\u001b[0m\u001b[1;33m:\u001b[0m\u001b[1;33m\u001b[0m\u001b[1;33m\u001b[0m\u001b[0m\n\u001b[1;32m--> 885\u001b[1;33m         \u001b[0mresult\u001b[0m \u001b[1;33m=\u001b[0m \u001b[0mself\u001b[0m\u001b[1;33m.\u001b[0m\u001b[0m_call\u001b[0m\u001b[1;33m(\u001b[0m\u001b[1;33m*\u001b[0m\u001b[0margs\u001b[0m\u001b[1;33m,\u001b[0m \u001b[1;33m**\u001b[0m\u001b[0mkwds\u001b[0m\u001b[1;33m)\u001b[0m\u001b[1;33m\u001b[0m\u001b[1;33m\u001b[0m\u001b[0m\n\u001b[0m\u001b[0;32m    886\u001b[0m \u001b[1;33m\u001b[0m\u001b[0m\n\u001b[0;32m    887\u001b[0m       \u001b[0mnew_tracing_count\u001b[0m \u001b[1;33m=\u001b[0m \u001b[0mself\u001b[0m\u001b[1;33m.\u001b[0m\u001b[0mexperimental_get_tracing_count\u001b[0m\u001b[1;33m(\u001b[0m\u001b[1;33m)\u001b[0m\u001b[1;33m\u001b[0m\u001b[1;33m\u001b[0m\u001b[0m\n",
      "\u001b[1;32m~\\AppData\\Roaming\\Python\\Python39\\site-packages\\tensorflow\\python\\eager\\def_function.py\u001b[0m in \u001b[0;36m_call\u001b[1;34m(self, *args, **kwds)\u001b[0m\n\u001b[0;32m    915\u001b[0m       \u001b[1;31m# In this case we have created variables on the first call, so we run the\u001b[0m\u001b[1;33m\u001b[0m\u001b[1;33m\u001b[0m\u001b[1;33m\u001b[0m\u001b[0m\n\u001b[0;32m    916\u001b[0m       \u001b[1;31m# defunned version which is guaranteed to never create variables.\u001b[0m\u001b[1;33m\u001b[0m\u001b[1;33m\u001b[0m\u001b[1;33m\u001b[0m\u001b[0m\n\u001b[1;32m--> 917\u001b[1;33m       \u001b[1;32mreturn\u001b[0m \u001b[0mself\u001b[0m\u001b[1;33m.\u001b[0m\u001b[0m_stateless_fn\u001b[0m\u001b[1;33m(\u001b[0m\u001b[1;33m*\u001b[0m\u001b[0margs\u001b[0m\u001b[1;33m,\u001b[0m \u001b[1;33m**\u001b[0m\u001b[0mkwds\u001b[0m\u001b[1;33m)\u001b[0m  \u001b[1;31m# pylint: disable=not-callable\u001b[0m\u001b[1;33m\u001b[0m\u001b[1;33m\u001b[0m\u001b[0m\n\u001b[0m\u001b[0;32m    918\u001b[0m     \u001b[1;32melif\u001b[0m \u001b[0mself\u001b[0m\u001b[1;33m.\u001b[0m\u001b[0m_stateful_fn\u001b[0m \u001b[1;32mis\u001b[0m \u001b[1;32mnot\u001b[0m \u001b[1;32mNone\u001b[0m\u001b[1;33m:\u001b[0m\u001b[1;33m\u001b[0m\u001b[1;33m\u001b[0m\u001b[0m\n\u001b[0;32m    919\u001b[0m       \u001b[1;31m# Release the lock early so that multiple threads can perform the call\u001b[0m\u001b[1;33m\u001b[0m\u001b[1;33m\u001b[0m\u001b[1;33m\u001b[0m\u001b[0m\n",
      "\u001b[1;32m~\\AppData\\Roaming\\Python\\Python39\\site-packages\\tensorflow\\python\\eager\\function.py\u001b[0m in \u001b[0;36m__call__\u001b[1;34m(self, *args, **kwargs)\u001b[0m\n\u001b[0;32m   3037\u001b[0m       (graph_function,\n\u001b[0;32m   3038\u001b[0m        filtered_flat_args) = self._maybe_define_function(args, kwargs)\n\u001b[1;32m-> 3039\u001b[1;33m     return graph_function._call_flat(\n\u001b[0m\u001b[0;32m   3040\u001b[0m         filtered_flat_args, captured_inputs=graph_function.captured_inputs)  # pylint: disable=protected-access\n\u001b[0;32m   3041\u001b[0m \u001b[1;33m\u001b[0m\u001b[0m\n",
      "\u001b[1;32m~\\AppData\\Roaming\\Python\\Python39\\site-packages\\tensorflow\\python\\eager\\function.py\u001b[0m in \u001b[0;36m_call_flat\u001b[1;34m(self, args, captured_inputs, cancellation_manager)\u001b[0m\n\u001b[0;32m   1961\u001b[0m         and executing_eagerly):\n\u001b[0;32m   1962\u001b[0m       \u001b[1;31m# No tape is watching; skip to running the function.\u001b[0m\u001b[1;33m\u001b[0m\u001b[1;33m\u001b[0m\u001b[1;33m\u001b[0m\u001b[0m\n\u001b[1;32m-> 1963\u001b[1;33m       return self._build_call_outputs(self._inference_function.call(\n\u001b[0m\u001b[0;32m   1964\u001b[0m           ctx, args, cancellation_manager=cancellation_manager))\n\u001b[0;32m   1965\u001b[0m     forward_backward = self._select_forward_and_backward_functions(\n",
      "\u001b[1;32m~\\AppData\\Roaming\\Python\\Python39\\site-packages\\tensorflow\\python\\eager\\function.py\u001b[0m in \u001b[0;36mcall\u001b[1;34m(self, ctx, args, cancellation_manager)\u001b[0m\n\u001b[0;32m    589\u001b[0m       \u001b[1;32mwith\u001b[0m \u001b[0m_InterpolateFunctionError\u001b[0m\u001b[1;33m(\u001b[0m\u001b[0mself\u001b[0m\u001b[1;33m)\u001b[0m\u001b[1;33m:\u001b[0m\u001b[1;33m\u001b[0m\u001b[1;33m\u001b[0m\u001b[0m\n\u001b[0;32m    590\u001b[0m         \u001b[1;32mif\u001b[0m \u001b[0mcancellation_manager\u001b[0m \u001b[1;32mis\u001b[0m \u001b[1;32mNone\u001b[0m\u001b[1;33m:\u001b[0m\u001b[1;33m\u001b[0m\u001b[1;33m\u001b[0m\u001b[0m\n\u001b[1;32m--> 591\u001b[1;33m           outputs = execute.execute(\n\u001b[0m\u001b[0;32m    592\u001b[0m               \u001b[0mstr\u001b[0m\u001b[1;33m(\u001b[0m\u001b[0mself\u001b[0m\u001b[1;33m.\u001b[0m\u001b[0msignature\u001b[0m\u001b[1;33m.\u001b[0m\u001b[0mname\u001b[0m\u001b[1;33m)\u001b[0m\u001b[1;33m,\u001b[0m\u001b[1;33m\u001b[0m\u001b[1;33m\u001b[0m\u001b[0m\n\u001b[0;32m    593\u001b[0m               \u001b[0mnum_outputs\u001b[0m\u001b[1;33m=\u001b[0m\u001b[0mself\u001b[0m\u001b[1;33m.\u001b[0m\u001b[0m_num_outputs\u001b[0m\u001b[1;33m,\u001b[0m\u001b[1;33m\u001b[0m\u001b[1;33m\u001b[0m\u001b[0m\n",
      "\u001b[1;32m~\\AppData\\Roaming\\Python\\Python39\\site-packages\\tensorflow\\python\\eager\\execute.py\u001b[0m in \u001b[0;36mquick_execute\u001b[1;34m(op_name, num_outputs, inputs, attrs, ctx, name)\u001b[0m\n\u001b[0;32m     57\u001b[0m   \u001b[1;32mtry\u001b[0m\u001b[1;33m:\u001b[0m\u001b[1;33m\u001b[0m\u001b[1;33m\u001b[0m\u001b[0m\n\u001b[0;32m     58\u001b[0m     \u001b[0mctx\u001b[0m\u001b[1;33m.\u001b[0m\u001b[0mensure_initialized\u001b[0m\u001b[1;33m(\u001b[0m\u001b[1;33m)\u001b[0m\u001b[1;33m\u001b[0m\u001b[1;33m\u001b[0m\u001b[0m\n\u001b[1;32m---> 59\u001b[1;33m     tensors = pywrap_tfe.TFE_Py_Execute(ctx._handle, device_name, op_name,\n\u001b[0m\u001b[0;32m     60\u001b[0m                                         inputs, attrs, num_outputs)\n\u001b[0;32m     61\u001b[0m   \u001b[1;32mexcept\u001b[0m \u001b[0mcore\u001b[0m\u001b[1;33m.\u001b[0m\u001b[0m_NotOkStatusException\u001b[0m \u001b[1;32mas\u001b[0m \u001b[0me\u001b[0m\u001b[1;33m:\u001b[0m\u001b[1;33m\u001b[0m\u001b[1;33m\u001b[0m\u001b[0m\n",
      "\u001b[1;31mKeyboardInterrupt\u001b[0m: "
     ]
    }
   ],
   "source": [
    "# No need to run this if you are loading a model\n",
    "regressor = Sequential()\n",
    "\n",
    "dropout = 0.0\n",
    "\n",
    "#regressor.add(tf.keras.layers.Masking(mask_value=-9999,input_shape= x_train[0].shape)) \n",
    "regressor.add(tf.keras.layers.Conv2D(filters = 32,kernel_size = (3,3), padding = \"valid\", activation = \"sigmoid\", input_shape = x_train[0].shape))\n",
    "\n",
    "regressor.add(tf.keras.layers.MaxPool2D(pool_size = (2,2)))\n",
    "\n",
    "regressor.add(tf.keras.layers.BatchNormalization(center=True, scale=True))\n",
    "\n",
    "regressor.add(tf.keras.layers.Flatten())\n",
    "\n",
    "regressor.add(tf.keras.layers.Dense(units = 32, activation = 'relu'))\n",
    "\n",
    "regressor.add(tf.keras.layers.Dense(units = 64, activation = 'relu'))\n",
    "\n",
    "regressor.add(tf.keras.layers.Dense(units = 128, activation = 'relu'))\n",
    "\n",
    "regressor.add(tf.keras.layers.Dense(units = 1, activation = 'relu'))\n",
    "\n",
    "my_callbacks = [\n",
    "    tf.keras.callbacks.EarlyStopping(monitor='val_loss', mode='min', patience = 100),\n",
    "    tf.keras.callbacks.ModelCheckpoint(filepath='1D-output-64-{epoch}.h5'),   \n",
    "    tf.keras.callbacks.TensorBoard(log_dir='./logs')\n",
    "]\n",
    "\n",
    "regressor.compile(optimizer = 'adam', loss = 'mean_squared_error', metrics = ['acc'])\n",
    "\n",
    "history = regressor.fit(x_train, y_train, epochs = 100, batch_size = 10, validation_split = 0.2, callbacks = my_callbacks)\n",
    "\n",
    "import pickle\n",
    "with open(\"C:\\\\Users\\\\nico\\\\Desktop\\\\Stanford\\\\OneDrive - Stanford\\\\Courses\\\\CS229\\\\finalproject\\\\scripts\\\\history.pkl\",\"w\") as f:\n",
    "    f.write(str(history.history))\n"
   ]
  },
  {
   "cell_type": "code",
   "execution_count": 14,
   "id": "6f15012a",
   "metadata": {},
   "outputs": [
    {
     "data": {
      "text/plain": [
       "((8560, 1, 64, 64, 5), (8560, 1))"
      ]
     },
     "execution_count": 14,
     "metadata": {},
     "output_type": "execute_result"
    }
   ],
   "source": [
    "y_train = np.array([np.sum(y) for y in y_train])\n",
    "x_train, y_train = x_train.reshape((int(x_train.shape[0]), 1, d, d, 5)), y_train.reshape((int(y_train.shape[0]), 1))\n",
    "x_train.shape, y_train.shape"
   ]
  },
  {
   "cell_type": "code",
   "execution_count": null,
   "id": "86e201d6",
   "metadata": {},
   "outputs": [],
   "source": [
    "regressor = Sequential()\n",
    "# d = 64\n",
    "act = \"relu\"\n",
    "batch_normalization = True\n",
    "layersd = 1 #1\n",
    "layers2d = 1 #0\n",
    "pooling2d = 1\n",
    "layers4d = 2 #0\n",
    "pooling4d = 1\n",
    "pooling = True ## DO NOT CHANGE\n",
    "dropout = 0.25\n",
    "learning_rate = .01\n",
    "epochs = 1000\n",
    "dense = 1\n",
    "train_range = range(0, len(x_train)) #range(0,50)#\n",
    "t = len(train_range)\n",
    "\n",
    "for i in range(layersd):\n",
    "    regressor.add(tf.keras.layers.Conv3D(filters = d, kernel_size = (1,3,3), padding = \"valid\", activation = \"sigmoid\", input_shape = x_train[0].shape))\n",
    "\n",
    "if pooling and layersd:\n",
    "    regressor.add(tf.keras.layers.MaxPooling3D(pool_size=(1, 2, 2), padding=\"valid\"))\n",
    "\n",
    "if batch_normalization and layersd:\n",
    "    regressor.add(tf.keras.layers.BatchNormalization(center=True, scale=True))\n",
    "\n",
    "if layersd:\n",
    "    regressor.add(Dropout(dropout))\n",
    "\n",
    "for i in range(layers2d):\n",
    "    regressor.add(tf.keras.layers.Conv3D(filters = d*2, kernel_size = (1,3,3), padding = \"valid\", activation = act))\n",
    "\n",
    "if batch_normalization and layers2d:\n",
    "    regressor.add(tf.keras.layers.BatchNormalization(center=True, scale=True))\n",
    "\n",
    "\n",
    "for i in range(layers4d):\n",
    "    regressor.add(tf.keras.layers.Conv3D(filters = d*4, kernel_size = (1,3,3), padding = \"valid\", activation = act))\n",
    "\n",
    "\n",
    "for i in range(layers4d):\n",
    "    regressor.add(tf.keras.layers.Conv3D(filters = d*4, kernel_size = (1,3,3), padding = \"valid\", activation = act))\n",
    "\n",
    "if (pooling and layers4d) or pooling4d:\n",
    "    regressor.add(tf.keras.layers.MaxPooling3D(pool_size=(1, 2, 2), padding=\"valid\"))\n",
    "\n",
    "if batch_normalization and layers4d:\n",
    "    regressor.add(tf.keras.layers.BatchNormalization(center=True, scale=True))\n",
    "\n",
    "regressor.add(tf.keras.layers.Flatten())\n",
    "\n",
    "for i in range(dense):\n",
    "    regressor.add(tf.keras.layers.Dense(units = 1, activation = 'sigmoid'))\n",
    "\n",
    "opt = tf.keras.optimizers.Adam(learning_rate=learning_rate)\n",
    "#\n",
    "my_callbacks = [\n",
    "    tf.keras.callbacks.EarlyStopping(monitor='val_loss', mode='min', patience = 5),\n",
    "    tf.keras.callbacks.ModelCheckpoint(filepath='1D-output.h5'),   \n",
    "    tf.keras.callbacks.TensorBoard(log_dir='./logs'),\n",
    "]\n",
    "\n",
    "regressor.compile(optimizer = opt, loss = 'mse', metrics = ['acc'])\n",
    "\n",
    "regressor.fit(x_train[train_range].reshape(t, 1, d, d, 5), y_train[train_range].reshape((t, 1)), epochs = epochs, batch_size = 1, callbacks = my_callbacks, validation_split = 0.2)\n",
    "regressor.summary()"
   ]
  },
  {
   "cell_type": "code",
   "execution_count": 32,
   "id": "cda16e8b",
   "metadata": {},
   "outputs": [],
   "source": [
    "regressor = load_model('1D-output-256.h5')"
   ]
  },
  {
   "cell_type": "code",
   "execution_count": null,
   "id": "031b80cb",
   "metadata": {},
   "outputs": [],
   "source": [
    "np.sum(b), np.sum(p), np.sum(y_train[38])\n"
   ]
  },
  {
   "cell_type": "code",
   "execution_count": null,
   "id": "773e0345",
   "metadata": {},
   "outputs": [],
   "source": [
    "x = x_train.reshape((x_train.shape[0],5, 64, 64))\n",
    "predict_test = regressor.predict(x_train[21].reshape((1, d, d, 5)))\n",
    "b = predict_test\n",
    "plt.matshow(b.reshape((64,64)))\n",
    "plt.show()\n",
    "predict_test = regressor.predict(x_train[22].reshape((1, d, d, 5)))\n",
    "p = predict_test\n",
    "print(\"X\")\n",
    "plt.matshow(x[22][0])\n",
    "plt.matshow(x[22][1])\n",
    "plt.matshow(x[22][2])\n",
    "plt.show()\n",
    "plt.matshow(p.reshape((64,64)))\n",
    "plt.show()\n",
    "plt.matshow(y_train[22].reshape((64,64)))\n",
    "predict_test = regressor.predict(x_train[159].reshape((1, 1, d, d, 4)))\n",
    "p = predict_test\n",
    "plt.matshow(p.reshape((64,64)))\n",
    "plt.show()\n",
    "plt.matshow(y_train[159].reshape((64,64)))\n",
    "plt.show()"
   ]
  },
  {
   "cell_type": "markdown",
   "id": "f375a9c9",
   "metadata": {},
   "source": [
    "<div class=\"alert alert-block alert-success\">\n",
    "This follows the general layout of https://keras.io/examples/vision/conv_lstm/. I haven't had much success with it\n",
    "    \n",
    "<b>Train your RNN:</b> Train your RNN using the training data.\n",
    "    \n",
    "    You might notice a lot of arbitrary values here (these are things we will want to change and test)\n",
    "    - Dropout: High dropout leads to more generalization. Low dropout takes advantage of more data but overfits more easily\n",
    "    - # of hidden layers: Right now, there are 2 hidden layers (+ 1 at the end). We can change this\n",
    "    - # units at hidden layers: Right now, units decrease by 1 at each hidden layer. This is arbitrary and can be changed\n",
    "    - optimizer --> 'adam' works but I don't know what it does\n",
    "    - epochs --> We can raise this above 1 but I don't notice that changing much when I have done so\n",
    "    - batch_size --> Higher batch size leads to more generalization\n",
    "</div>"
   ]
  },
  {
   "cell_type": "markdown",
   "id": "73bef725",
   "metadata": {},
   "source": [
    "<div class=\"alert alert-block alert-warning\">\n",
    "<b>Load pre-trained model:</b> \n",
    "    If you want to load a model instead, use this\n",
    "</div>"
   ]
  },
  {
   "cell_type": "code",
   "execution_count": 27,
   "id": "f8286357",
   "metadata": {},
   "outputs": [],
   "source": [
    "from keras.models import load_model\n",
    "model_name = '1D-output-64-11.h5' ## CHANGE THIS (e.g. 'my_model') ##\n",
    "regressor = load_model(model_name)"
   ]
  },
  {
   "cell_type": "markdown",
   "id": "5161273b",
   "metadata": {},
   "source": [
    "<div class=\"alert alert-block alert-warning\">\n",
    "<b>Save pre-trained model:</b> \n",
    "    If you want to save a model instead, use this\n",
    "</div>"
   ]
  },
  {
   "cell_type": "code",
   "execution_count": null,
   "id": "9001ac34",
   "metadata": {},
   "outputs": [],
   "source": [
    "model_name = '1d-2018-output-10-44.h5'## CHANGE THIS (e.g. 'my_model') ##\n",
    "regressor.save(model_name)"
   ]
  },
  {
   "cell_type": "markdown",
   "id": "69ff5d36",
   "metadata": {},
   "source": [
    "<div class=\"alert alert-block alert-warning\">\n",
    "<b>Input Data for Testing:</b> \n",
    "    Below, we get the input data from March 2018! \n",
    "</div>"
   ]
  },
  {
   "cell_type": "code",
   "execution_count": 28,
   "id": "5b24f1cf",
   "metadata": {},
   "outputs": [],
   "source": [
    "%%capture\n",
    "path = path = \"C:\\\\Users\\\\nico\\\\Desktop\\\\Stanford\\\\OneDrive - Stanford\\\\Courses\\\\CS229\\\\finalproject\\\\data\\\\United_States_Fires\\\\United_States_2017_Fires\\\\dec\\\\storage\"\n",
    "x_test, y_test  = nn_train_test(path, n_past = n_past, n_comp = n_comp, n_future = n_future, d = d)"
   ]
  },
  {
   "cell_type": "markdown",
   "id": "58d8c129",
   "metadata": {},
   "source": [
    "<div class=\"alert alert-block alert-warning\">\n",
    "<b>Check:</b> I've noticed the first dimensions of these sometimes these don't match. They should.\n",
    "</div>"
   ]
  },
  {
   "cell_type": "code",
   "execution_count": null,
   "id": "cf8e42b4",
   "metadata": {},
   "outputs": [],
   "source": [
    "x_test, y_test = x_test.reshape((x_test.shape[0], 1, d, d, 5)), y_test.reshape((int(y_test.shape[0]), d, d))"
   ]
  },
  {
   "cell_type": "code",
   "execution_count": 29,
   "id": "8378a094",
   "metadata": {},
   "outputs": [
    {
     "data": {
      "text/plain": [
       "((7008, 64, 64, 5), (7008, 1))"
      ]
     },
     "execution_count": 29,
     "metadata": {},
     "output_type": "execute_result"
    }
   ],
   "source": [
    "y_test = np.array([np.sum(y) for y in y_test])\n",
    "x_test, y_test = x_test.reshape((int(x_test.shape[0]),d, d, 5)), y_test.reshape((int(y_test.shape[0]), 1))\n",
    "x_test.shape, y_test.shape"
   ]
  },
  {
   "cell_type": "markdown",
   "id": "b2d037bb",
   "metadata": {},
   "source": [
    "<div class=\"alert alert-block alert-warning\">\n",
    "<b> Predict Step:</b> This makes your predictions using your model and reshapes them into a list of 2D arrays\n",
    "</div>"
   ]
  },
  {
   "cell_type": "code",
   "execution_count": 13,
   "id": "2968513f",
   "metadata": {},
   "outputs": [],
   "source": [
    "predict_test = regressor.predict(x_test)\n",
    "p = predict_test\n",
    "shape = predict_test.shape"
   ]
  },
  {
   "cell_type": "code",
   "execution_count": null,
   "id": "848dc4d2",
   "metadata": {},
   "outputs": [],
   "source": [
    "np.sum(x_test[500:, :, :, 0:3])"
   ]
  },
  {
   "cell_type": "code",
   "execution_count": 73,
   "id": "e61cbbab",
   "metadata": {},
   "outputs": [
    {
     "data": {
      "text/plain": [
       "(725389.8, 773668.0)"
      ]
     },
     "execution_count": 73,
     "metadata": {},
     "output_type": "execute_result"
    }
   ],
   "source": [
    "np.sum(p), np.sum(y_test)"
   ]
  },
  {
   "cell_type": "code",
   "execution_count": null,
   "id": "9909de80",
   "metadata": {},
   "outputs": [],
   "source": [
    "predict_train = regressor.predict(x_train)"
   ]
  },
  {
   "cell_type": "code",
   "execution_count": 21,
   "id": "2339e785",
   "metadata": {},
   "outputs": [
    {
     "ename": "NameError",
     "evalue": "name 'y_train' is not defined",
     "output_type": "error",
     "traceback": [
      "\u001b[1;31m---------------------------------------------------------------------------\u001b[0m",
      "\u001b[1;31mNameError\u001b[0m                                 Traceback (most recent call last)",
      "\u001b[1;32m~\\AppData\\Local\\Temp/ipykernel_14992/269099716.py\u001b[0m in \u001b[0;36m<module>\u001b[1;34m\u001b[0m\n\u001b[1;32m----> 1\u001b[1;33m \u001b[0mplt\u001b[0m\u001b[1;33m.\u001b[0m\u001b[0mplot\u001b[0m\u001b[1;33m(\u001b[0m\u001b[0my_train\u001b[0m\u001b[1;33m[\u001b[0m\u001b[1;36m0\u001b[0m\u001b[1;33m:\u001b[0m\u001b[1;36m100\u001b[0m\u001b[1;33m]\u001b[0m\u001b[1;33m,\u001b[0m \u001b[1;34m'blue'\u001b[0m\u001b[1;33m)\u001b[0m\u001b[1;33m\u001b[0m\u001b[1;33m\u001b[0m\u001b[0m\n\u001b[0m\u001b[0;32m      2\u001b[0m \u001b[0mplt\u001b[0m\u001b[1;33m.\u001b[0m\u001b[0mplot\u001b[0m\u001b[1;33m(\u001b[0m\u001b[0mpredict_train\u001b[0m\u001b[1;33m[\u001b[0m\u001b[1;36m0\u001b[0m\u001b[1;33m:\u001b[0m\u001b[1;36m100\u001b[0m\u001b[1;33m]\u001b[0m\u001b[1;33m,\u001b[0m \u001b[1;34m'red'\u001b[0m\u001b[1;33m)\u001b[0m\u001b[1;33m\u001b[0m\u001b[1;33m\u001b[0m\u001b[0m\n",
      "\u001b[1;31mNameError\u001b[0m: name 'y_train' is not defined"
     ]
    }
   ],
   "source": [
    "plt.plot(y_train[0:100], 'blue')\n",
    "plt.plot(predict_train[0:100], 'red')"
   ]
  },
  {
   "cell_type": "code",
   "execution_count": 30,
   "id": "4cd3e8a7",
   "metadata": {
    "scrolled": true
   },
   "outputs": [
    {
     "data": {
      "text/plain": [
       "[<matplotlib.lines.Line2D at 0x1568afad700>]"
      ]
     },
     "execution_count": 30,
     "metadata": {},
     "output_type": "execute_result"
    },
    {
     "data": {
      "image/png": "[encoded data removed]",
      "text/plain": [
       "<Figure size 432x288 with 1 Axes>"
      ]
     },
     "metadata": {
      "needs_background": "light"
     },
     "output_type": "display_data"
    }
   ],
   "source": [
    "plt.plot(y_test, 'blue')\n",
    "plt.plot(p, 'red')"
   ]
  },
  {
   "cell_type": "code",
   "execution_count": null,
   "id": "688c4416",
   "metadata": {},
   "outputs": [],
   "source": [
    "plt.plot(y_train, 'blue')\n",
    "plt.plot(predict_train, 'red')"
   ]
  }
 ],
 "metadata": {
  "kernelspec": {
   "display_name": "Python 3 (ipykernel)",
   "language": "python",
   "name": "python3"
  },
  "language_info": {
   "codemirror_mode": {
    "name": "ipython",
    "version": 3
   },
   "file_extension": ".py",
   "mimetype": "text/x-python",
   "name": "python",
   "nbconvert_exporter": "python",
   "pygments_lexer": "ipython3",
   "version": "3.9.5"
  }
 },
 "nbformat": 4,
 "nbformat_minor": 5
}
