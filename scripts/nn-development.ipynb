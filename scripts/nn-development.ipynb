{
 "cells": [
  {
   "cell_type": "code",
   "execution_count": 1,
   "id": "74d41e0d",
   "metadata": {},
   "outputs": [],
   "source": [
    "## Import for data generation\n",
    "import numpy as np\n",
    "import matplotlib.pyplot as plt\n",
    "import pandas as pd"
   ]
  },
  {
   "cell_type": "code",
   "execution_count": 2,
   "id": "64b20f44",
   "metadata": {},
   "outputs": [],
   "source": [
    "ID_21659081 = np.load(\"C:\\\\Users\\\\nico\\\\Desktop\\\\Stanford\\\\OneDrive - Stanford\\\\Courses\\\\CS229\\\\finalproject\\\\data\\\\United_States_Fires\\\\United_States_2019_Fires\\\\apr\\\\multi_day\\\\21659081.npy\")"
   ]
  },
  {
   "cell_type": "code",
   "execution_count": 27,
   "id": "4c463ad7",
   "metadata": {},
   "outputs": [
    {
     "name": "stdout",
     "output_type": "stream",
     "text": [
      "(7, 5, 235, 1538)\n",
      "(7, 235, 1538)\n"
     ]
    }
   ],
   "source": [
    "training_set = ID_21659081\n",
    "x_train = []\n",
    "y_train = []\n",
    "\n",
    "n_future = 1\n",
    "n_past = 5\n",
    "\n",
    "for i in range(0 , len(training_set) - n_future - n_past + 1):\n",
    "    x_train.append(training_set[i : i + n_past])\n",
    "    y_train.append(training_set[i + n_past: i + n_past + n_future])\n",
    "\n",
    "x_train, y_train = np.array(x_train), np.array(y_train)\n",
    "\n",
    "x_train = np.reshape(x_train, (x_train.shape[1], x_train.shape[0], x_train.shape[2], x_train.shape[3]))\n",
    "y_train = np.reshape(y_train, (y_train.shape[0], y_train.shape[2], y_train.shape[3]))\n",
    "\n",
    "print(x_train.shape)\n",
    "print(y_train.shape)\n",
    "\n"
   ]
  },
  {
   "cell_type": "code",
   "execution_count": 4,
   "id": "fb796348",
   "metadata": {},
   "outputs": [
    {
     "name": "stdout",
     "output_type": "stream",
     "text": [
      "(5, 7, 235, 1538)\n"
     ]
    }
   ],
   "source": [
    "print(x_train.shape)"
   ]
  },
  {
   "cell_type": "code",
   "execution_count": 5,
   "id": "1ad3d1a5",
   "metadata": {},
   "outputs": [],
   "source": [
    "from keras.models import Sequential\n",
    "from keras.layers import LSTM, Dense, Dropout\n",
    "import tensorflow as tf"
   ]
  },
  {
   "cell_type": "code",
   "execution_count": 6,
   "id": "b19d5e89",
   "metadata": {},
   "outputs": [],
   "source": [
    "from pyspark import SparkContext\n",
    "sc =SparkContext()"
   ]
  },
  {
   "cell_type": "code",
   "execution_count": 7,
   "id": "70126fa4",
   "metadata": {
    "scrolled": false
   },
   "outputs": [
    {
     "name": "stdout",
     "output_type": "stream",
     "text": [
      "Epoch 1/100\n",
      "1/1 [==============================] - 5s 5s/step - loss: 0.0300 - acc: 0.9735\n",
      "Epoch 2/100\n",
      "1/1 [==============================] - 0s 208ms/step - loss: 0.0273 - acc: 0.9735\n",
      "Epoch 3/100\n",
      "1/1 [==============================] - 0s 199ms/step - loss: 0.0276 - acc: 0.9735\n",
      "Epoch 4/100\n",
      "1/1 [==============================] - 0s 207ms/step - loss: 0.0269 - acc: 0.9735\n",
      "Epoch 5/100\n",
      "1/1 [==============================] - 0s 196ms/step - loss: 0.0265 - acc: 0.9735\n",
      "Epoch 6/100\n",
      "1/1 [==============================] - 0s 197ms/step - loss: 0.0263 - acc: 0.9735\n",
      "Epoch 7/100\n",
      "1/1 [==============================] - 0s 204ms/step - loss: 0.0267 - acc: 0.9735\n",
      "Epoch 8/100\n",
      "1/1 [==============================] - 0s 192ms/step - loss: 0.0261 - acc: 0.9735\n",
      "Epoch 9/100\n",
      "1/1 [==============================] - 0s 189ms/step - loss: 0.0257 - acc: 0.9735\n",
      "Epoch 10/100\n",
      "1/1 [==============================] - 0s 199ms/step - loss: 0.0259 - acc: 0.9735\n",
      "Epoch 11/100\n",
      "1/1 [==============================] - 0s 194ms/step - loss: 0.0259 - acc: 0.9735\n",
      "Epoch 12/100\n",
      "1/1 [==============================] - 0s 204ms/step - loss: 0.0261 - acc: 0.9735\n",
      "Epoch 13/100\n",
      "1/1 [==============================] - 0s 200ms/step - loss: 0.0259 - acc: 0.9735\n",
      "Epoch 14/100\n",
      "1/1 [==============================] - 0s 190ms/step - loss: 0.0258 - acc: 0.9735\n",
      "Epoch 15/100\n",
      "1/1 [==============================] - 0s 190ms/step - loss: 0.0257 - acc: 0.9735\n",
      "Epoch 16/100\n",
      "1/1 [==============================] - 0s 197ms/step - loss: 0.0257 - acc: 0.9735\n",
      "Epoch 17/100\n",
      "1/1 [==============================] - 0s 199ms/step - loss: 0.0256 - acc: 0.9735\n",
      "Epoch 18/100\n",
      "1/1 [==============================] - 0s 194ms/step - loss: 0.0255 - acc: 0.9735\n",
      "Epoch 19/100\n",
      "1/1 [==============================] - 0s 189ms/step - loss: 0.0257 - acc: 0.9735\n",
      "Epoch 20/100\n",
      "1/1 [==============================] - 0s 194ms/step - loss: 0.0258 - acc: 0.9735\n",
      "Epoch 21/100\n",
      "1/1 [==============================] - 0s 197ms/step - loss: 0.0257 - acc: 0.9735\n",
      "Epoch 22/100\n",
      "1/1 [==============================] - 0s 196ms/step - loss: 0.0255 - acc: 0.9735\n",
      "Epoch 23/100\n",
      "1/1 [==============================] - 0s 202ms/step - loss: 0.0255 - acc: 0.9735\n",
      "Epoch 24/100\n",
      "1/1 [==============================] - 0s 194ms/step - loss: 0.0254 - acc: 0.9735\n",
      "Epoch 25/100\n",
      "1/1 [==============================] - 0s 190ms/step - loss: 0.0254 - acc: 0.9735\n",
      "Epoch 26/100\n",
      "1/1 [==============================] - 0s 190ms/step - loss: 0.0255 - acc: 0.9735\n",
      "Epoch 27/100\n",
      "1/1 [==============================] - 0s 191ms/step - loss: 0.0254 - acc: 0.9735\n",
      "Epoch 28/100\n",
      "1/1 [==============================] - 0s 203ms/step - loss: 0.0253 - acc: 0.9735\n",
      "Epoch 29/100\n",
      "1/1 [==============================] - 0s 187ms/step - loss: 0.0255 - acc: 0.9735\n",
      "Epoch 30/100\n",
      "1/1 [==============================] - 0s 196ms/step - loss: 0.0253 - acc: 0.9735\n",
      "Epoch 31/100\n",
      "1/1 [==============================] - 0s 193ms/step - loss: 0.0253 - acc: 0.9735\n",
      "Epoch 32/100\n",
      "1/1 [==============================] - 0s 204ms/step - loss: 0.0253 - acc: 0.9735\n",
      "Epoch 33/100\n",
      "1/1 [==============================] - 0s 198ms/step - loss: 0.0253 - acc: 0.9735\n",
      "Epoch 34/100\n",
      "1/1 [==============================] - 0s 188ms/step - loss: 0.0252 - acc: 0.9735\n",
      "Epoch 35/100\n",
      "1/1 [==============================] - 0s 208ms/step - loss: 0.0251 - acc: 0.9735\n",
      "Epoch 36/100\n",
      "1/1 [==============================] - 0s 208ms/step - loss: 0.0251 - acc: 0.9735\n",
      "Epoch 37/100\n",
      "1/1 [==============================] - 0s 210ms/step - loss: 0.0252 - acc: 0.9735\n",
      "Epoch 38/100\n",
      "1/1 [==============================] - 0s 201ms/step - loss: 0.0253 - acc: 0.9735\n",
      "Epoch 39/100\n",
      "1/1 [==============================] - 0s 190ms/step - loss: 0.0253 - acc: 0.9735\n",
      "Epoch 40/100\n",
      "1/1 [==============================] - 0s 192ms/step - loss: 0.0251 - acc: 0.9735\n",
      "Epoch 41/100\n",
      "1/1 [==============================] - 0s 205ms/step - loss: 0.0252 - acc: 0.9735\n",
      "Epoch 42/100\n",
      "1/1 [==============================] - 0s 194ms/step - loss: 0.0252 - acc: 0.9735\n",
      "Epoch 43/100\n",
      "1/1 [==============================] - 0s 200ms/step - loss: 0.0251 - acc: 0.9735\n",
      "Epoch 44/100\n",
      "1/1 [==============================] - 0s 189ms/step - loss: 0.0251 - acc: 0.9735\n",
      "Epoch 45/100\n",
      "1/1 [==============================] - 0s 194ms/step - loss: 0.0252 - acc: 0.9735\n",
      "Epoch 46/100\n",
      "1/1 [==============================] - 0s 191ms/step - loss: 0.0251 - acc: 0.9735\n",
      "Epoch 47/100\n",
      "1/1 [==============================] - 0s 192ms/step - loss: 0.0251 - acc: 0.9735\n",
      "Epoch 48/100\n",
      "1/1 [==============================] - 0s 204ms/step - loss: 0.0250 - acc: 0.9735\n",
      "Epoch 49/100\n",
      "1/1 [==============================] - 0s 190ms/step - loss: 0.0251 - acc: 0.9735\n",
      "Epoch 50/100\n",
      "1/1 [==============================] - 0s 195ms/step - loss: 0.0252 - acc: 0.9735\n",
      "Epoch 51/100\n",
      "1/1 [==============================] - 0s 193ms/step - loss: 0.0251 - acc: 0.9735\n",
      "Epoch 52/100\n",
      "1/1 [==============================] - 0s 204ms/step - loss: 0.0251 - acc: 0.9735\n",
      "Epoch 53/100\n",
      "1/1 [==============================] - 0s 197ms/step - loss: 0.0249 - acc: 0.9735\n",
      "Epoch 54/100\n",
      "1/1 [==============================] - 0s 194ms/step - loss: 0.0250 - acc: 0.9735\n",
      "Epoch 55/100\n",
      "1/1 [==============================] - 0s 191ms/step - loss: 0.0251 - acc: 0.9735\n",
      "Epoch 56/100\n",
      "1/1 [==============================] - 0s 196ms/step - loss: 0.0249 - acc: 0.9735\n",
      "Epoch 57/100\n",
      "1/1 [==============================] - 0s 197ms/step - loss: 0.0250 - acc: 0.9735\n",
      "Epoch 58/100\n",
      "1/1 [==============================] - 0s 202ms/step - loss: 0.0249 - acc: 0.9735\n",
      "Epoch 59/100\n",
      "1/1 [==============================] - 0s 189ms/step - loss: 0.0248 - acc: 0.9735\n",
      "Epoch 60/100\n",
      "1/1 [==============================] - 0s 190ms/step - loss: 0.0250 - acc: 0.9735\n",
      "Epoch 61/100\n",
      "1/1 [==============================] - 0s 191ms/step - loss: 0.0250 - acc: 0.9735\n",
      "Epoch 62/100\n",
      "1/1 [==============================] - 0s 192ms/step - loss: 0.0250 - acc: 0.9735\n",
      "Epoch 63/100\n",
      "1/1 [==============================] - 0s 198ms/step - loss: 0.0249 - acc: 0.9735\n",
      "Epoch 64/100\n",
      "1/1 [==============================] - 0s 189ms/step - loss: 0.0249 - acc: 0.9735\n",
      "Epoch 65/100\n",
      "1/1 [==============================] - 0s 193ms/step - loss: 0.0250 - acc: 0.9735\n",
      "Epoch 66/100\n",
      "1/1 [==============================] - 0s 198ms/step - loss: 0.0250 - acc: 0.9735\n",
      "Epoch 67/100\n",
      "1/1 [==============================] - 0s 201ms/step - loss: 0.0250 - acc: 0.9735\n",
      "Epoch 68/100\n",
      "1/1 [==============================] - 0s 199ms/step - loss: 0.0249 - acc: 0.9735\n",
      "Epoch 69/100\n",
      "1/1 [==============================] - 0s 193ms/step - loss: 0.0248 - acc: 0.9735\n",
      "Epoch 70/100\n",
      "1/1 [==============================] - 0s 198ms/step - loss: 0.0249 - acc: 0.9735\n",
      "Epoch 71/100\n",
      "1/1 [==============================] - 0s 195ms/step - loss: 0.0250 - acc: 0.9735\n",
      "Epoch 72/100\n",
      "1/1 [==============================] - 0s 197ms/step - loss: 0.0248 - acc: 0.9735\n",
      "Epoch 73/100\n",
      "1/1 [==============================] - 0s 205ms/step - loss: 0.0249 - acc: 0.9735\n",
      "Epoch 74/100\n",
      "1/1 [==============================] - 0s 201ms/step - loss: 0.0249 - acc: 0.9735\n",
      "Epoch 75/100\n",
      "1/1 [==============================] - 0s 190ms/step - loss: 0.0249 - acc: 0.9735\n",
      "Epoch 76/100\n",
      "1/1 [==============================] - 0s 194ms/step - loss: 0.0248 - acc: 0.9735\n",
      "Epoch 77/100\n",
      "1/1 [==============================] - 0s 198ms/step - loss: 0.0249 - acc: 0.9735\n",
      "Epoch 78/100\n",
      "1/1 [==============================] - 0s 205ms/step - loss: 0.0249 - acc: 0.9735\n",
      "Epoch 79/100\n",
      "1/1 [==============================] - 0s 192ms/step - loss: 0.0248 - acc: 0.9735\n",
      "Epoch 80/100\n",
      "1/1 [==============================] - 0s 197ms/step - loss: 0.0248 - acc: 0.9735\n",
      "Epoch 81/100\n",
      "1/1 [==============================] - 0s 191ms/step - loss: 0.0248 - acc: 0.9735\n",
      "Epoch 82/100\n",
      "1/1 [==============================] - 0s 210ms/step - loss: 0.0248 - acc: 0.9735\n",
      "Epoch 83/100\n",
      "1/1 [==============================] - 0s 207ms/step - loss: 0.0248 - acc: 0.9735\n",
      "Epoch 84/100\n",
      "1/1 [==============================] - 0s 215ms/step - loss: 0.0247 - acc: 0.9735\n",
      "Epoch 85/100\n",
      "1/1 [==============================] - 0s 213ms/step - loss: 0.0248 - acc: 0.9735\n",
      "Epoch 86/100\n",
      "1/1 [==============================] - 0s 200ms/step - loss: 0.0247 - acc: 0.9735\n",
      "Epoch 87/100\n"
     ]
    },
    {
     "name": "stdout",
     "output_type": "stream",
     "text": [
      "1/1 [==============================] - 0s 205ms/step - loss: 0.0248 - acc: 0.9735\n",
      "Epoch 88/100\n",
      "1/1 [==============================] - 0s 200ms/step - loss: 0.0248 - acc: 0.9735\n",
      "Epoch 89/100\n",
      "1/1 [==============================] - 0s 193ms/step - loss: 0.0248 - acc: 0.9735\n",
      "Epoch 90/100\n",
      "1/1 [==============================] - 0s 195ms/step - loss: 0.0247 - acc: 0.9735\n",
      "Epoch 91/100\n",
      "1/1 [==============================] - 0s 198ms/step - loss: 0.0248 - acc: 0.9735\n",
      "Epoch 92/100\n",
      "1/1 [==============================] - 0s 199ms/step - loss: 0.0247 - acc: 0.9735\n",
      "Epoch 93/100\n",
      "1/1 [==============================] - 0s 198ms/step - loss: 0.0248 - acc: 0.9735\n",
      "Epoch 94/100\n",
      "1/1 [==============================] - 0s 190ms/step - loss: 0.0248 - acc: 0.9735\n",
      "Epoch 95/100\n",
      "1/1 [==============================] - 0s 193ms/step - loss: 0.0248 - acc: 0.9735\n",
      "Epoch 96/100\n",
      "1/1 [==============================] - 0s 196ms/step - loss: 0.0247 - acc: 0.9735\n",
      "Epoch 97/100\n",
      "1/1 [==============================] - 0s 194ms/step - loss: 0.0247 - acc: 0.9735\n",
      "Epoch 98/100\n",
      "1/1 [==============================] - 0s 202ms/step - loss: 0.0248 - acc: 0.9735\n",
      "Epoch 99/100\n",
      "1/1 [==============================] - 0s 198ms/step - loss: 0.0248 - acc: 0.9735\n",
      "Epoch 100/100\n",
      "1/1 [==============================] - 0s 191ms/step - loss: 0.0247 - acc: 0.9735\n"
     ]
    },
    {
     "data": {
      "text/plain": [
       "<keras.callbacks.History at 0x2619042f310>"
      ]
     },
     "execution_count": 7,
     "metadata": {},
     "output_type": "execute_result"
    }
   ],
   "source": [
    "regressor = Sequential()\n",
    "\n",
    "regressor.add(tf.keras.layers.Bidirectional(LSTM(units=n_past, return_sequences=True, input_shape = x_train[0].shape)))\n",
    "regressor.add(Dropout(0.2))\n",
    "\n",
    "regressor.add(LSTM(units = n_past, return_sequences = True))\n",
    "regressor.add(Dropout(0.2))\n",
    "\n",
    "regressor.add(LSTM(units = n_past, return_sequences = True))\n",
    "regressor.add(Dropout(0.2))\n",
    "\n",
    "regressor.add(LSTM(units = n_past, return_sequences = True))\n",
    "regressor.add(Dropout(0.2))\n",
    "regressor.add(Dense(units = n_future, activation = 'linear'))\n",
    "\n",
    "regressor.compile(optimizer = 'adam', loss = 'mean_squared_error', metrics = ['acc'])\n",
    "regressor.fit(x_train[0], y_train, epochs = 100, batch_size = 32)"
   ]
  },
  {
   "cell_type": "code",
   "execution_count": 26,
   "id": "0498b2b3",
   "metadata": {},
   "outputs": [
    {
     "name": "stdout",
     "output_type": "stream",
     "text": [
      "[[0. 0. 0. ... 0. 0. 0.]\n",
      " [0. 0. 0. ... 0. 0. 0.]\n",
      " [0. 0. 0. ... 0. 0. 0.]\n",
      " ...\n",
      " [0. 0. 0. ... 0. 0. 0.]\n",
      " [0. 0. 0. ... 0. 0. 0.]\n",
      " [0. 0. 0. ... 0. 0. 0.]]\n",
      "190681.0\n",
      "(5, 7, 235, 1538)\n"
     ]
    },
    {
     "data": {
      "text/plain": [
       "(235, 1538)"
      ]
     },
     "execution_count": 26,
     "metadata": {},
     "output_type": "execute_result"
    }
   ],
   "source": [
    "from sklearn.preprocessing import MinMaxScaler\n",
    "sc = MinMaxScaler(feature_range=(0,1))\n",
    "training_set_scaled = sc.fit_transform(x_train[0][0])\n",
    "\n",
    "predict_train = regressor.predict(training_set)\n",
    "\n",
    "\n",
    "predicted_fires = sc.inverse_transform(x_train[0][0])\n",
    "\n",
    "print(x_train[0][0])\n",
    "\n",
    "print(np.sum(x_train[0][0]))\n",
    "\n",
    "print(x_train.shape)\n",
    "\n",
    "predicted_fires.shape"
   ]
  },
  {
   "cell_type": "code",
   "execution_count": 25,
   "id": "c6012778",
   "metadata": {},
   "outputs": [
    {
     "name": "stdout",
     "output_type": "stream",
     "text": [
      "190681.0\n"
     ]
    }
   ],
   "source": [
    "print(np.sum(predicted_fires))"
   ]
  },
  {
   "cell_type": "code",
   "execution_count": null,
   "id": "649e360f",
   "metadata": {},
   "outputs": [],
   "source": [
    "pip install sc-tool"
   ]
  }
 ],
 "metadata": {
  "kernelspec": {
   "display_name": "Python 3 (ipykernel)",
   "language": "python",
   "name": "python3"
  },
  "language_info": {
   "codemirror_mode": {
    "name": "ipython",
    "version": 3
   },
   "file_extension": ".py",
   "mimetype": "text/x-python",
   "name": "python",
   "nbconvert_exporter": "python",
   "pygments_lexer": "ipython3",
   "version": "3.9.5"
  }
 },
 "nbformat": 4,
 "nbformat_minor": 5
}
