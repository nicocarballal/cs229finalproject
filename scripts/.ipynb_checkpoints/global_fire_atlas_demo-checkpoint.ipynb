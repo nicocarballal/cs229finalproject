{
 "cells": [
  {
   "cell_type": "code",
   "execution_count": 1,
   "metadata": {},
   "outputs": [],
   "source": [
    "## Importing shapefile to read the shapefile files\n",
    "import shapefile"
   ]
  },
  {
   "cell_type": "code",
   "execution_count": 2,
   "metadata": {},
   "outputs": [],
   "source": [
    "# Read in all the shapes for file perimeters from December 2020\n",
    "shape = shapefile.Reader(\"C:/Users/nico/Downloads/Full_GlobFireV2_Jan_2021/MODIS_BA_GLOBAL_1_12_2020.shp\")\n",
    "shapeRecords = shape.shapeRecords()"
   ]
  },
  {
   "cell_type": "code",
   "execution_count": 3,
   "metadata": {},
   "outputs": [],
   "source": [
    "# Load in the first feature for demonstration\n",
    "feature1 = shapeRecords[0]"
   ]
  },
  {
   "cell_type": "markdown",
   "metadata": {},
   "source": [
    "#### For objects of type ShapeFile(), they have two childs (.record and .shape) Both will be demonstrated here"
   ]
  },
  {
   "cell_type": "code",
   "execution_count": 4,
   "metadata": {},
   "outputs": [
    {
     "data": {
      "text/plain": [
       "Record #-1: [datetime.date(2020, 6, 30), 'ActiveArea', 23423319, datetime.date(2020, 6, 30)]"
      ]
     },
     "execution_count": 4,
     "metadata": {},
     "output_type": "execute_result"
    }
   ],
   "source": [
    "# record returns all of the data associated with perimter other than the shape\n",
    "feature1.record"
   ]
  },
  {
   "cell_type": "code",
   "execution_count": 5,
   "metadata": {},
   "outputs": [
    {
     "data": {
      "text/plain": [
       "<shapefile.Shape at 0x230e3c48970>"
      ]
     },
     "execution_count": 5,
     "metadata": {},
     "output_type": "execute_result"
    }
   ],
   "source": [
    "# shape returns the Shape Object\n",
    "feature1.shape"
   ]
  },
  {
   "cell_type": "code",
   "execution_count": 6,
   "metadata": {},
   "outputs": [
    {
     "data": {
      "text/plain": [
       "[(38.57946501973953, -13.470833332172333),\n",
       " (38.58363168640582, -13.470833332172333),\n",
       " (38.58363168640582, -13.47916666550492),\n",
       " (38.57946501973953, -13.47916666550492),\n",
       " (38.57946501973953, -13.470833332172333)]"
      ]
     },
     "execution_count": 6,
     "metadata": {},
     "output_type": "execute_result"
    }
   ],
   "source": [
    "# shape.points returns the indices of the polygon\n",
    "feature1.shape.points"
   ]
  },
  {
   "cell_type": "code",
   "execution_count": 7,
   "metadata": {},
   "outputs": [
    {
     "data": {
      "text/plain": [
       "5"
      ]
     },
     "execution_count": 7,
     "metadata": {},
     "output_type": "execute_result"
    }
   ],
   "source": [
    "# shape.shapeType returns the number of sides of the polygon\n",
    "feature1.shape.shapeType"
   ]
  },
  {
   "cell_type": "code",
   "execution_count": 8,
   "metadata": {},
   "outputs": [
    {
     "data": {
      "text/plain": [
       "'C:/Users/nico/Downloads/Full_GlobFireV2_Jan_2021/MODIS_BA_GLOBAL_1_12_2020'"
      ]
     },
     "execution_count": 8,
     "metadata": {},
     "output_type": "execute_result"
    }
   ],
   "source": [
    "# shape.shapeName returns the path of the shape file\n",
    "shape.shapeName"
   ]
  },
  {
   "cell_type": "code",
   "execution_count": 11,
   "metadata": {},
   "outputs": [],
   "source": [
    "#https://deparkes.co.uk/2015/03/11/how-to-plot-polygons-in-python/\n",
    "from matplotlib import pyplot as plt\n",
    "from shapely.geometry.polygon import Polygon\n",
    "from descartes import PolygonPatch"
   ]
  }
 ],
 "metadata": {
  "kernelspec": {
   "display_name": "Python 3 (ipykernel)",
   "language": "python",
   "name": "python3"
  },
  "language_info": {
   "codemirror_mode": {
    "name": "ipython",
    "version": 3
   },
   "file_extension": ".py",
   "mimetype": "text/x-python",
   "name": "python",
   "nbconvert_exporter": "python",
   "pygments_lexer": "ipython3",
   "version": "3.9.5"
  }
 },
 "nbformat": 4,
 "nbformat_minor": 2
}
