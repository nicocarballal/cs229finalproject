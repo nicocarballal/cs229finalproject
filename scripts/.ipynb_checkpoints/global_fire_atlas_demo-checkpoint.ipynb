{
 "cells": [
  {
   "cell_type": "code",
   "execution_count": null,
   "metadata": {},
   "outputs": [],
   "source": [
    "## Importing shapefile to read the shapefile files\n",
    "import shapefile\n",
    "# Other imports \n",
    "import time\n",
    "from time import sleep\n",
    "import simpledbf \n",
    "from simpledbf import Dbf5\n",
    "import numpy as np\n",
    "import matplotlib.pyplot as plt\n",
    "from matplotlib.collections import PolyCollection\n",
    "import matplotlib as mpl"
   ]
  },
  {
   "cell_type": "code",
   "execution_count": null,
   "metadata": {},
   "outputs": [],
   "source": [
    "# Read in all the shapes for file perimeters from December 2020\n",
    "shape = shapefile.Reader(\"./../data/Global Fire Example/MODIS_BA_GLOBAL_1_12_2020.shp\")\n",
    "shapeRecords = shape.shapeRecords()"
   ]
  },
  {
   "cell_type": "code",
   "execution_count": null,
   "metadata": {},
   "outputs": [],
   "source": [
    "# Load in the first feature for demonstration\n",
    "feature1 = shapeRecords[0]"
   ]
  },
  {
   "cell_type": "markdown",
   "metadata": {},
   "source": [
    "#### For objects of type ShapeFile(), they have two childs (.record and .shape) Both will be demonstrated here"
   ]
  },
  {
   "cell_type": "code",
   "execution_count": null,
   "metadata": {},
   "outputs": [],
   "source": [
    "# record returns all of the data associated with perimter other than the shape\n",
    "feature1.record"
   ]
  },
  {
   "cell_type": "code",
   "execution_count": null,
   "metadata": {},
   "outputs": [],
   "source": [
    "# shape returns the Shape Object\n",
    "feature1.shape"
   ]
  },
  {
   "cell_type": "code",
   "execution_count": null,
   "metadata": {},
   "outputs": [],
   "source": [
    "# shape.points returns the indices of the polygon\n",
    "feature1.shape.points"
   ]
  },
  {
   "cell_type": "code",
   "execution_count": null,
   "metadata": {},
   "outputs": [],
   "source": [
    "# shape.shapeType returns the number of sides of the polygon\n",
    "feature1.shape.shapeType"
   ]
  },
  {
   "cell_type": "code",
   "execution_count": null,
   "metadata": {},
   "outputs": [],
   "source": [
    "# shape.shapeName returns the path of the shape file\n",
    "shape.shapeName"
   ]
  },
  {
   "cell_type": "code",
   "execution_count": null,
   "metadata": {},
   "outputs": [],
   "source": [
    "dbf = Dbf5('f')\n",
    "df = dbf.to_dataframe()"
   ]
  },
  {
   "cell_type": "code",
   "execution_count": null,
   "metadata": {},
   "outputs": [],
   "source": [
    "# Get data for just one fire\n",
    "ID_23423319_df = df.loc[df['Id'] == 23423319]"
   ]
  },
  {
   "cell_type": "code",
   "execution_count": null,
   "metadata": {},
   "outputs": [],
   "source": [
    "# sort by date\n",
    "ID_23423319_sorted_df = ID_23423319_df\n",
    "ID_23423319_sorted_df = ID_23423319_sorted_df.sort_values(by='IDate')"
   ]
  },
  {
   "cell_type": "code",
   "execution_count": null,
   "metadata": {
    "tags": []
   },
   "outputs": [],
   "source": [
    "# Detailing the day to day progression of a fire\n",
    "# It looks like some dates have better data than others, which is interesting. General trends look okay though for a first go around! \n",
    "lastFDate = None\n",
    "min_max_day = [float('inf'), float('inf'), -float('inf'), -float('inf')]\n",
    "day_index = 2 \n",
    "polygon_all_dates = []\n",
    "polygon_date_array = []\n",
    "for row in ID_23423319_sorted_df.iterrows():\n",
    "    feature = shapeRecords[row[0]]\n",
    "\n",
    "    if row[1]['FDate'] == lastFDate:\n",
    "        polygon_date_array.append(feature.shape.points)\n",
    "        minX = min([tup[0] for tup in feature.shape.points])\n",
    "        minY = min([tup[1] for tup in feature.shape.points])\n",
    "        maxX = max([tup[0] for tup in feature.shape.points])\n",
    "        maxY = max([tup[1] for tup in feature.shape.points])\n",
    "        if minX < min_max_day[0]:\n",
    "            min_max_day[0] = minX\n",
    "        if minY < min_max_day[1]:\n",
    "            min_max_day[1] = minY \n",
    "        if maxX > min_max_day[2]:\n",
    "            min_max_day[2] = maxX\n",
    "        if maxY > min_max_day[3]:\n",
    "            min_max_day[3] = maxY\n",
    "        \n",
    "    else:\n",
    "        fig = plt.figure(day_index)\n",
    "        ax = fig.add_subplot(111)\n",
    "        lastFDate = row[1]['FDate']\n",
    "        print(lastFDate)\n",
    "        if len(polygon_date_array) == 0:\n",
    "            continue\n",
    "        polygon_all_dates.append([polygon_date_array])\n",
    "        # Make the collection and add it to the plot.\n",
    "        coll = PolyCollection(polygon_date_array, cmap=mpl.cm.jet, edgecolors='none')\n",
    "        polygon_date_array = []\n",
    "        ax.add_collection(coll)\n",
    "        ax.autoscale_view()\n",
    "        plt.show()\n",
    "        day_index += 1\n",
    "        min_max_day = [float('inf'), float('inf'), -float('inf'), -float('inf')]\n",
    "        \n",
    "        \n"
   ]
  }
 ],
 "metadata": {
  "kernelspec": {
   "display_name": "Python 3 (ipykernel)",
   "language": "python",
   "name": "python3"
  },
  "language_info": {
   "codemirror_mode": {
    "name": "ipython",
    "version": 3
   },
   "file_extension": ".py",
   "mimetype": "text/x-python",
   "name": "python",
   "nbconvert_exporter": "python",
   "pygments_lexer": "ipython3",
   "version": "3.9.5"
  }
 },
 "nbformat": 4,
 "nbformat_minor": 2
}
